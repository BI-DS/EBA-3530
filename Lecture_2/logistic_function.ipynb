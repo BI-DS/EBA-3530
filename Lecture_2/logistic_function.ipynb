{
  "nbformat": 4,
  "nbformat_minor": 0,
  "metadata": {
    "colab": {
      "provenance": [],
      "authorship_tag": "ABX9TyN6TYV9De3pvKCX0iuCdpA9",
      "include_colab_link": true
    },
    "kernelspec": {
      "name": "python3",
      "display_name": "Python 3"
    },
    "language_info": {
      "name": "python"
    }
  },
  "cells": [
    {
      "cell_type": "markdown",
      "metadata": {
        "id": "view-in-github",
        "colab_type": "text"
      },
      "source": [
        "<a href=\"https://colab.research.google.com/github/BI-DS/EBA-3530/blob/main/Lecture_2/logistic_function.ipynb\" target=\"_parent\"><img src=\"https://colab.research.google.com/assets/colab-badge.svg\" alt=\"Open In Colab\"/></a>"
      ]
    },
    {
      "cell_type": "markdown",
      "source": [
        "# Logistic function"
      ],
      "metadata": {
        "id": "TbyVFLtWfNiO"
      }
    },
    {
      "cell_type": "code",
      "source": [
        "# import libraries needed\n",
        "import numpy as np\n",
        "import matplotlib.pyplot as plt"
      ],
      "metadata": {
        "id": "_-9xx66WfWUF"
      },
      "execution_count": null,
      "outputs": []
    },
    {
      "cell_type": "code",
      "source": [
        "# define the logistic function as a lambda function\n",
        "f = lambda z: np.exp(z)/(1+np.exp(z))\n",
        "\n",
        "# just define continous values for z = x'B\n",
        "z = np.linspace(-9,9,100)\n",
        "\n",
        "# simulate binary variables\n",
        "np.random.seed(seed=1234)\n",
        "y = np.random.binomial(1, 0.2, 10)"
      ],
      "metadata": {
        "id": "moqy52ltfgpp"
      },
      "execution_count": null,
      "outputs": []
    },
    {
      "cell_type": "markdown",
      "source": [
        "# Simple plot"
      ],
      "metadata": {
        "id": "AHbVTfHTaxPl"
      }
    },
    {
      "cell_type": "code",
      "source": [
        "# plot logistic link function (page 51)\n",
        "fig = plt.figure()\n",
        "\n",
        "# choose some values for where to plot y. not importat\n",
        "x = np.array([-8.5, -7, -6, -4.5, -2.5, -1.5, 0, 4.5, 6.5, 8])\n",
        "\n",
        "# plot in matplotlib\n",
        "plt.plot(z,f(z),label='Logistic function')\n",
        "plt.scatter(x,y,c='r',label='Binary response')\n",
        "plt.legend()\n",
        "plt.grid()\n",
        "plt.title('Logistic link function')"
      ],
      "metadata": {
        "colab": {
          "base_uri": "https://localhost:8080/",
          "height": 298
        },
        "id": "0QM2HVMqgnbw",
        "outputId": "f160014e-b63a-4e53-d334-65f63dd19652"
      },
      "execution_count": null,
      "outputs": [
        {
          "output_type": "execute_result",
          "data": {
            "text/plain": [
              "Text(0.5, 1.0, 'Logistic link function')"
            ]
          },
          "metadata": {},
          "execution_count": 3
        },
        {
          "output_type": "display_data",
          "data": {
            "text/plain": [
              "<Figure size 432x288 with 1 Axes>"
            ],
            "image/png": "[encoded data removed]"
          },
          "metadata": {
            "needs_background": "light"
          }
        }
      ]
    },
    {
      "cell_type": "code",
      "source": [],
      "metadata": {
        "id": "_cJQ4OK9jYie"
      },
      "execution_count": null,
      "outputs": []
    }
  ]
}
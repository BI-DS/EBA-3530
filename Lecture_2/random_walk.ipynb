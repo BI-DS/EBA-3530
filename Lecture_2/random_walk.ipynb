{
  "nbformat": 4,
  "nbformat_minor": 0,
  "metadata": {
    "colab": {
      "provenance": [],
      "toc_visible": true,
      "authorship_tag": "ABX9TyNxg232zUWfKOuNQdmou1gS",
      "include_colab_link": true
    },
    "kernelspec": {
      "name": "python3",
      "display_name": "Python 3"
    },
    "language_info": {
      "name": "python"
    }
  },
  "cells": [
    {
      "cell_type": "markdown",
      "metadata": {
        "id": "view-in-github",
        "colab_type": "text"
      },
      "source": [
        "<a href=\"https://colab.research.google.com/github/BI-DS/EBA-3530/blob/main/Lecture_2/random_walk.ipynb\" target=\"_parent\"><img src=\"https://colab.research.google.com/assets/colab-badge.svg\" alt=\"Open In Colab\"/></a>"
      ]
    },
    {
      "cell_type": "code",
      "execution_count": 2,
      "metadata": {
        "id": "AZ5F5tDRVWgD"
      },
      "outputs": [],
      "source": [
        "import numpy as np\n",
        "from matplotlib import pyplot as plt"
      ]
    },
    {
      "cell_type": "markdown",
      "source": [
        "# Time series\n",
        "\n",
        "Let's start with some basic examples about time series data and models."
      ],
      "metadata": {
        "id": "jZ4apUzkz6Fm"
      }
    },
    {
      "cell_type": "markdown",
      "source": [
        "## 1) White noise\n",
        "\n",
        "Remember that in time series models we assume that the depent variable at time $t$ is decribed by its previous value $y_{t-1}$ and an error term $\\epsilon_t$ that it is a white noise.\n",
        "\n",
        "* 1.1) Simulate 10,000 realizations of a white noise, which for simplicity is assumed to be Gaussian distributed with expectation 0 and variance 1."
      ],
      "metadata": {
        "id": "cy48HRJScLrd"
      }
    },
    {
      "cell_type": "code",
      "source": [
        "# @title 1.1) White noise suggested solution\n",
        "\n",
        "T = 10000\n",
        "samples = np.random.normal(size=T)\n",
        "\n",
        "plt.plot(samples)\n",
        "plt.xlabel('time unit')\n",
        "plt.title('White Noise')\n",
        "plt.show()"
      ],
      "metadata": {
        "id": "-s6HmL8dcQfG",
        "cellView": "form"
      },
      "execution_count": null,
      "outputs": []
    },
    {
      "cell_type": "markdown",
      "source": [
        "## 2) Random walk\n",
        "\n",
        "The easiest model for time series is the random walk, which *says* that today value of a  variable $y_t$ is described by its previous value plus a white noise, i.e.\n",
        "\n",
        "$$\n",
        "y_t = y_{t-1} + \\epsilon_t\n",
        "$$\n",
        "\n",
        "\n",
        "* 2.1) Simulate a random walk process where the white noise $\\epsilon_t \\in [-1,0,1]$, i.e. $\\epsilon_t$ can be any of these values with equal probability."
      ],
      "metadata": {
        "id": "yGZA2IwncRMc"
      }
    },
    {
      "cell_type": "code",
      "source": [
        "# @title 2.1) Random walk suggested solution\n",
        "\n",
        "y0 = 0\n",
        "# Im taking an easy approach here.\n",
        "# I only allow (in a way) the gaussian white noise\n",
        "# to take 3 possible values (-1,0,1). Otherwise, you\n",
        "# need to use something more fancy to get the\n",
        "# same plot :)\n",
        "step_set = [-1,0,1]\n",
        "steps = np.random.choice(a=step_set, size=T)\n",
        "\n",
        "# use cumsum to take into account the previous t value\n",
        "# as in a random walk, i.e. y_t = y_t-1\n",
        "path = np.r_[y0, steps].cumsum(0)\n",
        "\n",
        "plt.plot(path)\n",
        "plt.xlabel('time unit')\n",
        "plt.title('Random Walk')\n",
        "plt.show()"
      ],
      "metadata": {
        "id": "rNolPndVVeKg",
        "cellView": "form"
      },
      "execution_count": null,
      "outputs": []
    },
    {
      "cell_type": "markdown",
      "source": [
        "## 3) Specifying Autoregressive (AR) models in `statsmodels`\n",
        "\n",
        "The `statsmodels` package uses a general notation for ARMA (autoregressive with movig average components) models. For this course, it is suficciente to know that the general notation `statsmodels`uses is:\n",
        "\n",
        "\\begin{align}\n",
        "(1-\\beta L)y_t =& \\epsilon \\\\\n",
        "y_t-\\beta Ly_t =& \\epsilon \\\\\n",
        "y_t =& \\beta L y_{t} + \\epsilon \\\\\n",
        "\\end{align}\n",
        "\n",
        "The **lag representation** $L y_t$ is defined as $L y_t = y_{t-1}$, hence\n",
        "\\begin{align}\n",
        "y_t =& \\beta y_{t-1} + \\epsilon\n",
        "\\end{align}\n",
        "\n",
        "The parameters in `statsmodels`  are specified based on the expression $(1-\\beta L)$. Hence, if you want to specify that $\\beta = +0.8$, for `statsmodels` it is  $\\beta = -0.8$ 😲.\n",
        "\n",
        "When you use the function `ArmaProcess` in `statsmodels` you must specify the moving average term (MA). Use a value of 1 for that term (that will include the error term $\\epsilon_t$ in the model). To specify the autoregression term (AR), just specify the expression $(1-\\beta)$ in a `numpy` array.\n",
        "\n",
        "* 3.1) Simulate data from the AR(1) model\n",
        "\n",
        "$$\n",
        "y_t = 0.8y_{t-1} + \\epsilon_t\n",
        "$$\n",
        "\n",
        "and make plots for the AR(1) process and its corresponding autocorrelation function."
      ],
      "metadata": {
        "id": "1u-wlNFwpm5c"
      }
    },
    {
      "cell_type": "code",
      "source": [
        "# @title 3.1) Simulate AR(1) suggested solution\n",
        "\n",
        "# import the module for simulating data\n",
        "from statsmodels.tsa.arima_process import ArmaProcess\n",
        "from statsmodels.graphics.tsaplots import plot_acf\n",
        "\n",
        "# Plot 1: AR parameter = +0.8 (no intercept term)\n",
        "fid, ax = plt.subplots(2,1)\n",
        "# specify ar terms as explained above\n",
        "ar1 = np.array([1, -0.8])\n",
        "# specify ma terms as explained above\n",
        "ma1 = np.array([1])\n",
        "# this is the ar model (no intercept)\n",
        "AR_1 = ArmaProcess(ar1,ma1)\n",
        "#simulate data\n",
        "# NOTE, you can specify the scale parameter which is\n",
        "# the standard deviation for the white noise\n",
        "ar1_data = AR_1.generate_sample(nsample=1000, scale=1)\n",
        "# plot data\n",
        "ax[0].plot(ar1_data)\n",
        "# plot acf\n",
        "plot_acf(ar1_data, alpha=1, lags=20, ax=ax[1])\n",
        "plt.tight_layout()\n",
        "plt.show()"
      ],
      "metadata": {
        "id": "svzAF4vLg5qa",
        "cellView": "form"
      },
      "execution_count": null,
      "outputs": []
    }
  ]
}
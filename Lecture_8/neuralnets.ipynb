{
  "nbformat": 4,
  "nbformat_minor": 0,
  "metadata": {
    "colab": {
      "provenance": [],
      "toc_visible": true,
      "authorship_tag": "ABX9TyM+5XkzrZSdtYTcXKA1qB8+",
      "include_colab_link": true
    },
    "kernelspec": {
      "name": "python3",
      "display_name": "Python 3"
    },
    "language_info": {
      "name": "python"
    }
  },
  "cells": [
    {
      "cell_type": "markdown",
      "metadata": {
        "id": "view-in-github",
        "colab_type": "text"
      },
      "source": [
        "<a href=\"https://colab.research.google.com/github/BI-DS/EBA-3530/blob/main/Lecture_8/neuralnets.ipynb\" target=\"_parent\"><img src=\"https://colab.research.google.com/assets/colab-badge.svg\" alt=\"Open In Colab\"/></a>"
      ]
    },
    {
      "cell_type": "code",
      "execution_count": 22,
      "metadata": {
        "id": "kx5QZM0JJBLX"
      },
      "outputs": [],
      "source": [
        "from tensorflow.keras import layers\n",
        "from tensorflow.keras.models import Sequential\n",
        "import numpy as np\n",
        "import matplotlib.pyplot as plt"
      ]
    },
    {
      "cell_type": "markdown",
      "source": [
        "# Neural Networks\n",
        "\n",
        "Let's use `tensorflow` and `keras` to build a feed-forward neural network 🔥"
      ],
      "metadata": {
        "id": "KaMJNm5EMiCu"
      }
    },
    {
      "cell_type": "markdown",
      "source": [
        "## 1) Specify layer by layer and add them to a `Sequential` model"
      ],
      "metadata": {
        "id": "g5we3dgUP8CK"
      }
    },
    {
      "cell_type": "code",
      "source": [
        "# specify number of neurons in the first hidden layer\n",
        "no_neurons   = 5\n",
        "# and the shape of the input data. Note that\n",
        "# you not need to specify the number of rows\n",
        "# only the number of features\n",
        "input_shape  = (2,)\n",
        "# activation function in the hidden layer\n",
        "activation   = 'tanh'"
      ],
      "metadata": {
        "id": "Z5YhHIPjKK9w"
      },
      "execution_count": 8,
      "outputs": []
    },
    {
      "cell_type": "markdown",
      "source": [
        "The `Dense` layer is such a layer where all features in vector $\\mathbf{x}$ are connected to all neurons specified by the parameter `no_neurons`"
      ],
      "metadata": {
        "id": "EaqtLbZrOeD1"
      }
    },
    {
      "cell_type": "code",
      "source": [
        "hidden_layer1 = layers.Dense(no_neurons,\n",
        "          input_shape=input_shape,\n",
        "          activation=activation,\n",
        "          name = 'hidden_layer1'\n",
        "          )"
      ],
      "metadata": {
        "id": "GL_DOuToJyle"
      },
      "execution_count": 9,
      "outputs": []
    },
    {
      "cell_type": "markdown",
      "source": [
        "Now you add your hidden layer to a `Sequential` model, which automatically sends the output to the next type of layer specified in the model"
      ],
      "metadata": {
        "id": "o0NQBn8QO7oM"
      }
    },
    {
      "cell_type": "code",
      "source": [
        "neuralnet = Sequential([\n",
        "                        hidden_layer1\n",
        "                        ])\n",
        "\n",
        "# you can call the method summary to see your model\n",
        "print(neuralnet.summary())"
      ],
      "metadata": {
        "colab": {
          "base_uri": "https://localhost:8080/"
        },
        "id": "KiOG6BgbO6_a",
        "outputId": "ac08d996-1a3f-477d-8a30-9c40750873df"
      },
      "execution_count": 10,
      "outputs": [
        {
          "output_type": "stream",
          "name": "stdout",
          "text": [
            "Model: \"sequential_2\"\n",
            "_________________________________________________________________\n",
            " Layer (type)                Output Shape              Param #   \n",
            "=================================================================\n",
            " hidden_layer1 (Dense)       (None, 5)                 15        \n",
            "                                                                 \n",
            "=================================================================\n",
            "Total params: 15 (60.00 Byte)\n",
            "Trainable params: 15 (60.00 Byte)\n",
            "Non-trainable params: 0 (0.00 Byte)\n",
            "_________________________________________________________________\n",
            "None\n"
          ]
        }
      ]
    },
    {
      "cell_type": "markdown",
      "source": [
        "`Param` shows the number of weights in your model. Why does the model have 15 weights?"
      ],
      "metadata": {
        "id": "blhfe2FyPcIP"
      }
    },
    {
      "cell_type": "markdown",
      "source": [
        "Now you can specify the output layer and add it to your model `neuralnet`"
      ],
      "metadata": {
        "id": "LNWwfu0MPo0C"
      }
    },
    {
      "cell_type": "code",
      "source": [
        "no_neurons   = 1\n",
        "activation   = 'sigmoid'\n",
        "output_layer = layers.Dense(no_neurons,\n",
        "            activation=activation,\n",
        "            name = 'output_layer'\n",
        "            )\n",
        "neuralnet.add(output_layer)\n",
        "print(neuralnet.summary())"
      ],
      "metadata": {
        "colab": {
          "base_uri": "https://localhost:8080/"
        },
        "id": "FXPf2lBtKgki",
        "outputId": "f98e25fd-5e15-4fb6-a886-58ce1cc29cb6"
      },
      "execution_count": 11,
      "outputs": [
        {
          "output_type": "stream",
          "name": "stdout",
          "text": [
            "Model: \"sequential_2\"\n",
            "_________________________________________________________________\n",
            " Layer (type)                Output Shape              Param #   \n",
            "=================================================================\n",
            " hidden_layer1 (Dense)       (None, 5)                 15        \n",
            "                                                                 \n",
            " output_layer (Dense)        (None, 1)                 6         \n",
            "                                                                 \n",
            "=================================================================\n",
            "Total params: 21 (84.00 Byte)\n",
            "Trainable params: 21 (84.00 Byte)\n",
            "Non-trainable params: 0 (0.00 Byte)\n",
            "_________________________________________________________________\n",
            "None\n"
          ]
        }
      ]
    },
    {
      "cell_type": "markdown",
      "source": [
        "## 2) Specify all layers at once\n",
        "\n",
        "of course, you can pass all layers at once to your `Sequential` model"
      ],
      "metadata": {
        "id": "emYhTsysP2LY"
      }
    },
    {
      "cell_type": "code",
      "source": [
        "neuralnet = Sequential([\n",
        "                        hidden_layer1,\n",
        "                        output_layer\n",
        "                        ])\n",
        "print(neuralnet.summary())"
      ],
      "metadata": {
        "colab": {
          "base_uri": "https://localhost:8080/"
        },
        "id": "lv2WHj_VMMeg",
        "outputId": "bf630ee5-b365-477b-8f7e-821a9264628d"
      },
      "execution_count": 5,
      "outputs": [
        {
          "output_type": "stream",
          "name": "stdout",
          "text": [
            "Model: \"sequential_1\"\n",
            "_________________________________________________________________\n",
            " Layer (type)                Output Shape              Param #   \n",
            "=================================================================\n",
            " hidden_layer1 (Dense)       (None, 5)                 15        \n",
            "                                                                 \n",
            " output_layer (Dense)        (None, 1)                 6         \n",
            "                                                                 \n",
            "=================================================================\n",
            "Total params: 21 (84.00 Byte)\n",
            "Trainable params: 21 (84.00 Byte)\n",
            "Non-trainable params: 0 (0.00 Byte)\n",
            "_________________________________________________________________\n",
            "None\n"
          ]
        }
      ]
    },
    {
      "cell_type": "markdown",
      "source": [
        "## 3) Compile the model\n",
        "Once all layers are specified, you need to comiple the model specifying the loss function, optimizer, and metric"
      ],
      "metadata": {
        "id": "yPDkpOF9QofI"
      }
    },
    {
      "cell_type": "code",
      "source": [
        "neuralnet.compile(loss='binary_crossentropy',\n",
        "                  optimizer='adam',\n",
        "                  metrics=['accuracy']\n",
        "                )"
      ],
      "metadata": {
        "id": "ksRAJC21Rcyg"
      },
      "execution_count": 17,
      "outputs": []
    },
    {
      "cell_type": "markdown",
      "source": [
        "Simulate some data for classification ...."
      ],
      "metadata": {
        "id": "q0E4rgTVR5Qe"
      }
    },
    {
      "cell_type": "code",
      "source": [
        "def make_data(n_samples, n_features, cov_class_1, cov_class_2, seed=0, diff=0):\n",
        "     rng = np.random.RandomState(seed)\n",
        "     X = np.concatenate(\n",
        "         [\n",
        "        np.matmul(rng.randn(n_samples-diff, n_features),cov_class_1),\n",
        "        np.matmul(rng.randn(n_samples, n_features),cov_class_2)+np.array([1, 1])\n",
        "         ]\n",
        "     )\n",
        "     y = np.concatenate([np.zeros(n_samples-diff), np.ones(n_samples)])\n",
        "     return X, y\n",
        "\n",
        "covariance = np.array([[0.0, -0.23], [0.83, 0.23]])\n",
        "X, y = make_data(\n",
        "     n_samples=300,\n",
        "     n_features=2,\n",
        "     cov_class_1=covariance,\n",
        "     cov_class_2=covariance,\n",
        "     seed=0,\n",
        ")"
      ],
      "metadata": {
        "id": "M3ax6UZvRoVQ"
      },
      "execution_count": 14,
      "outputs": []
    },
    {
      "cell_type": "markdown",
      "source": [
        "## 4) Train your model\n",
        "\n",
        "Simply call the `fit` method and pass the data and number of epochs 😃"
      ],
      "metadata": {
        "id": "H2WJR2GeSAep"
      }
    },
    {
      "cell_type": "code",
      "source": [
        "neuralnet.fit(X,y,epochs=10)"
      ],
      "metadata": {
        "colab": {
          "base_uri": "https://localhost:8080/"
        },
        "id": "6GuKSn9nSEI5",
        "outputId": "9a86e72b-3895-4e91-a4f6-c568b0df19d0"
      },
      "execution_count": 24,
      "outputs": [
        {
          "output_type": "stream",
          "name": "stdout",
          "text": [
            "Epoch 1/10\n",
            "19/19 [==============================] - 0s 2ms/step - loss: 0.1822 - accuracy: 0.9450\n",
            "Epoch 2/10\n",
            "19/19 [==============================] - 0s 2ms/step - loss: 0.1806 - accuracy: 0.9450\n",
            "Epoch 3/10\n",
            "19/19 [==============================] - 0s 2ms/step - loss: 0.1791 - accuracy: 0.9450\n",
            "Epoch 4/10\n",
            "19/19 [==============================] - 0s 2ms/step - loss: 0.1777 - accuracy: 0.9450\n",
            "Epoch 5/10\n",
            "19/19 [==============================] - 0s 2ms/step - loss: 0.1762 - accuracy: 0.9450\n",
            "Epoch 6/10\n",
            "19/19 [==============================] - 0s 2ms/step - loss: 0.1748 - accuracy: 0.9450\n",
            "Epoch 7/10\n",
            "19/19 [==============================] - 0s 2ms/step - loss: 0.1735 - accuracy: 0.9450\n",
            "Epoch 8/10\n",
            "19/19 [==============================] - 0s 2ms/step - loss: 0.1726 - accuracy: 0.9467\n",
            "Epoch 9/10\n",
            "19/19 [==============================] - 0s 2ms/step - loss: 0.1712 - accuracy: 0.9450\n",
            "Epoch 10/10\n",
            "19/19 [==============================] - 0s 2ms/step - loss: 0.1704 - accuracy: 0.9467\n"
          ]
        },
        {
          "output_type": "execute_result",
          "data": {
            "text/plain": [
              "<keras.src.callbacks.History at 0x79034ada7ca0>"
            ]
          },
          "metadata": {},
          "execution_count": 24
        }
      ]
    },
    {
      "cell_type": "markdown",
      "source": [
        "## Decision surface\n",
        "\n",
        "Let's plot the decision surface of the neural network using the grid approach"
      ],
      "metadata": {
        "id": "51sVSQBHUEnE"
      }
    },
    {
      "cell_type": "code",
      "source": [
        "x_min, x_max = X[:, 0].min() - 1, X[:, 0].max() + 1\n",
        "y_min, y_max = X[:, 1].min() - 1, X[:, 1].max() + 1\n",
        "xx, yy = np.meshgrid(np.arange(x_min, x_max, 0.1),np.arange(y_min, y_max, 0.1))\n",
        "Z = neuralnet.predict(np.c_[xx.ravel(), yy.ravel()])\n",
        "Z = Z.reshape(xx.shape)"
      ],
      "metadata": {
        "colab": {
          "base_uri": "https://localhost:8080/"
        },
        "id": "AcccBw3US96c",
        "outputId": "318cb8bf-9855-4a46-8f03-ca8ef61f9948"
      },
      "execution_count": 25,
      "outputs": [
        {
          "output_type": "stream",
          "name": "stdout",
          "text": [
            "117/117 [==============================] - 0s 1ms/step\n"
          ]
        }
      ]
    },
    {
      "cell_type": "code",
      "source": [
        "C = plt.contourf(xx,yy,Z,cmap='RdBu',alpha=0.65)\n",
        "plt.colorbar(C)\n",
        "plt.scatter(X[y==0,0], X[y==0,1], c='purple', s=5, label='class 1')\n",
        "plt.scatter(X[y==1,0], X[y==1,1], c='yellow', s=5, label='class 2')\n",
        "plt.scatter(X[0,0], X[0,1], color='red')\n",
        "plt.scatter(X[341,0], X[341,1], color='blue')\n",
        "plt.legend()\n",
        "plt.show()"
      ],
      "metadata": {
        "colab": {
          "base_uri": "https://localhost:8080/",
          "height": 435
        },
        "id": "BRANDiu1TK-l",
        "outputId": "0e405854-d310-4b81-9940-17fb982ea41b"
      },
      "execution_count": 26,
      "outputs": [
        {
          "output_type": "display_data",
          "data": {
            "text/plain": [
              "<Figure size 640x480 with 2 Axes>"
            ],
            "image/png": "[encoded data removed]"
          },
          "metadata": {}
        }
      ]
    }
  ]
}
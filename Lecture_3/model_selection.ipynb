{
  "nbformat": 4,
  "nbformat_minor": 0,
  "metadata": {
    "colab": {
      "provenance": [],
      "toc_visible": true,
      "authorship_tag": "ABX9TyMkOnpSrK2JxoTkiPekySJi",
      "include_colab_link": true
    },
    "kernelspec": {
      "name": "python3",
      "display_name": "Python 3"
    },
    "language_info": {
      "name": "python"
    }
  },
  "cells": [
    {
      "cell_type": "markdown",
      "metadata": {
        "id": "view-in-github",
        "colab_type": "text"
      },
      "source": [
        "<a href=\"https://colab.research.google.com/github/BI-DS/EBA-3530/blob/main/Lecture_3/model_selection.ipynb\" target=\"_parent\"><img src=\"https://colab.research.google.com/assets/colab-badge.svg\" alt=\"Open In Colab\"/></a>"
      ]
    },
    {
      "cell_type": "code",
      "execution_count": null,
      "metadata": {
        "id": "9h1PQUhGbPV6"
      },
      "outputs": [],
      "source": [
        "import pandas as pd\n",
        "import numpy as np\n",
        "from matplotlib import pyplot as plt\n",
        "import seaborn as sns\n",
        "import statsmodels.api as sm\n",
        "from statsmodels.tsa.arima.model import ARIMA\n",
        "from statsmodels.tsa.arima_process import arma_generate_sample as ArmaProcess\n",
        "from statsmodels.graphics.tsaplots import plot_acf\n",
        "from statsmodels.graphics.tsaplots import plot_pacf"
      ]
    },
    {
      "cell_type": "markdown",
      "source": [
        "# Model Selection\n",
        "\n",
        "When modeling any kind of data, not only timeseries, the *final* model is unknown. Actually, given $n$ covarites the number of possible models is given by $2^n-1$.\n",
        "\n",
        "In this notebook, we will explore three different options to arrive to the final model:\n",
        "* Using information criteria models, e.g., AIC and BIC\n",
        "* Using a performance metric in an out-of-sample test\n",
        "* Looking into ACF and PACF plots\n",
        "\n",
        "Note, the first two approaches are general, i.e. they can be used for other modeling techniques and not only for timeseries. On the other hand, the last approach is only for timeseries data."
      ],
      "metadata": {
        "id": "dLSoUSAEgte2"
      }
    },
    {
      "cell_type": "code",
      "source": [
        "# load the dataset from the course's repo\n",
        "url = 'https://raw.githubusercontent.com/BI-DS/EBA-3530/main/Lecture_3/timeseries_choosing_q.csv'\n",
        "y = pd.read_csv(url, delimiter=',',header=None).values\n",
        "print('The size of the timeseries is {}'.format(y.shape[0]))"
      ],
      "metadata": {
        "id": "DwbMES7ifPIg"
      },
      "execution_count": null,
      "outputs": []
    },
    {
      "cell_type": "markdown",
      "source": [
        "## 1) Visualization\n",
        "As usual, let's look at some plots. Start by:\n",
        " * 1.1) Plot the time series $y$. Assume that the frequency of the data is *days*.\n",
        " * 1.2) Create a figure with two subplot and plot the autocorrelation function in the first subplot and the partial autocorrelation function in the second subplot. In both cases, plot upto 20 lags."
      ],
      "metadata": {
        "id": "BjSrnSf5XgFj"
      }
    },
    {
      "cell_type": "code",
      "source": [
        "# @title 1.1) suggested solution\n",
        "fig = plt.figure(figsize=(15,4))\n",
        "plt.title('Time series data')\n",
        "plt.xlabel('Days')\n",
        "plt.ylabel('y')\n",
        "plt.plot(y)\n",
        "plt.show()"
      ],
      "metadata": {
        "id": "AIeiKmdkbeFm",
        "cellView": "form"
      },
      "execution_count": null,
      "outputs": []
    },
    {
      "cell_type": "code",
      "source": [
        "# @title 1.2) suggested solution\n",
        "fig, axs = plt.subplots(1,2,figsize=(15,4))\n",
        "plot_acf(y, lags=20, ax=axs[0])\n",
        "plot_pacf(y, lags=20, ax=axs[1])\n",
        "plt.show()"
      ],
      "metadata": {
        "cellView": "form",
        "id": "40xZa2UHIyCZ"
      },
      "execution_count": null,
      "outputs": []
    },
    {
      "cell_type": "markdown",
      "source": [
        "## 2) Model Selection\n",
        "Let's consider the following five models:\n",
        "* M1: $y_t = y_{t-1} + e_t$\n",
        "* M2: $y_t = y_{t-1} +y_{t-2} + e_t$\n",
        "* M3: $y_t = y_{t-1} +y_{t-2} +y_{t-3}+ e_t$\n",
        "* M4: $y_t = y_{t-1} +y_{t-2} +y_{t-3} +y_{t-4} + e_t$\n",
        "* M5: $y_t = y_{t-1} +y_{t-2} +y_{t-3} +y_{t-4} +y_{t-5} + e_t$\n",
        "\n",
        "2.1) define each of the five models using a tuple that specifies the number of lags, integrated, and moving average component of the model. Place the 5 tuples in a list.\n",
        "\n",
        "2.2) Write a for-loop that iterates over the list you created in the above exercise. Inside the loop, fit the corresponding AR(p) model and get the AIC and BIC values. Append them in a list. Finally, after the loop has iterated over all models, get the smallest AIC and BIC value and print out the AR(p) corresponing to these values."
      ],
      "metadata": {
        "id": "SeqxsvpaiKKg"
      }
    },
    {
      "cell_type": "code",
      "source": [
        "# @title 2.1) suggested solution\n",
        "\n",
        "# define all 5 models in a list with tupples\n",
        "# each tuple specifies the number of lags in\n",
        "# the AR process\n",
        "orders = [(1,0,0),(2,0,0),(3,0,0),(4,0,0),(5,0,0)]"
      ],
      "metadata": {
        "id": "v_3tNbgmjbwk",
        "colab": {
          "base_uri": "https://localhost:8080/"
        },
        "cellView": "form",
        "outputId": "c7af0ee5-afc7-4220-d12d-b0bdea54f43d"
      },
      "execution_count": null,
      "outputs": [
        {
          "output_type": "stream",
          "name": "stdout",
          "text": [
            "[(1, 0, 0), (2, 0, 0), (3, 0, 0), (4, 0, 0), (5, 0, 0)]\n"
          ]
        }
      ]
    },
    {
      "cell_type": "code",
      "source": [
        "# @title 2.2) suggested solution\n",
        "all_aic = []\n",
        "all_bic = []\n",
        "\n",
        "# loop through the 5 models\n",
        "for i,order in enumerate(orders):\n",
        "  # define and fit AR model\n",
        "  model = ARIMA(y,order=order).fit()\n",
        "  # get AIC and BIC from the fitted model\n",
        "  all_aic.append(model.aic)\n",
        "  all_bic.append(model.bic)\n",
        "\n",
        "  print('Model with {0} lag has AIC {1:.3f} and BIC {2:.3f}'\\\n",
        "        .format(i+1,model.aic, model.bic))\n",
        "\n",
        "print('The winner model accordig with AIC is {} !!!'\\\n",
        "      .format(orders[np.argmin(all_aic)]))\n",
        "print('The winner model accordig with BIC is {} !!!'\\\n",
        "      .format(orders[np.argmin(all_bic)]))"
      ],
      "metadata": {
        "id": "nKNO8iXcdlXC",
        "colab": {
          "base_uri": "https://localhost:8080/"
        },
        "outputId": "243ea765-932e-4820-a439-8757020d0a12",
        "cellView": "form"
      },
      "execution_count": null,
      "outputs": [
        {
          "output_type": "stream",
          "name": "stdout",
          "text": [
            "Model with 1 lag has AIC 2962.559 and BIC 2977.283\n",
            "Model with 2 lag has AIC 2856.605 and BIC 2876.237\n",
            "Model with 3 lag has AIC 2857.858 and BIC 2882.396\n",
            "Model with 4 lag has AIC 2859.268 and BIC 2888.715\n",
            "Model with 5 lag has AIC 2860.057 and BIC 2894.411\n",
            "The winner model accordig with AIC is (2, 0, 0) !!!\n",
            "The winner model accordig with BIC is (2, 0, 0) !!!\n"
          ]
        }
      ]
    },
    {
      "cell_type": "markdown",
      "source": [
        "##3) Out-of-sample performance\n",
        "\n",
        "3.1) Choose the first 950 observations to train each of the five models in 2.1), and the last 50 observations to test the out-of-sample performance of the models Use the following performance metrics to measure model performance:\n",
        "* mean square error (mse)\n",
        "* root mean square error (rmse)"
      ],
      "metadata": {
        "id": "QEheG9IKoDcY"
      }
    },
    {
      "cell_type": "code",
      "source": [
        "# @title 3.1) suggested solution\n",
        "\n",
        "# define train and test data sets\n",
        "no_obs_tr = 950\n",
        "y_tr = y[:no_obs_tr]\n",
        "y_te = y[no_obs_tr:]\n",
        "all_mse = []\n",
        "all_rmse = []\n",
        "\n",
        "# loop through the 5 diff models\n",
        "for i,order in enumerate(orders):\n",
        "  # define and fit AR model\n",
        "  model = ARIMA(y_tr, order=order).fit()\n",
        "\n",
        "  # Forecast\n",
        "  horizon = y_te.shape[0]\n",
        "  y_hat = model.get_forecast(horizon).summary_frame()['mean'].values\n",
        "\n",
        "  #calculate mse and rmse\n",
        "  mse = np.mean((y_hat - y_te)**2)\n",
        "  rmse = np.mean((y_hat - y_te)**2)**0.5\n",
        "\n",
        "  # save metrics\n",
        "  all_mse.append(mse)\n",
        "  all_rmse.append(rmse)\n",
        "  print('Model with {0} lag has mse {1:.3f} and rmse {2:.3f}'\\\n",
        "        .format(i+1,mse,rmse))\n",
        "\n",
        "print('The winner model accordig with mse is {} !!!'\\\n",
        "      .format(orders[np.argmin(all_mse)]))\n",
        "print('The winner model accordig with rmse is {} !!!'\\\n",
        "      .format(orders[np.argmin(all_rmse)]))"
      ],
      "metadata": {
        "id": "-CJjAznEkAo3",
        "colab": {
          "base_uri": "https://localhost:8080/"
        },
        "outputId": "166f6ef3-8b40-410f-9f15-f89aea9f4c1a",
        "cellView": "form"
      },
      "execution_count": null,
      "outputs": [
        {
          "output_type": "stream",
          "name": "stdout",
          "text": [
            "Model with 1 lag has mse 4.386 and rmse 2.094\n",
            "Model with 2 lag has mse 3.753 and rmse 1.937\n",
            "Model with 3 lag has mse 3.711 and rmse 1.926\n",
            "Model with 4 lag has mse 3.631 and rmse 1.905\n",
            "Model with 5 lag has mse 3.748 and rmse 1.936\n",
            "The winner model accordig with mse is (4, 0, 0) !!!\n",
            "The winner model accordig with rmse is (4, 0, 0) !!!\n"
          ]
        }
      ]
    },
    {
      "cell_type": "markdown",
      "source": [
        "**Bonus Question:** use different time periods for the training sample and create a loop that iterates through them, fitting the 5 models from 2.1). Do you obtain different results?\n",
        "\n",
        "**Tips:** You will need two loops, something like this:\n",
        "\n",
        "```\n",
        "for n in no_obs_tr:\n",
        "  #here you define y_tr and y_te using n\n",
        "  for i,order in enumerate(orders):\n",
        "```\n"
      ],
      "metadata": {
        "id": "ISffB329XuWT"
      }
    },
    {
      "cell_type": "markdown",
      "source": [
        "## 4) ACF and PACF\n",
        "This approach only applies to timeseries models, e.g. AR, MA or ARMA.\n",
        "\n",
        "According with *Shumway, R. H., Stoffer, D. S., & Stoffer, D. S. (2000). Time series analysis and its applications (Vol. 3). New York: springer*, we can select the number of lags (p) in an autoregressive (AR) model by looking into the autocorrelation function (ACF) and the partial autocorreltation function (PACF).\n",
        "\n",
        "As shown by the table below, an AR process shows ACFs that tails off. In other words, the ACF decreases gradually. On the other hand, the PACF for an AR process cuts off after lag p. That is, becomes zero in statistical terms.  \n",
        "\n",
        "|     | AR(p) |\n",
        "| --- | ---   |\n",
        "| ACF | Tails off |\n",
        "| PACF| Cuts off after lag p|\n",
        "\n",
        "\n",
        "4.1) Plot (again) the ACF and PACF for the time series $y$"
      ],
      "metadata": {
        "id": "JaZABzw2tVHy"
      }
    },
    {
      "cell_type": "code",
      "source": [
        "# @title 4.1) suggested solution\n",
        "\n",
        "# plot the first 20 lags\n",
        "fig, axs = plt.subplots(1,2,figsize=(15,4))\n",
        "plot_acf(y, lags=20, ax=axs[0])\n",
        "plot_pacf(y, lags=20, ax=axs[1])\n",
        "plt.show()"
      ],
      "metadata": {
        "id": "i2LWTrbYshGw",
        "cellView": "form"
      },
      "execution_count": null,
      "outputs": []
    },
    {
      "cell_type": "markdown",
      "source": [
        "The ACF (left diagram) clearly tails off and the PACF (right diagram) becomes 0 after lag 2.\n",
        "\n",
        "**Question:** What do these results suggest?"
      ],
      "metadata": {
        "id": "2yDZo5Q2wsLs"
      }
    }
  ]
}
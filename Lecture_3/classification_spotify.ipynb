{
  "nbformat": 4,
  "nbformat_minor": 0,
  "metadata": {
    "colab": {
      "provenance": [],
      "toc_visible": true,
      "authorship_tag": "ABX9TyNlnUamwGEsN4+D9YEhW+ag",
      "include_colab_link": true
    },
    "kernelspec": {
      "name": "python3",
      "display_name": "Python 3"
    },
    "language_info": {
      "name": "python"
    }
  },
  "cells": [
    {
      "cell_type": "markdown",
      "metadata": {
        "id": "view-in-github",
        "colab_type": "text"
      },
      "source": [
        "<a href=\"https://colab.research.google.com/github/BI-DS/EBA-3530/blob/main/Lecture_3/classification_spotify.ipynb\" target=\"_parent\"><img src=\"https://colab.research.google.com/assets/colab-badge.svg\" alt=\"Open In Colab\"/></a>"
      ]
    },
    {
      "cell_type": "markdown",
      "source": [
        "# Classification of songs in Spotify\n",
        "\n",
        "Spotify assigns 13 different musical attributes/features to each song (see this [link](https://developer.spotify.com/console/get-audio-features-track/)). These song attributes, or features, are used to recommend new music to spotify's users. The features are mostly numerical values. Spotify also assigns a **popularity score** based on the total number of clicks for a given song. There is a copy of such a data in our repository. Alternatively, you can get a sample from [kaggle](https://www.kaggle.com/tomigelo/spotify-audio-features/home).\n",
        "\n",
        "The question is: can we classify songs as \"popular\" based on their musical attributes?"
      ],
      "metadata": {
        "id": "TKRlFDvGkL4R"
      }
    },
    {
      "cell_type": "code",
      "source": [
        "# load libraries\n",
        "import matplotlib.pyplot as plt\n",
        "import seaborn as sns\n",
        "import numpy as np\n",
        "import pandas as pd\n",
        "import statsmodels.api as sm\n",
        "# useful libraries for k-fold CV for cross-sectional data\n",
        "from sklearn.model_selection import KFold\n",
        "from sklearn.model_selection import cross_val_score\n",
        "from sklearn.model_selection import cross_validate"
      ],
      "metadata": {
        "id": "k89GHFdAljbR"
      },
      "execution_count": 2,
      "outputs": []
    },
    {
      "cell_type": "markdown",
      "source": [
        "useful wrapper for statsmodels"
      ],
      "metadata": {
        "id": "NOJujke_1DiM"
      }
    },
    {
      "cell_type": "code",
      "source": [
        "\"\"\" sklearn-style wrapper for statsmodels regressors \"\"\"\n",
        "from sklearn.base import BaseEstimator, RegressorMixin\n",
        "class SMWrapper(BaseEstimator, RegressorMixin):\n",
        "    def __init__(self, model_class, fit_intercept=True):\n",
        "        self.model_class = model_class\n",
        "        self.fit_intercept = fit_intercept\n",
        "    def fit(self, X, y):\n",
        "        if self.fit_intercept:\n",
        "            X = sm.add_constant(X)\n",
        "        self.model_ = self.model_class(y, X)\n",
        "        self.results_ = self.model_.fit(disp=0)\n",
        "        return self\n",
        "    def predict(self, X):\n",
        "        if self.fit_intercept:\n",
        "            X = sm.add_constant(X)\n",
        "        return self.results_.predict(X)"
      ],
      "metadata": {
        "id": "hNhNR7CF1Jot"
      },
      "execution_count": 3,
      "outputs": []
    },
    {
      "cell_type": "markdown",
      "source": [
        "1) Load the dataset\n",
        "\n",
        "* 1.1) load the file `spotify.csv`from the folder Lecture_2 and assign the following column names to a `Pandas` dataframe:\n",
        "\n",
        "    'artist', 'track_id', 'track_name', 'acousticness', 'danceability','duration_ms', 'energy', 'instrumentalness', 'key', 'liveness',    'loudness','mode', 'speechiness', 'tempo','time_signature', 'valence', 'popularity'\n"
      ],
      "metadata": {
        "id": "YWeinPZu1Vwd"
      }
    },
    {
      "cell_type": "code",
      "execution_count": 4,
      "metadata": {
        "id": "-waNaYQmdeVS",
        "colab": {
          "base_uri": "https://localhost:8080/"
        },
        "outputId": "630e1163-41fc-42a4-8ec0-1ad71593961b",
        "cellView": "form"
      },
      "outputs": [
        {
          "output_type": "stream",
          "name": "stdout",
          "text": [
            "The data set has 130662 observations with 17 features.\n"
          ]
        }
      ],
      "source": [
        "# @title 1.1) load csv into a dataframe\n",
        "\n",
        "# this is the address where the data is at github\n",
        "url='https://raw.githubusercontent.com/BI-DS/EBA-3530/main/Lecture_2/spotify.csv'\n",
        "\n",
        "# load it into a data frame\n",
        "col_names = ['artist', 'track_id', 'track_name', 'acousticness', 'danceability',\n",
        "             'duration_ms', 'energy', 'instrumentalness', 'key', 'liveness',\n",
        "             'loudness','mode', 'speechiness', 'tempo', 'time_signature',\n",
        "             'valence', 'popularity']\n",
        "\n",
        "# read csv file\n",
        "df = pd.read_csv(url, delimiter=',', names=col_names, header=1)\n",
        "print('The data set has {} observations with {} features.'.\\\n",
        "      format(df.shape[0],df.shape[1]))"
      ]
    },
    {
      "cell_type": "markdown",
      "source": [
        "## 2) Threshold on continous variables\n",
        "\n",
        "We can convert any continous variable $y$ into a binary response by defining a **thershold** value. That is, if y > thershold then y = 1, else y = 0.\n",
        "\n",
        "* 2.1) plot a normalized histogram of the vaariable `popularity` together with the threshold = 35"
      ],
      "metadata": {
        "id": "cM1Ma-av1T3w"
      }
    },
    {
      "cell_type": "code",
      "source": [
        "# @title 2.1) visualize histogram and thershold\n",
        "\n",
        "# so lets definy a threhold for the popularity socre at spotify\n",
        "threshold = 35\n",
        "\n",
        "# I am defining a function to plot a density function\n",
        "def plot_density(df, thershold):\n",
        "    # set palette\n",
        "    sns.set_palette('muted')\n",
        "\n",
        "    # create initial figure\n",
        "    fig = plt.figure(figsize=(8,5))\n",
        "    ax = fig.add_subplot(111)\n",
        "\n",
        "    # plot density\n",
        "    sns.histplot(df['popularity'], color='g', label=\"Popularity Score\",\\\n",
        "                 kde=True, stat=\"density\", linewidth=0, bins=25)\\\n",
        "               .set_title(\"Distribution of Popularity Scores - Entire Data Set\")\n",
        "    # plot the threshold\n",
        "    plt.vlines(threshold, 0, 0.05, colors='r', label='Threshold')\n",
        "\n",
        "    # create x and y axis labels\n",
        "    plt.xlabel(\"Popularity\")\n",
        "    plt.ylabel(\"Density\")\n",
        "    plt.legend()\n",
        "\n",
        "    plt.show()\n",
        "\n",
        "# plot the score density together with\n",
        "# the threshold\n",
        "plot_density(df, threshold)"
      ],
      "metadata": {
        "id": "0adxI6-vrUkz",
        "colab": {
          "base_uri": "https://localhost:8080/",
          "height": 487
        },
        "cellView": "form",
        "outputId": "e7410558-f5e1-4bab-9e27-345ddff75444"
      },
      "execution_count": 6,
      "outputs": [
        {
          "output_type": "display_data",
          "data": {
            "text/plain": [
              "<Figure size 800x500 with 1 Axes>"
            ],
            "image/png": "[encoded data removed]"
          },
          "metadata": {}
        }
      ]
    },
    {
      "cell_type": "markdown",
      "source": [
        "## 3) K-fold cross-validation\n",
        "The idea here is to use the thersehold on the (continous) `popularity` score to derive a binary response variable $y$. Then, using the song features, we classify songs into *popular* or *not popular* using a K-fold cross-validation approach.\n",
        "\n",
        "* 3.1) create a variable called `pop_bib` with equals 1 if `popularity` > threshold, else equals 0"
      ],
      "metadata": {
        "id": "SfuVfqtgfdmK"
      }
    },
    {
      "cell_type": "code",
      "source": [
        "# @title 3.1) binary variable\n",
        "\n",
        "# define binary variable\n",
        "df['pop_bin'] = np.where(df['popularity'] > threshold, 1, 0)"
      ],
      "metadata": {
        "id": "swkH2l9UEPHa",
        "cellView": "form"
      },
      "execution_count": 8,
      "outputs": []
    },
    {
      "cell_type": "markdown",
      "source": [
        "* 3.2) Run a 5, 10, 15, 20 cross-validation for a logistic regression model in `statsmodels` and calculate the `AUC` score for each cross-validation. Use these feature variables as predictiors: 'acousticness', 'danceability', 'duration_ms', 'energy', 'instrumentalness', 'liveness', 'loudness', 'mode', 'speechiness','tempo', 'time_signature', 'valence'"
      ],
      "metadata": {
        "id": "bExE6xbc50A4"
      }
    },
    {
      "cell_type": "code",
      "source": [
        "# @title 3.2) cross-validation\n",
        "\n",
        "# features to use as predictors/covariates\n",
        "x = ['acousticness', 'danceability', 'duration_ms', 'energy', 'instrumentalness'\n",
        "     ,'liveness','loudness','mode','speechiness','tempo','time_signature',\\\n",
        "     'valence']\n",
        "y = ['pop_bin']\n",
        "\n",
        "# get x and y\n",
        "x = df[x].values\n",
        "y = df[y].values\n",
        "\n",
        "# define different number of folds\n",
        "Ks = [5,10,15,20]\n",
        "# lets iterate for each fold\n",
        "for k in Ks:\n",
        "  # indices for the k-folds\n",
        "  kfolds = KFold(n_splits=k, shuffle=True)\n",
        "  # define the model in statsmodels\n",
        "  logistic_regression = sm.Logit\n",
        "  #use the cross_val_score function to fit K models\n",
        "  scores = cross_val_score(SMWrapper(logistic_regression), x, y, cv=kfolds,\\\n",
        "                           scoring='roc_auc')\n",
        "  print('CV with {0} folds has an average AUC {1:.6f} with standard deviation {2:.4f}'.format(k,np.mean(scores),np.std(scores)))\n"
      ],
      "metadata": {
        "colab": {
          "base_uri": "https://localhost:8080/"
        },
        "cellView": "form",
        "id": "F5_jPAiq50qv",
        "outputId": "341d8fb5-a96b-44bd-d998-49677cde9d21"
      },
      "execution_count": 11,
      "outputs": [
        {
          "output_type": "stream",
          "name": "stdout",
          "text": [
            "CV with 5 folds has an average AUC 0.685828 with standard deviation 0.0048\n",
            "CV with 10 folds has an average AUC 0.685747 with standard deviation 0.0044\n",
            "CV with 15 folds has an average AUC 0.685783 with standard deviation 0.0065\n",
            "CV with 20 folds has an average AUC 0.685751 with standard deviation 0.0051\n"
          ]
        }
      ]
    },
    {
      "cell_type": "markdown",
      "source": [
        "$\\color{red}{\\textbf{Question:}}$ Add a loop at the top of the above block where you can use different threshold values and repeat the cross validation.\n",
        "\n",
        "$\\color{red}{\\textbf{Tips:}}$  It can be a good idea to start with these two lines:\n",
        "\n",
        "```\n",
        "thresholds =[25, 35, 45, 55]\n",
        "for threshold in thresholds:\n",
        "```"
      ],
      "metadata": {
        "id": "yMS_EnO6bEaP"
      }
    }
  ]
}
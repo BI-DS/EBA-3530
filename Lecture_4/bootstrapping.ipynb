{
 "cells": [
  {
   "cell_type": "code",
   "execution_count": 1,
   "metadata": {
    "colab": {
     "base_uri": "https://localhost:8080/"
    },
    "executionInfo": {
     "elapsed": 1954,
     "status": "ok",
     "timestamp": 1644412923848,
     "user": {
      "displayName": "rogelio andrade",
      "photoUrl": "https://lh3.googleusercontent.com/a-/AOh14GhXqySB_E_aFOyj-1DEnOzttJa3RmMvZHhdQETKvw=s64",
      "userId": "17933401457496596047"
     },
     "user_tz": -60
    },
    "id": "zE-7B2j0HQ6S",
    "outputId": "57a81f54-b7cb-4e85-b3d4-90d6737d31af"
   },
   "outputs": [
    {
     "name": "stderr",
     "output_type": "stream",
     "text": [
      "/usr/local/lib/python3.7/dist-packages/statsmodels/tools/_testing.py:19: FutureWarning: pandas.util.testing is deprecated. Use the functions in the public API at pandas.testing instead.\n",
      "  import pandas.util.testing as tm\n"
     ]
    }
   ],
   "source": [
    "import numpy as np\n",
    "import statsmodels.api as sm\n",
    "import seaborn as sns\n",
    "from matplotlib import pyplot as plt"
   ]
  },
  {
   "cell_type": "markdown",
   "metadata": {
    "id": "8YNVYU2rQ548"
   },
   "source": [
    "# Bootstrapping\n",
    "\n",
    "We draw observations from a data sample one at a time. After each sampling step is completed, we place the observation back to the data sample. This procedure is called *sampling with replacement*. The non-parametric bootstrap algorithm looks like this:\n",
    "\n",
    "---\n",
    "Pseudo algorithm\n",
    "\n",
    "---\n",
    "<ol>\n",
    "<li> Choose the size (n) for the bootstrapped dataset</li>\n",
    "<li> while i <= B do</li>\n",
    "<ul>\n",
    "<li>Sample with replacement n observations, i.e. $\\{x_i^b\\}_{i=1}^n$</li>\n",
    "<li> Use $\\{x_i^b\\}$ and calculate your estimate $\\hat{\\theta}_b^*$ </li>\n",
    "</ul>\n",
    "<li> Now you have $\\{\\hat{\\theta}_b^*\\}_{b=1}^B=\\hat{\\theta}_1^*,\\hat{\\theta}_2^*,\\cdots,\\hat{\\theta}_B^*$. </li>\n",
    "</ol>\n",
    "\n",
    "---\n",
    "\n",
    "  "
   ]
  },
  {
   "cell_type": "markdown",
   "metadata": {
    "id": "3IfaScOBWuxw"
   },
   "source": [
    "## Bootstrap regression coefficient $\\beta$\n",
    "\n",
    "Assume the true $\\beta=0.5$  is the true parameter in the linear model $y=\\beta x_1 +ϵ$. \n",
    "\n",
    "Let's simulate some data and compare the (**unbiased**) OLS estimate $\\beta_{OLS}$ with the bootstrap estimate $\\hat{\\beta} \\equiv \\hat{\\theta}^*$."
   ]
  },
  {
   "cell_type": "code",
   "execution_count": 5,
   "metadata": {
    "colab": {
     "base_uri": "https://localhost:8080/"
    },
    "executionInfo": {
     "elapsed": 427,
     "status": "ok",
     "timestamp": 1644413648945,
     "user": {
      "displayName": "rogelio andrade",
      "photoUrl": "https://lh3.googleusercontent.com/a-/AOh14GhXqySB_E_aFOyj-1DEnOzttJa3RmMvZHhdQETKvw=s64",
      "userId": "17933401457496596047"
     },
     "user_tz": -60
    },
    "id": "fV5Xn-0ZGmZz",
    "outputId": "7027a2dc-8fd6-4d6d-fa7b-3661db99a273"
   },
   "outputs": [
    {
     "name": "stdout",
     "output_type": "stream",
     "text": [
      "                                 OLS Regression Results                                \n",
      "=======================================================================================\n",
      "Dep. Variable:                      y   R-squared (uncentered):                   0.049\n",
      "Model:                            OLS   Adj. R-squared (uncentered):              0.049\n",
      "Method:                 Least Squares   F-statistic:                              513.4\n",
      "Date:                Wed, 09 Feb 2022   Prob (F-statistic):                   6.79e-111\n",
      "Time:                        13:34:08   Log-Likelihood:                         -30250.\n",
      "No. Observations:               10000   AIC:                                  6.050e+04\n",
      "Df Residuals:                    9999   BIC:                                  6.051e+04\n",
      "Df Model:                           1                                                  \n",
      "Covariance Type:            nonrobust                                                  \n",
      "==============================================================================\n",
      "                 coef    std err          t      P>|t|      [0.025      0.975]\n",
      "------------------------------------------------------------------------------\n",
      "x1             0.5057      0.022     22.659      0.000       0.462       0.549\n",
      "==============================================================================\n",
      "Omnibus:                        3.007   Durbin-Watson:                   2.010\n",
      "Prob(Omnibus):                  0.222   Jarque-Bera (JB):                2.985\n",
      "Skew:                           0.042   Prob(JB):                        0.225\n",
      "Kurtosis:                       3.013   Cond. No.                         1.00\n",
      "==============================================================================\n",
      "\n",
      "Warnings:\n",
      "[1] Standard Errors assume that the covariance matrix of the errors is correctly specified.\n"
     ]
    }
   ],
   "source": [
    "# The true regression parameters\n",
    "b1 = 0.5\n",
    "# The sample size for the original dataset\n",
    "N = 10000\n",
    "# The number of bootstrap simulations\n",
    "B = 10000\n",
    "\n",
    "# Generate x\n",
    "x = 2 + np.random.normal(0,1,N)\n",
    "# Generate the random errors\n",
    "e = 5*np.random.normal(0,1,N)\n",
    "# Generate y\n",
    "y = b1*x + e\n",
    "\n",
    "# fit a linear regression and obtain the parameter estimate\n",
    "ols_model = sm.OLS(y,x).fit()\n",
    "b1_ols = ols_model.params[0]\n",
    "# theoretical 95% confidence interval (bse is the standard error for the \n",
    "# coefficients)\n",
    "asym_95 = [b1_ols - 1.96*ols_model.bse[0], b1_ols + 1.96*ols_model.bse[0]]\n",
    "print(ols_model.summary())"
   ]
  },
  {
   "cell_type": "markdown",
   "metadata": {
    "id": "tZiFLMgf4TkW"
   },
   "source": [
    "Now bootstrap code"
   ]
  },
  {
   "cell_type": "code",
   "execution_count": 6,
   "metadata": {
    "executionInfo": {
     "elapsed": 3566,
     "status": "ok",
     "timestamp": 1644413710368,
     "user": {
      "displayName": "rogelio andrade",
      "photoUrl": "https://lh3.googleusercontent.com/a-/AOh14GhXqySB_E_aFOyj-1DEnOzttJa3RmMvZHhdQETKvw=s64",
      "userId": "17933401457496596047"
     },
     "user_tz": -60
    },
    "id": "qy3Xu3ssHfUe"
   },
   "outputs": [],
   "source": [
    "# list to save the bootstrapped b_1 values\n",
    "b1_bootstrapped=[]\n",
    "for b in range(B):    \n",
    "    # sampling (only an index) with replacement\n",
    "    indx_boot = np.random.choice(x.shape[0], size=N)\n",
    "    \n",
    "    # use the index to sample (with replacement) x and y\n",
    "    yb   = y[indx_boot]    \n",
    "    xb   = x[indx_boot]\n",
    "    \n",
    "    # expand the dimension to get a matrix of sixe N x 1\n",
    "    # so we can use matrix maltiplication later on\n",
    "    xb = xb[:,None]\n",
    "    yb = yb[:,None]\n",
    "\n",
    "    # get OSL estimate via matrix formula (X'X)^(-1)X'y\n",
    "    b1_b = np.dot(np.linalg.inv(np.dot(xb.T,xb)),np.dot(xb.T,yb))[0][0]\n",
    "\n",
    "    # append estimate\n",
    "    b1_bootstrapped.append(b1_b)\n"
   ]
  },
  {
   "cell_type": "markdown",
   "metadata": {
    "id": "Q1BgiKxL5MG0"
   },
   "source": [
    "## Confidence intervals for $\\beta$\n",
    "The list `b1_bootstrapped` contains the bootstrap data set $\\{\\hat{\\theta}_b^*\\}_{b=1}^B$.\n",
    "\n",
    "Assuming that\n",
    "\\begin{equation}\n",
    "\\hat{\\theta}_b^* \\sim N(\\beta_{OLS}, \\hat{s.e.}^2)\n",
    "\\end{equation}\n",
    "\n",
    "we can estimate 95% confidence intervals using\n",
    "\\begin{equation}\n",
    "{\\beta}_{OLS}  \\pm 1.96*s.e.(\\hat{\\beta}^*),\n",
    "\\end{equation}\n",
    "where \n",
    "\\begin{equation}\n",
    "s.e.(\\hat{\\beta}) \\approx \\sqrt{\\frac{1}{B-1} \\sum_{b=1}^B (\\hat{\\beta}_b^*  - \\beta_{OLS})^2}\n",
    "\\end{equation}"
   ]
  },
  {
   "cell_type": "code",
   "execution_count": 7,
   "metadata": {
    "colab": {
     "base_uri": "https://localhost:8080/"
    },
    "executionInfo": {
     "elapsed": 292,
     "status": "ok",
     "timestamp": 1644413793309,
     "user": {
      "displayName": "rogelio andrade",
      "photoUrl": "https://lh3.googleusercontent.com/a-/AOh14GhXqySB_E_aFOyj-1DEnOzttJa3RmMvZHhdQETKvw=s64",
      "userId": "17933401457496596047"
     },
     "user_tz": -60
    },
    "id": "7SrZgTckQEay",
    "outputId": "37f40844-def9-4d35-b87b-2f40b99e0863"
   },
   "outputs": [
    {
     "name": "stdout",
     "output_type": "stream",
     "text": [
      "[0.462283006385209, 0.5491724000844531]\n"
     ]
    }
   ],
   "source": [
    "se_b1 = np.sqrt(np.sum((b1_bootstrapped - b1_ols)**2)/(B-1))\n",
    "bootstr_95 = [b1_ols - 1.96*se_b1, b1_ols + 1.96*se_b1]\n",
    "print(bootstr_95)\n"
   ]
  },
  {
   "cell_type": "code",
   "execution_count": 8,
   "metadata": {
    "colab": {
     "base_uri": "https://localhost:8080/",
     "height": 369
    },
    "executionInfo": {
     "elapsed": 1714,
     "status": "ok",
     "timestamp": 1644413797999,
     "user": {
      "displayName": "rogelio andrade",
      "photoUrl": "https://lh3.googleusercontent.com/a-/AOh14GhXqySB_E_aFOyj-1DEnOzttJa3RmMvZHhdQETKvw=s64",
      "userId": "17933401457496596047"
     },
     "user_tz": -60
    },
    "id": "bZMrQmgmRXi_",
    "outputId": "c72dc24f-c71b-4b48-d915-c34c5343eead"
   },
   "outputs": [
    {
     "data": {
      "image/png": "[encoded data removed]",
      "text/plain": [
       "<Figure size 360x360 with 1 Axes>"
      ]
     },
     "metadata": {
      "needs_background": "light"
     },
     "output_type": "display_data"
    }
   ],
   "source": [
    "sns.displot(b1_bootstrapped,kind='kde',fill=True)\n",
    "plt.vlines(x=b1,ymin=0,ymax=2.2,colors='r',label='true value')\n",
    "plt.plot(bootstr_95,[0.02,0.02],label='Bootstrapped CI')\n",
    "plt.plot(asym_95,[0.05,0.05],label='Asymptotic CI')\n",
    "plt.legend()\n",
    "plt.title(r'Bootstrapped density for $\\beta_1$')\n",
    "plt.tight_layout()\n",
    "plt.savefig('bootstrap_1.pdf')\n",
    "plt.show()"
   ]
  },
  {
   "cell_type": "markdown",
   "metadata": {
    "id": "9eI8nZZyQdHX"
   },
   "source": [
    "## What is the uncertainty on the distribution for $\\exp(\\beta)$?\n",
    "Getting the uncertainty from non-linear transformations on parameters can be impossible using the standard confidence\n",
    "intervals. However, given simulated values from a Bootstrap, one can easily do the transformations and compute the correct confidence intervals/se. Hence, we can do this: "
   ]
  },
  {
   "cell_type": "code",
   "execution_count": 9,
   "metadata": {
    "colab": {
     "base_uri": "https://localhost:8080/",
     "height": 369
    },
    "executionInfo": {
     "elapsed": 899,
     "status": "ok",
     "timestamp": 1644414069779,
     "user": {
      "displayName": "rogelio andrade",
      "photoUrl": "https://lh3.googleusercontent.com/a-/AOh14GhXqySB_E_aFOyj-1DEnOzttJa3RmMvZHhdQETKvw=s64",
      "userId": "17933401457496596047"
     },
     "user_tz": -60
    },
    "id": "uPDzUgJWHzQp",
    "outputId": "e8f4a717-b75e-49a3-8d8e-7cbe252599e5"
   },
   "outputs": [
    {
     "data": {
      "image/png": "[encoded data removed]",
      "text/plain": [
       "<Figure size 360x360 with 1 Axes>"
      ]
     },
     "metadata": {
      "needs_background": "light"
     },
     "output_type": "display_data"
    }
   ],
   "source": [
    "se_b1_exp = np.sqrt(np.sum((np.exp(b1_bootstrapped) - np.exp(b1_ols))**2/(B-1)))\n",
    "b_95_b1_exp_int = [np.exp(b1_ols)- 1.96*se_b1_exp, np.exp(b1_ols) + 1.96*se_b1_exp]\n",
    "\n",
    "sns.displot(np.exp(b1_bootstrapped),kind='kde',fill=True)\n",
    "plt.vlines(x=np.exp(b1),ymin=0,ymax=1.7,colors='r',label='true value')\n",
    "plt.plot(b_95_b1_exp_int,[0.02,0.02],label='Bootstrapped CI')\n",
    "plt.plot(np.exp(asym_95),[0.05,0.05],label='Asymptotic CI')\n",
    "plt.title(r'Bootsrapped density for $\\exp(\\beta_1)$')\n",
    "plt.legend()\n",
    "plt.tight_layout()\n",
    "plt.savefig('bootstrap_2.pdf')\n",
    "plt.show()"
   ]
  }
 ],
 "metadata": {
  "colab": {
   "authorship_tag": "ABX9TyONDi0rC+Vkv1r3zgDpkD/f",
   "collapsed_sections": [],
   "name": "bootstrapping.ipynb",
   "provenance": [],
   "toc_visible": true
  },
  "kernelspec": {
   "display_name": "Python 3 (ipykernel)",
   "language": "python",
   "name": "python3"
  },
  "language_info": {
   "codemirror_mode": {
    "name": "ipython",
    "version": 3
   },
   "file_extension": ".py",
   "mimetype": "text/x-python",
   "name": "python",
   "nbconvert_exporter": "python",
   "pygments_lexer": "ipython3",
   "version": "3.10.6"
  }
 },
 "nbformat": 4,
 "nbformat_minor": 1
}

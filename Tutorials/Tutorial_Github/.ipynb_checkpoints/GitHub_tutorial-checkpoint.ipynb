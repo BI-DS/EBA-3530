{
 "cells": [
  {
   "cell_type": "markdown",
   "metadata": {},
   "source": [
    "# Github Tutorial\n",
    "\n",
    "In this brief tutorial, we are going to talk about Git/GitHub and version control more generally.\n",
    "\n",
    "## 1.0 Version Control\n",
    "\n",
    "Version control allows you to track & manage changes to software and code. The changes are usually stored in a special kind of database. In case you make a mistake, you can simply retrieve an earlier version of the code or compare the erroneous version of code to an older one that was still functioning to help you find the mistake. This helps you improve code constantly without the risk of breaking it. Moreover, whenever you upload a new version of code, you can also submit comments that let \"future you\" know what you actually changed in the past. \n",
    "\n",
    "An additional benefit is that it greatly enhances teamwork. When multiple people work on a piece of code, you want to make sure that code is stored in a central system and not distributed across many local machines. More plainly, you do not want to send code to your collaborators in countless e-mails that are hard to keep track of or are eventually lost. Moreover, when you are working on a piece of code you do not want to disrupt the other team members. Rather, you want to merge your changes to the project once you feel that you are ready. Importantly, you would also like to keep track of changes made by your collaborators to ensure that code is not conflicting. A good version control system allows you to do all of these things.\n",
    "\n",
    "For the reasons outlined above, using version control systems is good practice! Thus we decided to give you a brief introduction and to encourage you to use them. As an incentive, the solutions to the homework problems and tutorial problem sets will only be provided on GitHub. You can find the repository [here](https://github.com/MaximilianSchroeder/EBA3530-Spring2021).\n",
    "\n",
    "## 2.0 Git & GitHub\n",
    "\n",
    "[Git](https://git-scm.com/) is by far the most widely used modern version control system in the world. It is an open source project and thus completely free. Researchers, practitioners, and many companies use it as their standard version control system. It is thus very likely that you will stumble over it in your future. Given its vast user base, there is a lot of community support, online resources, and tutorials. \n",
    "\n",
    "[GitHub](https://github.com/) is a Microsoft subsidiary (but completely free for our purposes) that provides hosting for version control using Git. In essence, it provides additional features on top of Git, such as access management and bug tracking. \n",
    "\n",
    "In combination they offer:\n",
    "* A **Distributed Version Control System (DVCS)**. This means that every collaborator has a local copy of the working code with all its history. Essentially, every collaborator works locally and merges her changes to the project once she is ready. As long as you are connected to the internet, you can work from everywhere and with any machine that is linked to your account. You no longer need USB-sticks, external hard-drives, or .zip-files that you send yourself via e-mail. \n",
    "* **Public** and **Private** repositories. It thus offers the option to make code available to the public or to work on a private project that no other than you and your collaborators can see. You can also follow other community members or receive updates about public repositories that you have subscribed to. You are thus always up do date. You can also `fork` (copy) public repositories to your account which allows you to make changes to them without affecting the `parent`.\n",
    "* **Branching**. This means that you can switch between different versions of your project. Let's say that you have a first version of code ready that is stored in your master branch. Now you decide to add something to the project, but you want to make sure that it works first. In this case you can decide to work in a development branch and play around without affecting the running version of code. Once you are confident, you can merge your changes and update the code stored in the master branch. \n",
    "* **Pages**. As an additional bonus, git actually let's you design and host your own website, also completely for free. \n",
    "\n",
    "I myself use Git/GitHub on almost a daily basis to keep track of changes that I make to code for my research and to collaborate with my co-authors. Moreover, I built and host my website with Git, where version control again allows me to keep track of all changes.\n",
    "\n",
    "## 2.1 Setup\n",
    "\n",
    "I will briefly touch upon how to set up the system and provide resources below. As stated above, the community is huge and a quick Google search will give you a step-by-step guide, much better than I could ever provide. \n",
    "\n",
    "The basic steps are:\n",
    "* Set up a GitHub [user account](https://github.com/).\n",
    "* [Download Git](https://git-scm.com/downloads)\n",
    "* Set up Git with your user account and e-mail. Here is one nice [Online guide](https://kbroman.org/github_tutorial/pages/first_time.html). You can simply follow the steps.\n",
    "* Connect Your computer(s) to Git/GitHub using `ssh` keys. Again follow the steps in the [Online guide](https://kbroman.org/github_tutorial/pages/first_time.html) or in the [Official Documentation](https://docs.github.com/en/free-pro-team@latest/github/authenticating-to-github/generating-a-new-ssh-key-and-adding-it-to-the-ssh-agent).\n",
    "* your done!\n",
    "\n",
    "If you do not like working with Git directly to push changes to GitHub, there is also a [**Desktop App**](https://desktop.github.com/). If you have questions, a quick Google search will likely return the answer you are looking for. You can of course also ask me... "
   ]
  }
 ],
 "metadata": {
  "kernelspec": {
   "display_name": "Python 3",
   "language": "python",
   "name": "python3"
  },
  "language_info": {
   "codemirror_mode": {
    "name": "ipython",
    "version": 3
   },
   "file_extension": ".py",
   "mimetype": "text/x-python",
   "name": "python",
   "nbconvert_exporter": "python",
   "pygments_lexer": "ipython3",
   "version": "3.8.3"
  }
 },
 "nbformat": 4,
 "nbformat_minor": 4
}

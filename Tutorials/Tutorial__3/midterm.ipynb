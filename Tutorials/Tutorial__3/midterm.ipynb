{
 "cells": [
  {
   "cell_type": "code",
   "execution_count": null,
   "metadata": {
    "colab": {
     "base_uri": "https://localhost:8080/"
    },
    "id": "sWRZas6a1FS_",
    "outputId": "8ea37226-7628-4e5d-fedc-489024630dea"
   },
   "outputs": [
    {
     "name": "stderr",
     "output_type": "stream",
     "text": [
      "/usr/local/lib/python3.7/dist-packages/statsmodels/tools/_testing.py:19: FutureWarning: pandas.util.testing is deprecated. Use the functions in the public API at pandas.testing instead.\n",
      "  import pandas.util.testing as tm\n"
     ]
    }
   ],
   "source": [
    "import numpy as np\n",
    "import statsmodels.api as sm\n",
    "import seaborn as sns\n",
    "from matplotlib import pyplot as plt\n",
    "import pandas as pd"
   ]
  },
  {
   "cell_type": "markdown",
   "metadata": {
    "id": "mvB262ya5Lgt"
   },
   "source": [
    "# Midterm "
   ]
  },
  {
   "cell_type": "markdown",
   "metadata": {
    "id": "mdWGm3JO5QFy"
   },
   "source": [
    "## 1) Simulation"
   ]
  },
  {
   "cell_type": "code",
   "execution_count": null,
   "metadata": {
    "id": "CflHHNbm0zcA"
   },
   "outputs": [],
   "source": [
    "# Generate the x values as draws from the multivariate normal distributions\n",
    "cov   = [[1,    0.4, 0],\n",
    "         [0.4,  1.5, 0],\n",
    "         [0,      0, 2]\n",
    "         ]\n",
    "mu = [5,2,1]\n",
    "\n",
    "# 1.1 set numpy seed\n",
    "np.random.seed(102030)\n",
    "\n",
    "# 1.2\n",
    "N = 20\n",
    "x1, x2, x3 = np.random.multivariate_normal(mu, cov, N).T\n"
   ]
  },
  {
   "cell_type": "markdown",
   "metadata": {
    "id": "TdQdoJ2J5Yqy"
   },
   "source": [
    "## 2) OLS, Bootstrapping and Multicollineratity"
   ]
  },
  {
   "cell_type": "code",
   "execution_count": null,
   "metadata": {
    "id": "oY9CcJvyqatg"
   },
   "outputs": [],
   "source": [
    "# 2.1 true process\n",
    "# set seed again\n",
    "np.random.seed(102030)\n",
    "y = 10 + x1 + 5*x2 + np.random.normal(loc=0,scale=1,size=N)"
   ]
  },
  {
   "cell_type": "code",
   "execution_count": null,
   "metadata": {
    "colab": {
     "base_uri": "https://localhost:8080/",
     "height": 494
    },
    "id": "XJTsj1ha1XvX",
    "outputId": "b681c1b6-fd8b-4c88-dbdf-facd844c6891"
   },
   "outputs": [
    {
     "data": {
      "text/html": [
       "<table class=\"simpletable\">\n",
       "<caption>OLS Regression Results</caption>\n",
       "<tr>\n",
       "  <th>Dep. Variable:</th>            <td>y</td>        <th>  R-squared:         </th> <td>   0.987</td>\n",
       "</tr>\n",
       "<tr>\n",
       "  <th>Model:</th>                   <td>OLS</td>       <th>  Adj. R-squared:    </th> <td>   0.985</td>\n",
       "</tr>\n",
       "<tr>\n",
       "  <th>Method:</th>             <td>Least Squares</td>  <th>  F-statistic:       </th> <td>   410.6</td>\n",
       "</tr>\n",
       "<tr>\n",
       "  <th>Date:</th>             <td>Wed, 23 Mar 2022</td> <th>  Prob (F-statistic):</th> <td>2.43e-15</td>\n",
       "</tr>\n",
       "<tr>\n",
       "  <th>Time:</th>                 <td>09:22:19</td>     <th>  Log-Likelihood:    </th> <td> -18.023</td>\n",
       "</tr>\n",
       "<tr>\n",
       "  <th>No. Observations:</th>      <td>    20</td>      <th>  AIC:               </th> <td>   44.05</td>\n",
       "</tr>\n",
       "<tr>\n",
       "  <th>Df Residuals:</th>          <td>    16</td>      <th>  BIC:               </th> <td>   48.03</td>\n",
       "</tr>\n",
       "<tr>\n",
       "  <th>Df Model:</th>              <td>     3</td>      <th>                     </th>     <td> </td>   \n",
       "</tr>\n",
       "<tr>\n",
       "  <th>Covariance Type:</th>      <td>nonrobust</td>    <th>                     </th>     <td> </td>   \n",
       "</tr>\n",
       "</table>\n",
       "<table class=\"simpletable\">\n",
       "<tr>\n",
       "    <td></td>       <th>coef</th>     <th>std err</th>      <th>t</th>      <th>P>|t|</th>  <th>[0.025</th>    <th>0.975]</th>  \n",
       "</tr>\n",
       "<tr>\n",
       "  <th>const</th> <td>   11.1132</td> <td>    0.736</td> <td>   15.100</td> <td> 0.000</td> <td>    9.553</td> <td>   12.673</td>\n",
       "</tr>\n",
       "<tr>\n",
       "  <th>x1</th>    <td>    0.7362</td> <td>    0.166</td> <td>    4.424</td> <td> 0.000</td> <td>    0.383</td> <td>    1.089</td>\n",
       "</tr>\n",
       "<tr>\n",
       "  <th>x2</th>    <td>    5.0497</td> <td>    0.176</td> <td>   28.652</td> <td> 0.000</td> <td>    4.676</td> <td>    5.423</td>\n",
       "</tr>\n",
       "<tr>\n",
       "  <th>x3</th>    <td>    0.3345</td> <td>    0.103</td> <td>    3.253</td> <td> 0.005</td> <td>    0.117</td> <td>    0.553</td>\n",
       "</tr>\n",
       "</table>\n",
       "<table class=\"simpletable\">\n",
       "<tr>\n",
       "  <th>Omnibus:</th>       <td> 2.272</td> <th>  Durbin-Watson:     </th> <td>   1.606</td>\n",
       "</tr>\n",
       "<tr>\n",
       "  <th>Prob(Omnibus):</th> <td> 0.321</td> <th>  Jarque-Bera (JB):  </th> <td>   1.101</td>\n",
       "</tr>\n",
       "<tr>\n",
       "  <th>Skew:</th>          <td>-0.081</td> <th>  Prob(JB):          </th> <td>   0.577</td>\n",
       "</tr>\n",
       "<tr>\n",
       "  <th>Kurtosis:</th>      <td> 1.862</td> <th>  Cond. No.          </th> <td>    27.6</td>\n",
       "</tr>\n",
       "</table><br/><br/>Warnings:<br/>[1] Standard Errors assume that the covariance matrix of the errors is correctly specified."
      ],
      "text/plain": [
       "<class 'statsmodels.iolib.summary.Summary'>\n",
       "\"\"\"\n",
       "                            OLS Regression Results                            \n",
       "==============================================================================\n",
       "Dep. Variable:                      y   R-squared:                       0.987\n",
       "Model:                            OLS   Adj. R-squared:                  0.985\n",
       "Method:                 Least Squares   F-statistic:                     410.6\n",
       "Date:                Wed, 23 Mar 2022   Prob (F-statistic):           2.43e-15\n",
       "Time:                        09:22:19   Log-Likelihood:                -18.023\n",
       "No. Observations:                  20   AIC:                             44.05\n",
       "Df Residuals:                      16   BIC:                             48.03\n",
       "Df Model:                           3                                         \n",
       "Covariance Type:            nonrobust                                         \n",
       "==============================================================================\n",
       "                 coef    std err          t      P>|t|      [0.025      0.975]\n",
       "------------------------------------------------------------------------------\n",
       "const         11.1132      0.736     15.100      0.000       9.553      12.673\n",
       "x1             0.7362      0.166      4.424      0.000       0.383       1.089\n",
       "x2             5.0497      0.176     28.652      0.000       4.676       5.423\n",
       "x3             0.3345      0.103      3.253      0.005       0.117       0.553\n",
       "==============================================================================\n",
       "Omnibus:                        2.272   Durbin-Watson:                   1.606\n",
       "Prob(Omnibus):                  0.321   Jarque-Bera (JB):                1.101\n",
       "Skew:                          -0.081   Prob(JB):                        0.577\n",
       "Kurtosis:                       1.862   Cond. No.                         27.6\n",
       "==============================================================================\n",
       "\n",
       "Warnings:\n",
       "[1] Standard Errors assume that the covariance matrix of the errors is correctly specified.\n",
       "\"\"\""
      ]
     },
     "execution_count": 4,
     "metadata": {},
     "output_type": "execute_result"
    }
   ],
   "source": [
    "# 2.2) OLS\n",
    "x = np.c_[np.ones(N),x1,x2,x3]\n",
    "ols_model = sm.OLS(y,x).fit()\n",
    "ols_model.summary()\n"
   ]
  },
  {
   "cell_type": "markdown",
   "metadata": {
    "id": "K1Rgor0C5z-a"
   },
   "source": [
    "2.3) parameter estimates are listed above. All have significant p values. $\\beta_0$,  $\\beta_1$, $\\beta_2$, and $\\beta_3$ are close to the true values, but not exactly. \n",
    "\n",
    "95% intervals are given in the last two columns. \n",
    "\n"
   ]
  },
  {
   "cell_type": "code",
   "execution_count": null,
   "metadata": {
    "id": "NEo6-Ugb_cVQ"
   },
   "outputs": [],
   "source": [
    "# 2.4 and 2.5 below\n",
    "B = 1000\n",
    "a_bootstrapped=[]\n",
    "b1_bootstrapped=[]\n",
    "b2_bootstrapped=[]\n",
    "b3_bootstrapped=[]\n",
    "for b in range(B):    \n",
    "    # sampling (only an index) with replacement\n",
    "    indx_boot = np.random.choice(x.shape[0], size=N)\n",
    "    \n",
    "    # use the index to sample (with replacement) x and y\n",
    "    yb   = y[indx_boot]    \n",
    "    xb   = x[indx_boot,:]\n",
    "    \n",
    "    # expand the dimension to get a matrix of sixe N x 1\n",
    "    # so we can use matrix maltiplication later on\n",
    "    #xb = xb[:,None]\n",
    "    yb = yb[:,None]\n",
    "\n",
    "    # get OSL estimate via matrix formula (X'X)^(-1)X'y\n",
    "    betas = np.dot(np.linalg.inv(np.dot(xb.T,xb)),np.dot(xb.T,yb))\n",
    "    a_b = betas[0,0]\n",
    "    b1_b = betas[1,0]\n",
    "    b2_b = betas[2,0]\n",
    "    b3_b = betas[3,0]\n",
    "    \n",
    "\n",
    "    # append estimate\n",
    "    a_bootstrapped.append(a_b)\n",
    "    b1_bootstrapped.append(b1_b)\n",
    "    b2_bootstrapped.append(b2_b)\n",
    "    b3_bootstrapped.append(b3_b)"
   ]
  },
  {
   "cell_type": "markdown",
   "metadata": {
    "id": "z4mWAzQW6vNH"
   },
   "source": [
    "2.6) Plotting histograms"
   ]
  },
  {
   "cell_type": "code",
   "execution_count": null,
   "metadata": {
    "colab": {
     "base_uri": "https://localhost:8080/",
     "height": 320
    },
    "id": "ZpqFBBwl_hq6",
    "outputId": "3de4779c-f4a0-4751-e899-cafcb4890533"
   },
   "outputs": [
    {
     "data": {
      "image/png": "[encoded data removed]",
      "text/plain": [
       "<Figure size 1440x360 with 4 Axes>"
      ]
     },
     "metadata": {
      "needs_background": "light"
     },
     "output_type": "display_data"
    }
   ],
   "source": [
    "#2.6)\n",
    "fig, ax = plt.subplots(1,4, figsize=(20,5))\n",
    "sns.histplot(a_bootstrapped,ax=ax[0])\n",
    "sns.histplot(b1_bootstrapped,ax=ax[1])\n",
    "sns.histplot(b2_bootstrapped,ax=ax[2])\n",
    "sns.histplot(b3_bootstrapped,ax=ax[3])\n",
    "plt.show()"
   ]
  },
  {
   "cell_type": "markdown",
   "metadata": {
    "id": "huTmAEGK6-rG"
   },
   "source": [
    "2.6) Pretty much the same picture as OLS estimates, i.e. true values are within the bootstrap estimates.  \n",
    "\n",
    "2.8) For N = 1000 things look much better. Both the OLS and bootstrap estimates recover the true parameters. A bit off for $\\beta_3$ "
   ]
  },
  {
   "cell_type": "code",
   "execution_count": null,
   "metadata": {
    "colab": {
     "base_uri": "https://localhost:8080/",
     "height": 529
    },
    "id": "TxEu00a9_oQr",
    "outputId": "bb9569c2-c280-4e23-8b4c-33c270f1fd72"
   },
   "outputs": [
    {
     "data": {
      "text/html": [
       "<table class=\"simpletable\">\n",
       "<caption>OLS Regression Results</caption>\n",
       "<tr>\n",
       "  <th>Dep. Variable:</th>            <td>y</td>        <th>  R-squared:         </th> <td>   0.979</td>\n",
       "</tr>\n",
       "<tr>\n",
       "  <th>Model:</th>                   <td>OLS</td>       <th>  Adj. R-squared:    </th> <td>   0.976</td>\n",
       "</tr>\n",
       "<tr>\n",
       "  <th>Method:</th>             <td>Least Squares</td>  <th>  F-statistic:       </th> <td>   390.5</td>\n",
       "</tr>\n",
       "<tr>\n",
       "  <th>Date:</th>             <td>Wed, 23 Mar 2022</td> <th>  Prob (F-statistic):</th> <td>6.20e-15</td>\n",
       "</tr>\n",
       "<tr>\n",
       "  <th>Time:</th>                 <td>09:22:54</td>     <th>  Log-Likelihood:    </th> <td> -23.099</td>\n",
       "</tr>\n",
       "<tr>\n",
       "  <th>No. Observations:</th>      <td>    20</td>      <th>  AIC:               </th> <td>   52.20</td>\n",
       "</tr>\n",
       "<tr>\n",
       "  <th>Df Residuals:</th>          <td>    17</td>      <th>  BIC:               </th> <td>   55.19</td>\n",
       "</tr>\n",
       "<tr>\n",
       "  <th>Df Model:</th>              <td>     2</td>      <th>                     </th>     <td> </td>   \n",
       "</tr>\n",
       "<tr>\n",
       "  <th>Covariance Type:</th>      <td>nonrobust</td>    <th>                     </th>     <td> </td>   \n",
       "</tr>\n",
       "</table>\n",
       "<table class=\"simpletable\">\n",
       "<tr>\n",
       "    <td></td>       <th>coef</th>     <th>std err</th>      <th>t</th>      <th>P>|t|</th>  <th>[0.025</th>    <th>0.975]</th>  \n",
       "</tr>\n",
       "<tr>\n",
       "  <th>const</th> <td>   11.4006</td> <td>    0.914</td> <td>   12.478</td> <td> 0.000</td> <td>    9.473</td> <td>   13.328</td>\n",
       "</tr>\n",
       "<tr>\n",
       "  <th>x1</th>    <td>   -0.2526</td> <td>    0.192</td> <td>   -1.313</td> <td> 0.207</td> <td>   -0.658</td> <td>    0.153</td>\n",
       "</tr>\n",
       "<tr>\n",
       "  <th>x2</th>    <td>    4.1368</td> <td>    0.201</td> <td>   20.628</td> <td> 0.000</td> <td>    3.714</td> <td>    4.560</td>\n",
       "</tr>\n",
       "<tr>\n",
       "  <th>x3</th>    <td>    1.9421</td> <td>    0.075</td> <td>   25.865</td> <td> 0.000</td> <td>    1.784</td> <td>    2.101</td>\n",
       "</tr>\n",
       "</table>\n",
       "<table class=\"simpletable\">\n",
       "<tr>\n",
       "  <th>Omnibus:</th>       <td> 9.839</td> <th>  Durbin-Watson:     </th> <td>   1.478</td>\n",
       "</tr>\n",
       "<tr>\n",
       "  <th>Prob(Omnibus):</th> <td> 0.007</td> <th>  Jarque-Bera (JB):  </th> <td>   7.213</td>\n",
       "</tr>\n",
       "<tr>\n",
       "  <th>Skew:</th>          <td> 1.206</td> <th>  Prob(JB):          </th> <td>  0.0271</td>\n",
       "</tr>\n",
       "<tr>\n",
       "  <th>Kurtosis:</th>      <td> 4.685</td> <th>  Cond. No.          </th> <td>2.46e+16</td>\n",
       "</tr>\n",
       "</table><br/><br/>Warnings:<br/>[1] Standard Errors assume that the covariance matrix of the errors is correctly specified.<br/>[2] The smallest eigenvalue is 1.35e-30. This might indicate that there are<br/>strong multicollinearity problems or that the design matrix is singular."
      ],
      "text/plain": [
       "<class 'statsmodels.iolib.summary.Summary'>\n",
       "\"\"\"\n",
       "                            OLS Regression Results                            \n",
       "==============================================================================\n",
       "Dep. Variable:                      y   R-squared:                       0.979\n",
       "Model:                            OLS   Adj. R-squared:                  0.976\n",
       "Method:                 Least Squares   F-statistic:                     390.5\n",
       "Date:                Wed, 23 Mar 2022   Prob (F-statistic):           6.20e-15\n",
       "Time:                        09:22:54   Log-Likelihood:                -23.099\n",
       "No. Observations:                  20   AIC:                             52.20\n",
       "Df Residuals:                      17   BIC:                             55.19\n",
       "Df Model:                           2                                         \n",
       "Covariance Type:            nonrobust                                         \n",
       "==============================================================================\n",
       "                 coef    std err          t      P>|t|      [0.025      0.975]\n",
       "------------------------------------------------------------------------------\n",
       "const         11.4006      0.914     12.478      0.000       9.473      13.328\n",
       "x1            -0.2526      0.192     -1.313      0.207      -0.658       0.153\n",
       "x2             4.1368      0.201     20.628      0.000       3.714       4.560\n",
       "x3             1.9421      0.075     25.865      0.000       1.784       2.101\n",
       "==============================================================================\n",
       "Omnibus:                        9.839   Durbin-Watson:                   1.478\n",
       "Prob(Omnibus):                  0.007   Jarque-Bera (JB):                7.213\n",
       "Skew:                           1.206   Prob(JB):                       0.0271\n",
       "Kurtosis:                       4.685   Cond. No.                     2.46e+16\n",
       "==============================================================================\n",
       "\n",
       "Warnings:\n",
       "[1] Standard Errors assume that the covariance matrix of the errors is correctly specified.\n",
       "[2] The smallest eigenvalue is 1.35e-30. This might indicate that there are\n",
       "strong multicollinearity problems or that the design matrix is singular.\n",
       "\"\"\""
      ]
     },
     "execution_count": 7,
     "metadata": {},
     "output_type": "execute_result"
    }
   ],
   "source": [
    "# 2.9) new model spec.\n",
    "x = np.c_[np.ones(N),x1,x2,(x1+x2)/2]\n",
    "ols_model = sm.OLS(y,x).fit()\n",
    "ols_model.summary()\n"
   ]
  },
  {
   "cell_type": "markdown",
   "metadata": {
    "id": "H4DPB3MK8rDO"
   },
   "source": [
    "2.9) Statsmodels suggests that an eigenvalue is 0, which indicates multicollinearity.\n",
    "\n",
    "2.10) We can fix the problem by i) removing one of the covariates, or ii) use a regularization method, e.g. lasso."
   ]
  },
  {
   "cell_type": "markdown",
   "metadata": {
    "id": "1wJyucgBgNCs"
   },
   "source": [
    "## 3) Timeseries and model selection"
   ]
  },
  {
   "cell_type": "code",
   "execution_count": null,
   "metadata": {
    "id": "iaCwfuIJ9uRl"
   },
   "outputs": [],
   "source": [
    "# load data\n",
    "nile = sm.datasets.get_rdataset(\"Nile\").data"
   ]
  },
  {
   "cell_type": "code",
   "execution_count": null,
   "metadata": {
    "colab": {
     "base_uri": "https://localhost:8080/",
     "height": 513
    },
    "id": "bT16mLyJa-m0",
    "outputId": "09f3c50e-2b91-4cf5-c295-9d799207148a"
   },
   "outputs": [
    {
     "data": {
      "image/png": "[encoded data removed]",
      "text/plain": [
       "<Figure size 432x288 with 1 Axes>"
      ]
     },
     "metadata": {
      "needs_background": "light"
     },
     "output_type": "display_data"
    },
    {
     "data": {
      "image/png": "[encoded data removed]",
      "text/plain": [
       "<Figure size 432x288 with 1 Axes>"
      ]
     },
     "metadata": {
      "needs_background": "light"
     },
     "output_type": "display_data"
    }
   ],
   "source": [
    "# 3.1) plot\n",
    "plt.plot(nile.time,nile.value)\n",
    "plt.vlines(x=1898,ymin=480,ymax=1410,color='r')\n",
    "plt.show()\n",
    "\n",
    "plt.plot(nile.time[nile.time<=1898],nile.value[nile.time<=1898])\n",
    "plt.show()"
   ]
  },
  {
   "cell_type": "code",
   "execution_count": null,
   "metadata": {
    "colab": {
     "base_uri": "https://localhost:8080/",
     "height": 281
    },
    "id": "KNFfrr1NgWVR",
    "outputId": "33e0fb78-8ad7-4468-def9-a1790de58b25"
   },
   "outputs": [
    {
     "data": {
      "image/png": "[encoded data removed]",
      "text/plain": [
       "<Figure size 1080x288 with 2 Axes>"
      ]
     },
     "metadata": {
      "needs_background": "light"
     },
     "output_type": "display_data"
    }
   ],
   "source": [
    "# 3.2)  ACF and PAC\n",
    "from statsmodels.graphics.tsaplots import plot_acf\n",
    "from statsmodels.graphics.tsaplots import plot_pacf\n",
    "y = nile.value[nile.time<=1898]\n",
    "y = nile.value\n",
    "fig, axs = plt.subplots(1,2,figsize=(15,4))\n",
    "plot_acf(y, lags=30, ax=axs[0])\n",
    "plot_pacf(y, lags=30, ax=axs[1])\n",
    "plt.show()"
   ]
  },
  {
   "cell_type": "markdown",
   "metadata": {
    "id": "H3pdtfV2-YsM"
   },
   "source": [
    "3.3) The average annual flow seems to change in 1898. After that year the average flow decreased, which suggests that the data is time-dependent. The ACF is taillingoff and the PACF cuts off after lag 1."
   ]
  },
  {
   "cell_type": "markdown",
   "metadata": {
    "id": "GQ3gHO-U_RL3"
   },
   "source": [
    "3.4) Based on 3.3) the model should be AR(1)"
   ]
  },
  {
   "cell_type": "code",
   "execution_count": null,
   "metadata": {
    "colab": {
     "base_uri": "https://localhost:8080/",
     "height": 351
    },
    "id": "vQrZRyrliZvg",
    "outputId": "73f2c7dd-1333-448a-cf9f-50135f6b8ab2"
   },
   "outputs": [
    {
     "data": {
      "image/png": "[encoded data removed]",
      "text/plain": [
       "<Figure size 864x360 with 1 Axes>"
      ]
     },
     "metadata": {
      "needs_background": "light"
     },
     "output_type": "display_data"
    }
   ],
   "source": [
    "# forecasting\n",
    "from statsmodels.tsa.arima_model import ARIMA\n",
    "from statsmodels.tsa.arima_process import ArmaProcess\n",
    "\n",
    "y_tr = nile.value[:95]\n",
    "y_te = nile.value[95:]\n",
    "\n",
    "#define an AR(1) model\n",
    "model = ARIMA(y_tr, order=(1,0,0)).fit()\n",
    "\n",
    "# Forecast\n",
    "horizon = y_te.shape[0]\n",
    "fc,se,conf = model.forecast(horizon)\n",
    "forecast = pd.Series(fc, index=y_te.index)\n",
    "lower_bound = pd.Series(conf[:, 0], index=y_te.index)\n",
    "upper_bound = pd.Series(conf[:, 1], index=y_te.index)\n",
    "\n",
    "rmse = np.mean((forecast - y_te)**2)**0.5\n",
    "\n",
    "plt.figure(figsize=(12,5))\n",
    "plt.plot(y_tr, label='training')\n",
    "plt.plot(y_te, label='actual')\n",
    "plt.plot(forecast, label='forecast')\n",
    "plt.fill_between(lower_bound.index, lower_bound, upper_bound, \n",
    "                 color='k', alpha=.15)\n",
    "plt.title('Forecast vs Actual\\n rmse: {:.4f}'\\\n",
    "            .format(rmse))\n",
    "plt.legend(loc='upper left', fontsize=8)\n",
    "plt.show()"
   ]
  },
  {
   "cell_type": "markdown",
   "metadata": {
    "id": "CZ0lN_Hd_eBb"
   },
   "source": [
    "3.5) rmse = 176.44 as indicated in the above diagram"
   ]
  },
  {
   "cell_type": "code",
   "execution_count": null,
   "metadata": {
    "colab": {
     "base_uri": "https://localhost:8080/"
    },
    "id": "Ldqruj6RYu_o",
    "outputId": "6235d110-af4c-469b-fc58-e904c5b11113"
   },
   "outputs": [
    {
     "name": "stdout",
     "output_type": "stream",
     "text": [
      "Filling out table 3\n",
      "rmse for model (1, 0, 0) is 176.4413 and aic 1222.3875\n",
      "rmse for model (2, 0, 0) is 198.1999 and aic 1220.1083\n",
      "rmse for model (3, 0, 0) is 199.4829 and aic 1221.1284\n",
      "rmse for model (4, 0, 0) is 201.1570 and aic 1222.9752\n",
      "rmse for model (5, 0, 0) is 207.6714 and aic 1223.7775\n"
     ]
    }
   ],
   "source": [
    "# 3.6) define all AR(p) models\n",
    "orders = [(1,0,0),(2,0,0),(3,0,0),(4,0,0),(5,0,0)]\n",
    "\n",
    "print('Filling out table 3')\n",
    "for order in orders:\n",
    "  model = ARIMA(y_tr, order=order).fit()\n",
    "\n",
    "  # Forecast\n",
    "  horizon = y_te.shape[0]\n",
    "  fc,se,conf = model.forecast(horizon)\n",
    "  forecast = pd.Series(fc, index=y_te.index)\n",
    "\n",
    "  rmse = np.mean((forecast - y_te)**2)**0.5\n",
    "  print('rmse for model {0} is {1:.4f} and aic {2:.4f}'\\\n",
    "        .format(order,rmse,model.aic))"
   ]
  },
  {
   "cell_type": "markdown",
   "metadata": {
    "id": "FRVf0hbf_8yb"
   },
   "source": [
    "3.7) No, based on rmse we select AR(1), while AIC selects AR(2). "
   ]
  },
  {
   "cell_type": "markdown",
   "metadata": {
    "id": "8BcGlwELyHmA"
   },
   "source": [
    "## 4) Classification and PCA"
   ]
  },
  {
   "cell_type": "code",
   "execution_count": null,
   "metadata": {
    "colab": {
     "base_uri": "https://localhost:8080/"
    },
    "id": "--vOmrT0CWrI",
    "outputId": "4c2bbe01-9cb6-4508-b69b-c1d51baaaeae"
   },
   "outputs": [
    {
     "name": "stdout",
     "output_type": "stream",
     "text": [
      "Mounted at /content/gdrive\n"
     ]
    }
   ],
   "source": [
    "from google.colab import drive\n",
    "drive.mount(\"/content/gdrive\")"
   ]
  },
  {
   "cell_type": "markdown",
   "metadata": {
    "id": "ddqctFzUAj-B"
   },
   "source": [
    "I load the dataset by first mounting my gdrive and then reading it from there. Replace the path, or even the function, in `read_csv` with your own one."
   ]
  },
  {
   "cell_type": "code",
   "execution_count": null,
   "metadata": {
    "id": "ph_xGpOMdDhV"
   },
   "outputs": [],
   "source": [
    "from sklearn.model_selection import StratifiedShuffleSplit\n",
    "import statsmodels.api as sm\n",
    "from sklearn.model_selection import KFold\n",
    "from sklearn.model_selection import cross_val_score\n",
    "from sklearn.model_selection import cross_validate\n",
    "from sklearn.metrics import RocCurveDisplay\n",
    "from sklearn import metrics\n",
    "import warnings\n",
    "warnings.filterwarnings(\"ignore\")\n",
    "\n",
    "df = pd.read_csv('./gdrive/MyDrive/Colab Notebooks/santander_dataset.csv',sep=',')\n",
    "y = df[['target']]\n",
    "x = df.drop(['ID_code', 'target'], axis=1)"
   ]
  },
  {
   "cell_type": "code",
   "execution_count": null,
   "metadata": {
    "colab": {
     "base_uri": "https://localhost:8080/"
    },
    "id": "RyneqRpAx9lT",
    "outputId": "705cab06-c391-4fef-db0f-ace2ddb467f8"
   },
   "outputs": [
    {
     "name": "stdout",
     "output_type": "stream",
     "text": [
      "auc in the test dataset: 0.8600\n"
     ]
    }
   ],
   "source": [
    "# 4.1) \n",
    "sss = StratifiedShuffleSplit(n_splits=1, test_size=0.3)\n",
    "for train, test in sss.split(x,y):\n",
    "  x_tr, x_te   = x.iloc[train], x.iloc[test]\n",
    "  y_tr, y_te   = y.iloc[train], y.iloc[test]\n",
    "\n",
    "classifier = sm.Logit(y_tr,sm.add_constant(x_tr)).fit(disp=0)\n",
    "fpr,tpr,thresholds = metrics.roc_curve(y_te,classifier.predict(sm.add_constant(x_te)))\n",
    "roc_auc = metrics.auc(fpr, tpr)\n",
    "print('auc in the test dataset: {:.4f}'.format(roc_auc))"
   ]
  },
  {
   "cell_type": "code",
   "execution_count": null,
   "metadata": {
    "colab": {
     "base_uri": "https://localhost:8080/"
    },
    "id": "YLjbMOTwBjzm",
    "outputId": "861ca2b7-52fa-41f2-ac32-024d5f3f626a"
   },
   "outputs": [
    {
     "name": "stdout",
     "output_type": "stream",
     "text": [
      "Average AUC: 0.8595 with std 0.0033\n"
     ]
    }
   ],
   "source": [
    "# 4.2\n",
    "Ks = 5\n",
    "kfolds = KFold(n_splits=Ks)\n",
    "\n",
    "aucs = []\n",
    "for j, (train,test) in  enumerate(kfolds.split(x,y=y)):\n",
    "  # define and fit the model in statsmodels\n",
    "  classifier = sm.Logit(y.iloc[train],sm.add_constant(x.iloc[train])).fit(disp=0)\n",
    "    \n",
    "  fpr,tpr,thresholds = metrics.roc_curve(y.iloc[test],classifier.predict(sm.add_constant(x.iloc[test])))\n",
    "  roc_auc = metrics.auc(fpr, tpr)\n",
    "  \n",
    "  aucs.append(roc_auc)\n",
    "\n",
    "print('Average AUC: {0:.4f} with std {1:.4f}'.format(np.mean(aucs),np.std(aucs)))"
   ]
  },
  {
   "cell_type": "code",
   "execution_count": null,
   "metadata": {
    "colab": {
     "base_uri": "https://localhost:8080/"
    },
    "id": "3kxrsuYNDEOi",
    "outputId": "95644023-c0b2-4f38-fac2-e5ab04704cdf"
   },
   "outputs": [
    {
     "name": "stdout",
     "output_type": "stream",
     "text": [
      "Filling out table 2\n",
      "Using 20 components the average AUC: 0.6095 with std 0.0036\n",
      "Using 50 components the average AUC: 0.7039 with std 0.0036\n",
      "Using 100 components the average AUC: 0.7757 with std 0.0030\n",
      "Using 180 components the average AUC: 0.8429 with std 0.0032\n"
     ]
    }
   ],
   "source": [
    "from sklearn.decomposition import PCA\n",
    "\n",
    "components = [20,50,100,180]\n",
    "print('Filling out table 2')\n",
    "for component in components:\n",
    "  aucs = []\n",
    "  pca = PCA(n_components=component)\n",
    "  x_reduced = pca.fit_transform(x)\n",
    "  kfolds = KFold(n_splits=Ks)\n",
    "  for j, (train,test) in  enumerate(kfolds.split(x_reduced,y=y)):\n",
    "    # define and fit the model in statsmodels\n",
    "    classifier = sm.Logit(y.iloc[train],sm.add_constant(x_reduced[train,:])).fit(disp=0)\n",
    "    \n",
    "    fpr,tpr,thresholds = metrics.roc_curve(y.iloc[test],classifier.predict(sm.add_constant(x_reduced[test,:])))\n",
    "    roc_auc = metrics.auc(fpr, tpr)\n",
    "  \n",
    "    aucs.append(roc_auc)\n",
    "\n",
    "  print('Using {0} components the average AUC: {1:.4f} with std {2:.4f}'.format(component,np.mean(aucs),np.std(aucs)))"
   ]
  },
  {
   "cell_type": "markdown",
   "metadata": {
    "id": "UmsDWepILMNn"
   },
   "source": [
    "4.5) The model performance from 4.1 is based on one test, hence we cannot be certain. k-fold cross-validation is a relatively more robust method. However, we should be carefull that the number of obs from $y=1$ is enough in the test fold. Dimensionality reduction seems to loose a lot of disciminative information, which is valuable for classification- Even when using 180 components the AUC drops, compared with the original data. The advice is to use the model trained with the original data."
   ]
  }
 ],
 "metadata": {
  "colab": {
   "collapsed_sections": [],
   "name": "midterm.ipynb",
   "provenance": []
  },
  "kernelspec": {
   "display_name": "Python 3 (ipykernel)",
   "language": "python",
   "name": "python3"
  },
  "language_info": {
   "codemirror_mode": {
    "name": "ipython",
    "version": 3
   },
   "file_extension": ".py",
   "mimetype": "text/x-python",
   "name": "python",
   "nbconvert_exporter": "python",
   "pygments_lexer": "ipython3",
   "version": "3.8.10"
  }
 },
 "nbformat": 4,
 "nbformat_minor": 1
}

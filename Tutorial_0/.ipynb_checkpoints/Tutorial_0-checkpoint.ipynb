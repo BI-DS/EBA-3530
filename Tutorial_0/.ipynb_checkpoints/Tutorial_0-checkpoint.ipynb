{
 "cells": [
  {
   "cell_type": "markdown",
   "metadata": {},
   "source": [
    "# Tutorial 0 - A Quick Python Refresher\n",
    "\n",
    "### 1.0 Introduction\n",
    "\n",
    "This tutorial is intended to refresh some Python basics. As such, I hope it will facilitate your understanding of the more advanced Python code that will be covered in upcoming tutorials and homework problems. In this tutorial, we will discuss:\n",
    "* Python Libraries & Data Types\n",
    "* Loops & If-statements\n",
    "* Functions\n",
    "* Classes \n",
    "\n",
    "In case  you would like to go through a more in-depth treatment, I highly recommend checking out [Quantecon.org](https://quantecon.org/). Quantecon offers many lectures on Python & Julia programming, tailored specifically to economic problems. In case you would like to have some practice, I recommend going through the short exercises that you can find there.\n",
    "\n",
    "As a general piece of advice, being good at programming is highly correlated with being good at \"googling\" things. Python has a huge community and chances are that the thing you are wondering about or the questions you ask yourself have been asked and answered before. Whenever there is something you struggle with, it is hence always a good idea to give it a Google search.  \n",
    "\n",
    "### 1.1 Python Libraries & Data Types\n",
    "In contrast to programming languages such as Matlab, base-Python is somewhat limited in its functionality and often requires the user to import additional libraries. The most important libraries we will need for this course are:\n",
    "* Pandas\n",
    "* NumPy\n",
    "* Matplotlib\n",
    "\n",
    "##### 1.1.1 Pandas\n",
    "Pandas ia a library that contains fast and efficient data analysis tools for Python. Amongst other things, it offers tools for\n",
    "* reading in data\n",
    "* working with dates and time series (more plainly: it \"understands\" time series)\n",
    "* data cleaning tools\n",
    "* tools for dealing with missing values\n",
    "* datareaders to download data directly from online resources\n",
    "\n",
    "For more details, you can also give the [Pandas Documentation](https://pandas.pydata.org/docs/) a read. Let's read in the library and have a look at its basic functionality.\n"
   ]
  },
  {
   "cell_type": "code",
   "execution_count": 1,
   "metadata": {},
   "outputs": [],
   "source": [
    "import pandas as pd"
   ]
  },
  {
   "cell_type": "markdown",
   "metadata": {},
   "source": [
    "###### 1.1.1.1 Introduction\n",
    "As an example, I downloaded a dataset with tweets about the Pfizer/BioNTech vaccine from [Kaggle](https://kaggle.com/). Kaggle is an online community of data scientists and machine learning practitioners. The community regularly provides free datasets on all kinds of topics and regularly hosts machine learning competitions. You can find a description of the data here: [Pfizer Vaccine Tweets](https://www.kaggle.com/gpreda/pfizer-vaccine-tweets)\n",
    "\n",
    "Let's read in the data as a pandas dataframe:\n"
   ]
  },
  {
   "cell_type": "code",
   "execution_count": 2,
   "metadata": {},
   "outputs": [
    {
     "data": {
      "text/html": [
       "<div>\n",
       "<style scoped>\n",
       "    .dataframe tbody tr th:only-of-type {\n",
       "        vertical-align: middle;\n",
       "    }\n",
       "\n",
       "    .dataframe tbody tr th {\n",
       "        vertical-align: top;\n",
       "    }\n",
       "\n",
       "    .dataframe thead th {\n",
       "        text-align: right;\n",
       "    }\n",
       "</style>\n",
       "<table border=\"1\" class=\"dataframe\">\n",
       "  <thead>\n",
       "    <tr style=\"text-align: right;\">\n",
       "      <th></th>\n",
       "      <th>id</th>\n",
       "      <th>user_name</th>\n",
       "      <th>user_location</th>\n",
       "      <th>user_description</th>\n",
       "      <th>user_created</th>\n",
       "      <th>user_followers</th>\n",
       "      <th>user_friends</th>\n",
       "      <th>user_favourites</th>\n",
       "      <th>user_verified</th>\n",
       "      <th>date</th>\n",
       "      <th>text</th>\n",
       "      <th>hashtags</th>\n",
       "      <th>source</th>\n",
       "      <th>retweets</th>\n",
       "      <th>favorites</th>\n",
       "      <th>is_retweet</th>\n",
       "    </tr>\n",
       "  </thead>\n",
       "  <tbody>\n",
       "    <tr>\n",
       "      <th>0</th>\n",
       "      <td>1340539111971516416</td>\n",
       "      <td>Rachel Roh</td>\n",
       "      <td>La Crescenta-Montrose, CA</td>\n",
       "      <td>Aggregator of Asian American news; scanning di...</td>\n",
       "      <td>2009-04-08 17:52:46</td>\n",
       "      <td>405</td>\n",
       "      <td>1692</td>\n",
       "      <td>3247</td>\n",
       "      <td>False</td>\n",
       "      <td>2020-12-20 06:06:44</td>\n",
       "      <td>Same folks said daikon paste could treat a cyt...</td>\n",
       "      <td>['PfizerBioNTech']</td>\n",
       "      <td>Twitter for Android</td>\n",
       "      <td>0</td>\n",
       "      <td>0</td>\n",
       "      <td>False</td>\n",
       "    </tr>\n",
       "    <tr>\n",
       "      <th>1</th>\n",
       "      <td>1338158543359250433</td>\n",
       "      <td>Albert Fong</td>\n",
       "      <td>San Francisco, CA</td>\n",
       "      <td>Marketing dude, tech geek, heavy metal &amp; '80s ...</td>\n",
       "      <td>2009-09-21 15:27:30</td>\n",
       "      <td>834</td>\n",
       "      <td>666</td>\n",
       "      <td>178</td>\n",
       "      <td>False</td>\n",
       "      <td>2020-12-13 16:27:13</td>\n",
       "      <td>While the world has been on the wrong side of ...</td>\n",
       "      <td>NaN</td>\n",
       "      <td>Twitter Web App</td>\n",
       "      <td>1</td>\n",
       "      <td>1</td>\n",
       "      <td>False</td>\n",
       "    </tr>\n",
       "    <tr>\n",
       "      <th>2</th>\n",
       "      <td>1337855739918835717</td>\n",
       "      <td>Charles Adler</td>\n",
       "      <td>Vancouver, BC - Canada</td>\n",
       "      <td>Hosting \"CharlesAdlerTonight\" Global News Radi...</td>\n",
       "      <td>2008-09-10 11:28:53</td>\n",
       "      <td>49165</td>\n",
       "      <td>3933</td>\n",
       "      <td>21853</td>\n",
       "      <td>True</td>\n",
       "      <td>2020-12-12 20:23:59</td>\n",
       "      <td>Facts are immutable, Senator, even when you're...</td>\n",
       "      <td>NaN</td>\n",
       "      <td>Twitter Web App</td>\n",
       "      <td>446</td>\n",
       "      <td>2129</td>\n",
       "      <td>False</td>\n",
       "    </tr>\n",
       "    <tr>\n",
       "      <th>3</th>\n",
       "      <td>1337854064604966912</td>\n",
       "      <td>Citizen News Channel</td>\n",
       "      <td>NaN</td>\n",
       "      <td>Citizen News Channel bringing you an alternati...</td>\n",
       "      <td>2020-04-23 17:58:42</td>\n",
       "      <td>152</td>\n",
       "      <td>580</td>\n",
       "      <td>1473</td>\n",
       "      <td>False</td>\n",
       "      <td>2020-12-12 20:17:19</td>\n",
       "      <td>Explain to me again why we need a vaccine @Bor...</td>\n",
       "      <td>['whereareallthesickpeople', 'PfizerBioNTech']</td>\n",
       "      <td>Twitter for iPhone</td>\n",
       "      <td>0</td>\n",
       "      <td>0</td>\n",
       "      <td>False</td>\n",
       "    </tr>\n",
       "    <tr>\n",
       "      <th>4</th>\n",
       "      <td>1337852648389832708</td>\n",
       "      <td>Dee</td>\n",
       "      <td>Birmingham, England</td>\n",
       "      <td>Gastroenterology trainee, Clinical Research Fe...</td>\n",
       "      <td>2020-01-26 21:43:12</td>\n",
       "      <td>105</td>\n",
       "      <td>108</td>\n",
       "      <td>106</td>\n",
       "      <td>False</td>\n",
       "      <td>2020-12-12 20:11:42</td>\n",
       "      <td>Does anyone have any useful advice/guidance fo...</td>\n",
       "      <td>NaN</td>\n",
       "      <td>Twitter for iPhone</td>\n",
       "      <td>0</td>\n",
       "      <td>0</td>\n",
       "      <td>False</td>\n",
       "    </tr>\n",
       "    <tr>\n",
       "      <th>...</th>\n",
       "      <td>...</td>\n",
       "      <td>...</td>\n",
       "      <td>...</td>\n",
       "      <td>...</td>\n",
       "      <td>...</td>\n",
       "      <td>...</td>\n",
       "      <td>...</td>\n",
       "      <td>...</td>\n",
       "      <td>...</td>\n",
       "      <td>...</td>\n",
       "      <td>...</td>\n",
       "      <td>...</td>\n",
       "      <td>...</td>\n",
       "      <td>...</td>\n",
       "      <td>...</td>\n",
       "      <td>...</td>\n",
       "    </tr>\n",
       "    <tr>\n",
       "      <th>2648</th>\n",
       "      <td>1344800580741574656</td>\n",
       "      <td>нσℓℓүαηη</td>\n",
       "      <td>From MI,VT,FL</td>\n",
       "      <td>#Wife👫#booknerd 📚#HospitalPharmacyVeteran🏩🤍#Mi...</td>\n",
       "      <td>2015-12-30 22:35:57</td>\n",
       "      <td>768</td>\n",
       "      <td>2945</td>\n",
       "      <td>14014</td>\n",
       "      <td>False</td>\n",
       "      <td>2021-01-01 00:20:18</td>\n",
       "      <td>#HappyNewYearsEve received my #first #dose of ...</td>\n",
       "      <td>['HappyNewYearsEve', 'first', 'dose', 'PfizerB...</td>\n",
       "      <td>Twitter for iPad</td>\n",
       "      <td>0</td>\n",
       "      <td>1</td>\n",
       "      <td>False</td>\n",
       "    </tr>\n",
       "    <tr>\n",
       "      <th>2649</th>\n",
       "      <td>1344781844839972867</td>\n",
       "      <td>Free Malaysia Today</td>\n",
       "      <td>Malaysia</td>\n",
       "      <td>Free and Independent #FMTNews Telegram: https:...</td>\n",
       "      <td>2010-01-05 16:17:15</td>\n",
       "      <td>166605</td>\n",
       "      <td>1</td>\n",
       "      <td>0</td>\n",
       "      <td>False</td>\n",
       "      <td>2020-12-31 23:05:51</td>\n",
       "      <td>This opens the way for regulators worldwide to...</td>\n",
       "      <td>['FMTNews', 'WHO', 'Vaccine']</td>\n",
       "      <td>Twitter Web App</td>\n",
       "      <td>0</td>\n",
       "      <td>0</td>\n",
       "      <td>False</td>\n",
       "    </tr>\n",
       "    <tr>\n",
       "      <th>2650</th>\n",
       "      <td>1344781623749959682</td>\n",
       "      <td>Monica #WashYourHands</td>\n",
       "      <td>Dublin City, Ireland</td>\n",
       "      <td>Nurse 💉 MBA student 📙 Mediocre wine aficionado...</td>\n",
       "      <td>2018-05-11 09:33:52</td>\n",
       "      <td>88</td>\n",
       "      <td>607</td>\n",
       "      <td>1441</td>\n",
       "      <td>False</td>\n",
       "      <td>2020-12-31 23:04:58</td>\n",
       "      <td>First dose of #PfizerBioNTech vaccine received...</td>\n",
       "      <td>['PfizerBioNTech', 'CovidVaccine']</td>\n",
       "      <td>Twitter for iPhone</td>\n",
       "      <td>0</td>\n",
       "      <td>1</td>\n",
       "      <td>False</td>\n",
       "    </tr>\n",
       "    <tr>\n",
       "      <th>2651</th>\n",
       "      <td>1344779534030274561</td>\n",
       "      <td>UMaravia</td>\n",
       "      <td>Lancaster University</td>\n",
       "      <td>Doctoral research: organ transplantation, vacc...</td>\n",
       "      <td>2017-09-29 20:14:11</td>\n",
       "      <td>76</td>\n",
       "      <td>180</td>\n",
       "      <td>1091</td>\n",
       "      <td>False</td>\n",
       "      <td>2020-12-31 22:56:40</td>\n",
       "      <td>💉✅⛔️To vax or not to vax?\\n☪️Check out my late...</td>\n",
       "      <td>NaN</td>\n",
       "      <td>Twitter Web App</td>\n",
       "      <td>2</td>\n",
       "      <td>7</td>\n",
       "      <td>False</td>\n",
       "    </tr>\n",
       "    <tr>\n",
       "      <th>2652</th>\n",
       "      <td>1344769669840982017</td>\n",
       "      <td>Sunil Kumar ♞ ♂︎ 💙 ✊🏿 #BLM</td>\n",
       "      <td>London</td>\n",
       "      <td>Insurgent academic. Provocative questioner. Qu...</td>\n",
       "      <td>2012-06-08 12:17:26</td>\n",
       "      <td>479</td>\n",
       "      <td>569</td>\n",
       "      <td>4141</td>\n",
       "      <td>False</td>\n",
       "      <td>2020-12-31 22:17:28</td>\n",
       "      <td>This is in contrast to what @BBCHughPym has ju...</td>\n",
       "      <td>NaN</td>\n",
       "      <td>Twitter for iPhone</td>\n",
       "      <td>0</td>\n",
       "      <td>1</td>\n",
       "      <td>False</td>\n",
       "    </tr>\n",
       "  </tbody>\n",
       "</table>\n",
       "<p>2653 rows × 16 columns</p>\n",
       "</div>"
      ],
      "text/plain": [
       "                       id                   user_name  \\\n",
       "0     1340539111971516416                  Rachel Roh   \n",
       "1     1338158543359250433                 Albert Fong   \n",
       "2     1337855739918835717               Charles Adler   \n",
       "3     1337854064604966912        Citizen News Channel   \n",
       "4     1337852648389832708                         Dee   \n",
       "...                   ...                         ...   \n",
       "2648  1344800580741574656                    нσℓℓүαηη   \n",
       "2649  1344781844839972867         Free Malaysia Today   \n",
       "2650  1344781623749959682       Monica #WashYourHands   \n",
       "2651  1344779534030274561                    UMaravia   \n",
       "2652  1344769669840982017  Sunil Kumar ♞ ♂︎ 💙 ✊🏿 #BLM   \n",
       "\n",
       "                  user_location  \\\n",
       "0     La Crescenta-Montrose, CA   \n",
       "1             San Francisco, CA   \n",
       "2        Vancouver, BC - Canada   \n",
       "3                           NaN   \n",
       "4           Birmingham, England   \n",
       "...                         ...   \n",
       "2648              From MI,VT,FL   \n",
       "2649                   Malaysia   \n",
       "2650       Dublin City, Ireland   \n",
       "2651       Lancaster University   \n",
       "2652                     London   \n",
       "\n",
       "                                       user_description         user_created  \\\n",
       "0     Aggregator of Asian American news; scanning di...  2009-04-08 17:52:46   \n",
       "1     Marketing dude, tech geek, heavy metal & '80s ...  2009-09-21 15:27:30   \n",
       "2     Hosting \"CharlesAdlerTonight\" Global News Radi...  2008-09-10 11:28:53   \n",
       "3     Citizen News Channel bringing you an alternati...  2020-04-23 17:58:42   \n",
       "4     Gastroenterology trainee, Clinical Research Fe...  2020-01-26 21:43:12   \n",
       "...                                                 ...                  ...   \n",
       "2648  #Wife👫#booknerd 📚#HospitalPharmacyVeteran🏩🤍#Mi...  2015-12-30 22:35:57   \n",
       "2649  Free and Independent #FMTNews Telegram: https:...  2010-01-05 16:17:15   \n",
       "2650  Nurse 💉 MBA student 📙 Mediocre wine aficionado...  2018-05-11 09:33:52   \n",
       "2651  Doctoral research: organ transplantation, vacc...  2017-09-29 20:14:11   \n",
       "2652  Insurgent academic. Provocative questioner. Qu...  2012-06-08 12:17:26   \n",
       "\n",
       "      user_followers  user_friends  user_favourites  user_verified  \\\n",
       "0                405          1692             3247          False   \n",
       "1                834           666              178          False   \n",
       "2              49165          3933            21853           True   \n",
       "3                152           580             1473          False   \n",
       "4                105           108              106          False   \n",
       "...              ...           ...              ...            ...   \n",
       "2648             768          2945            14014          False   \n",
       "2649          166605             1                0          False   \n",
       "2650              88           607             1441          False   \n",
       "2651              76           180             1091          False   \n",
       "2652             479           569             4141          False   \n",
       "\n",
       "                     date                                               text  \\\n",
       "0     2020-12-20 06:06:44  Same folks said daikon paste could treat a cyt...   \n",
       "1     2020-12-13 16:27:13  While the world has been on the wrong side of ...   \n",
       "2     2020-12-12 20:23:59  Facts are immutable, Senator, even when you're...   \n",
       "3     2020-12-12 20:17:19  Explain to me again why we need a vaccine @Bor...   \n",
       "4     2020-12-12 20:11:42  Does anyone have any useful advice/guidance fo...   \n",
       "...                   ...                                                ...   \n",
       "2648  2021-01-01 00:20:18  #HappyNewYearsEve received my #first #dose of ...   \n",
       "2649  2020-12-31 23:05:51  This opens the way for regulators worldwide to...   \n",
       "2650  2020-12-31 23:04:58  First dose of #PfizerBioNTech vaccine received...   \n",
       "2651  2020-12-31 22:56:40  💉✅⛔️To vax or not to vax?\\n☪️Check out my late...   \n",
       "2652  2020-12-31 22:17:28  This is in contrast to what @BBCHughPym has ju...   \n",
       "\n",
       "                                               hashtags               source  \\\n",
       "0                                    ['PfizerBioNTech']  Twitter for Android   \n",
       "1                                                   NaN      Twitter Web App   \n",
       "2                                                   NaN      Twitter Web App   \n",
       "3        ['whereareallthesickpeople', 'PfizerBioNTech']   Twitter for iPhone   \n",
       "4                                                   NaN   Twitter for iPhone   \n",
       "...                                                 ...                  ...   \n",
       "2648  ['HappyNewYearsEve', 'first', 'dose', 'PfizerB...     Twitter for iPad   \n",
       "2649                      ['FMTNews', 'WHO', 'Vaccine']      Twitter Web App   \n",
       "2650                 ['PfizerBioNTech', 'CovidVaccine']   Twitter for iPhone   \n",
       "2651                                                NaN      Twitter Web App   \n",
       "2652                                                NaN   Twitter for iPhone   \n",
       "\n",
       "      retweets  favorites  is_retweet  \n",
       "0            0          0       False  \n",
       "1            1          1       False  \n",
       "2          446       2129       False  \n",
       "3            0          0       False  \n",
       "4            0          0       False  \n",
       "...        ...        ...         ...  \n",
       "2648         0          1       False  \n",
       "2649         0          0       False  \n",
       "2650         0          1       False  \n",
       "2651         2          7       False  \n",
       "2652         0          1       False  \n",
       "\n",
       "[2653 rows x 16 columns]"
      ]
     },
     "execution_count": 2,
     "metadata": {},
     "output_type": "execute_result"
    }
   ],
   "source": [
    "# read-in the .csv file\n",
    "df = pd.read_csv('vaccination_tweets.csv')\n",
    "\n",
    "#  display the dataframe\n",
    "df"
   ]
  },
  {
   "cell_type": "markdown",
   "metadata": {},
   "source": [
    "\n",
    "If you only want to display the head of the dataframe you can simply call  `.head()`.\n"
   ]
  },
  {
   "cell_type": "code",
   "execution_count": 3,
   "metadata": {},
   "outputs": [
    {
     "data": {
      "text/html": [
       "<div>\n",
       "<style scoped>\n",
       "    .dataframe tbody tr th:only-of-type {\n",
       "        vertical-align: middle;\n",
       "    }\n",
       "\n",
       "    .dataframe tbody tr th {\n",
       "        vertical-align: top;\n",
       "    }\n",
       "\n",
       "    .dataframe thead th {\n",
       "        text-align: right;\n",
       "    }\n",
       "</style>\n",
       "<table border=\"1\" class=\"dataframe\">\n",
       "  <thead>\n",
       "    <tr style=\"text-align: right;\">\n",
       "      <th></th>\n",
       "      <th>id</th>\n",
       "      <th>user_name</th>\n",
       "      <th>user_location</th>\n",
       "      <th>user_description</th>\n",
       "      <th>user_created</th>\n",
       "      <th>user_followers</th>\n",
       "      <th>user_friends</th>\n",
       "      <th>user_favourites</th>\n",
       "      <th>user_verified</th>\n",
       "      <th>date</th>\n",
       "      <th>text</th>\n",
       "      <th>hashtags</th>\n",
       "      <th>source</th>\n",
       "      <th>retweets</th>\n",
       "      <th>favorites</th>\n",
       "      <th>is_retweet</th>\n",
       "    </tr>\n",
       "  </thead>\n",
       "  <tbody>\n",
       "    <tr>\n",
       "      <th>0</th>\n",
       "      <td>1340539111971516416</td>\n",
       "      <td>Rachel Roh</td>\n",
       "      <td>La Crescenta-Montrose, CA</td>\n",
       "      <td>Aggregator of Asian American news; scanning di...</td>\n",
       "      <td>2009-04-08 17:52:46</td>\n",
       "      <td>405</td>\n",
       "      <td>1692</td>\n",
       "      <td>3247</td>\n",
       "      <td>False</td>\n",
       "      <td>2020-12-20 06:06:44</td>\n",
       "      <td>Same folks said daikon paste could treat a cyt...</td>\n",
       "      <td>['PfizerBioNTech']</td>\n",
       "      <td>Twitter for Android</td>\n",
       "      <td>0</td>\n",
       "      <td>0</td>\n",
       "      <td>False</td>\n",
       "    </tr>\n",
       "    <tr>\n",
       "      <th>1</th>\n",
       "      <td>1338158543359250433</td>\n",
       "      <td>Albert Fong</td>\n",
       "      <td>San Francisco, CA</td>\n",
       "      <td>Marketing dude, tech geek, heavy metal &amp; '80s ...</td>\n",
       "      <td>2009-09-21 15:27:30</td>\n",
       "      <td>834</td>\n",
       "      <td>666</td>\n",
       "      <td>178</td>\n",
       "      <td>False</td>\n",
       "      <td>2020-12-13 16:27:13</td>\n",
       "      <td>While the world has been on the wrong side of ...</td>\n",
       "      <td>NaN</td>\n",
       "      <td>Twitter Web App</td>\n",
       "      <td>1</td>\n",
       "      <td>1</td>\n",
       "      <td>False</td>\n",
       "    </tr>\n",
       "    <tr>\n",
       "      <th>2</th>\n",
       "      <td>1337855739918835717</td>\n",
       "      <td>Charles Adler</td>\n",
       "      <td>Vancouver, BC - Canada</td>\n",
       "      <td>Hosting \"CharlesAdlerTonight\" Global News Radi...</td>\n",
       "      <td>2008-09-10 11:28:53</td>\n",
       "      <td>49165</td>\n",
       "      <td>3933</td>\n",
       "      <td>21853</td>\n",
       "      <td>True</td>\n",
       "      <td>2020-12-12 20:23:59</td>\n",
       "      <td>Facts are immutable, Senator, even when you're...</td>\n",
       "      <td>NaN</td>\n",
       "      <td>Twitter Web App</td>\n",
       "      <td>446</td>\n",
       "      <td>2129</td>\n",
       "      <td>False</td>\n",
       "    </tr>\n",
       "    <tr>\n",
       "      <th>3</th>\n",
       "      <td>1337854064604966912</td>\n",
       "      <td>Citizen News Channel</td>\n",
       "      <td>NaN</td>\n",
       "      <td>Citizen News Channel bringing you an alternati...</td>\n",
       "      <td>2020-04-23 17:58:42</td>\n",
       "      <td>152</td>\n",
       "      <td>580</td>\n",
       "      <td>1473</td>\n",
       "      <td>False</td>\n",
       "      <td>2020-12-12 20:17:19</td>\n",
       "      <td>Explain to me again why we need a vaccine @Bor...</td>\n",
       "      <td>['whereareallthesickpeople', 'PfizerBioNTech']</td>\n",
       "      <td>Twitter for iPhone</td>\n",
       "      <td>0</td>\n",
       "      <td>0</td>\n",
       "      <td>False</td>\n",
       "    </tr>\n",
       "    <tr>\n",
       "      <th>4</th>\n",
       "      <td>1337852648389832708</td>\n",
       "      <td>Dee</td>\n",
       "      <td>Birmingham, England</td>\n",
       "      <td>Gastroenterology trainee, Clinical Research Fe...</td>\n",
       "      <td>2020-01-26 21:43:12</td>\n",
       "      <td>105</td>\n",
       "      <td>108</td>\n",
       "      <td>106</td>\n",
       "      <td>False</td>\n",
       "      <td>2020-12-12 20:11:42</td>\n",
       "      <td>Does anyone have any useful advice/guidance fo...</td>\n",
       "      <td>NaN</td>\n",
       "      <td>Twitter for iPhone</td>\n",
       "      <td>0</td>\n",
       "      <td>0</td>\n",
       "      <td>False</td>\n",
       "    </tr>\n",
       "  </tbody>\n",
       "</table>\n",
       "</div>"
      ],
      "text/plain": [
       "                    id             user_name              user_location  \\\n",
       "0  1340539111971516416            Rachel Roh  La Crescenta-Montrose, CA   \n",
       "1  1338158543359250433           Albert Fong          San Francisco, CA   \n",
       "2  1337855739918835717         Charles Adler     Vancouver, BC - Canada   \n",
       "3  1337854064604966912  Citizen News Channel                        NaN   \n",
       "4  1337852648389832708                   Dee        Birmingham, England   \n",
       "\n",
       "                                    user_description         user_created  \\\n",
       "0  Aggregator of Asian American news; scanning di...  2009-04-08 17:52:46   \n",
       "1  Marketing dude, tech geek, heavy metal & '80s ...  2009-09-21 15:27:30   \n",
       "2  Hosting \"CharlesAdlerTonight\" Global News Radi...  2008-09-10 11:28:53   \n",
       "3  Citizen News Channel bringing you an alternati...  2020-04-23 17:58:42   \n",
       "4  Gastroenterology trainee, Clinical Research Fe...  2020-01-26 21:43:12   \n",
       "\n",
       "   user_followers  user_friends  user_favourites  user_verified  \\\n",
       "0             405          1692             3247          False   \n",
       "1             834           666              178          False   \n",
       "2           49165          3933            21853           True   \n",
       "3             152           580             1473          False   \n",
       "4             105           108              106          False   \n",
       "\n",
       "                  date                                               text  \\\n",
       "0  2020-12-20 06:06:44  Same folks said daikon paste could treat a cyt...   \n",
       "1  2020-12-13 16:27:13  While the world has been on the wrong side of ...   \n",
       "2  2020-12-12 20:23:59  Facts are immutable, Senator, even when you're...   \n",
       "3  2020-12-12 20:17:19  Explain to me again why we need a vaccine @Bor...   \n",
       "4  2020-12-12 20:11:42  Does anyone have any useful advice/guidance fo...   \n",
       "\n",
       "                                         hashtags               source  \\\n",
       "0                              ['PfizerBioNTech']  Twitter for Android   \n",
       "1                                             NaN      Twitter Web App   \n",
       "2                                             NaN      Twitter Web App   \n",
       "3  ['whereareallthesickpeople', 'PfizerBioNTech']   Twitter for iPhone   \n",
       "4                                             NaN   Twitter for iPhone   \n",
       "\n",
       "   retweets  favorites  is_retweet  \n",
       "0         0          0       False  \n",
       "1         1          1       False  \n",
       "2       446       2129       False  \n",
       "3         0          0       False  \n",
       "4         0          0       False  "
      ]
     },
     "execution_count": 3,
     "metadata": {},
     "output_type": "execute_result"
    }
   ],
   "source": [
    "# display only the head of the dataframe\n",
    "df.head()"
   ]
  },
  {
   "cell_type": "markdown",
   "metadata": {},
   "source": [
    "###### 1.1.1.2 Indexing\n",
    "Let's go through some basic functionalities.\n",
    "\n",
    "We can call individual columns by simply indexing the column name in square brackets. \n"
   ]
  },
  {
   "cell_type": "code",
   "execution_count": 4,
   "metadata": {},
   "outputs": [
    {
     "data": {
      "text/plain": [
       "0                                      ['PfizerBioNTech']\n",
       "1                                                     NaN\n",
       "2                                                     NaN\n",
       "3          ['whereareallthesickpeople', 'PfizerBioNTech']\n",
       "4                                                     NaN\n",
       "                              ...                        \n",
       "2648    ['HappyNewYearsEve', 'first', 'dose', 'PfizerB...\n",
       "2649                        ['FMTNews', 'WHO', 'Vaccine']\n",
       "2650                   ['PfizerBioNTech', 'CovidVaccine']\n",
       "2651                                                  NaN\n",
       "2652                                                  NaN\n",
       "Name: hashtags, Length: 2653, dtype: object"
      ]
     },
     "execution_count": 4,
     "metadata": {},
     "output_type": "execute_result"
    }
   ],
   "source": [
    "# read out the \"hashtags\" column\n",
    "df['hashtags']"
   ]
  },
  {
   "cell_type": "markdown",
   "metadata": {},
   "source": [
    "\n",
    "Displaying multiple columns is slightly trickier. Here we need to submit a list. Note that in Pandas and individual series is of type \"series\", whereas multiple series are displayed as \"dataframe\". Also note how I combine the column reference with `.head()`.\n"
   ]
  },
  {
   "cell_type": "code",
   "execution_count": 5,
   "metadata": {},
   "outputs": [
    {
     "data": {
      "text/html": [
       "<div>\n",
       "<style scoped>\n",
       "    .dataframe tbody tr th:only-of-type {\n",
       "        vertical-align: middle;\n",
       "    }\n",
       "\n",
       "    .dataframe tbody tr th {\n",
       "        vertical-align: top;\n",
       "    }\n",
       "\n",
       "    .dataframe thead th {\n",
       "        text-align: right;\n",
       "    }\n",
       "</style>\n",
       "<table border=\"1\" class=\"dataframe\">\n",
       "  <thead>\n",
       "    <tr style=\"text-align: right;\">\n",
       "      <th></th>\n",
       "      <th>text</th>\n",
       "      <th>hashtags</th>\n",
       "    </tr>\n",
       "  </thead>\n",
       "  <tbody>\n",
       "    <tr>\n",
       "      <th>0</th>\n",
       "      <td>Same folks said daikon paste could treat a cyt...</td>\n",
       "      <td>['PfizerBioNTech']</td>\n",
       "    </tr>\n",
       "    <tr>\n",
       "      <th>1</th>\n",
       "      <td>While the world has been on the wrong side of ...</td>\n",
       "      <td>NaN</td>\n",
       "    </tr>\n",
       "    <tr>\n",
       "      <th>2</th>\n",
       "      <td>Facts are immutable, Senator, even when you're...</td>\n",
       "      <td>NaN</td>\n",
       "    </tr>\n",
       "    <tr>\n",
       "      <th>3</th>\n",
       "      <td>Explain to me again why we need a vaccine @Bor...</td>\n",
       "      <td>['whereareallthesickpeople', 'PfizerBioNTech']</td>\n",
       "    </tr>\n",
       "    <tr>\n",
       "      <th>4</th>\n",
       "      <td>Does anyone have any useful advice/guidance fo...</td>\n",
       "      <td>NaN</td>\n",
       "    </tr>\n",
       "  </tbody>\n",
       "</table>\n",
       "</div>"
      ],
      "text/plain": [
       "                                                text  \\\n",
       "0  Same folks said daikon paste could treat a cyt...   \n",
       "1  While the world has been on the wrong side of ...   \n",
       "2  Facts are immutable, Senator, even when you're...   \n",
       "3  Explain to me again why we need a vaccine @Bor...   \n",
       "4  Does anyone have any useful advice/guidance fo...   \n",
       "\n",
       "                                         hashtags  \n",
       "0                              ['PfizerBioNTech']  \n",
       "1                                             NaN  \n",
       "2                                             NaN  \n",
       "3  ['whereareallthesickpeople', 'PfizerBioNTech']  \n",
       "4                                             NaN  "
      ]
     },
     "execution_count": 5,
     "metadata": {},
     "output_type": "execute_result"
    }
   ],
   "source": [
    "# read out the columns \"text\" and \"hashtags\"\n",
    "df[['text','hashtags']].head()"
   ]
  },
  {
   "cell_type": "markdown",
   "metadata": {},
   "source": [
    "\n",
    "If you want to select certain rows and columns at the same time, you need to use `.loc` or `.iloc`. The difference is that `.loc` allows using a mixture of integers and values, whereas `.iloc` only works with integers.\n"
   ]
  },
  {
   "cell_type": "code",
   "execution_count": 6,
   "metadata": {},
   "outputs": [
    {
     "data": {
      "text/html": [
       "<div>\n",
       "<style scoped>\n",
       "    .dataframe tbody tr th:only-of-type {\n",
       "        vertical-align: middle;\n",
       "    }\n",
       "\n",
       "    .dataframe tbody tr th {\n",
       "        vertical-align: top;\n",
       "    }\n",
       "\n",
       "    .dataframe thead th {\n",
       "        text-align: right;\n",
       "    }\n",
       "</style>\n",
       "<table border=\"1\" class=\"dataframe\">\n",
       "  <thead>\n",
       "    <tr style=\"text-align: right;\">\n",
       "      <th></th>\n",
       "      <th>id</th>\n",
       "      <th>user_name</th>\n",
       "    </tr>\n",
       "  </thead>\n",
       "  <tbody>\n",
       "    <tr>\n",
       "      <th>0</th>\n",
       "      <td>1340539111971516416</td>\n",
       "      <td>Rachel Roh</td>\n",
       "    </tr>\n",
       "    <tr>\n",
       "      <th>1</th>\n",
       "      <td>1338158543359250433</td>\n",
       "      <td>Albert Fong</td>\n",
       "    </tr>\n",
       "  </tbody>\n",
       "</table>\n",
       "</div>"
      ],
      "text/plain": [
       "                    id    user_name\n",
       "0  1340539111971516416   Rachel Roh\n",
       "1  1338158543359250433  Albert Fong"
      ]
     },
     "execution_count": 6,
     "metadata": {},
     "output_type": "execute_result"
    }
   ],
   "source": [
    "# using .iloc, read out the first two rows and columns\n",
    "df.iloc[0:2,0:2]"
   ]
  },
  {
   "cell_type": "code",
   "execution_count": 7,
   "metadata": {},
   "outputs": [
    {
     "data": {
      "text/html": [
       "<div>\n",
       "<style scoped>\n",
       "    .dataframe tbody tr th:only-of-type {\n",
       "        vertical-align: middle;\n",
       "    }\n",
       "\n",
       "    .dataframe tbody tr th {\n",
       "        vertical-align: top;\n",
       "    }\n",
       "\n",
       "    .dataframe thead th {\n",
       "        text-align: right;\n",
       "    }\n",
       "</style>\n",
       "<table border=\"1\" class=\"dataframe\">\n",
       "  <thead>\n",
       "    <tr style=\"text-align: right;\">\n",
       "      <th></th>\n",
       "      <th>id</th>\n",
       "      <th>user_name</th>\n",
       "    </tr>\n",
       "  </thead>\n",
       "  <tbody>\n",
       "    <tr>\n",
       "      <th>0</th>\n",
       "      <td>1340539111971516416</td>\n",
       "      <td>Rachel Roh</td>\n",
       "    </tr>\n",
       "    <tr>\n",
       "      <th>1</th>\n",
       "      <td>1338158543359250433</td>\n",
       "      <td>Albert Fong</td>\n",
       "    </tr>\n",
       "    <tr>\n",
       "      <th>2</th>\n",
       "      <td>1337855739918835717</td>\n",
       "      <td>Charles Adler</td>\n",
       "    </tr>\n",
       "  </tbody>\n",
       "</table>\n",
       "</div>"
      ],
      "text/plain": [
       "                    id      user_name\n",
       "0  1340539111971516416     Rachel Roh\n",
       "1  1338158543359250433    Albert Fong\n",
       "2  1337855739918835717  Charles Adler"
      ]
     },
     "execution_count": 7,
     "metadata": {},
     "output_type": "execute_result"
    }
   ],
   "source": [
    "# using .loc, read out the first three rows and columns\n",
    "df.loc[0:2,['id', 'user_name']]"
   ]
  },
  {
   "cell_type": "markdown",
   "metadata": {},
   "source": [
    "\n",
    "Note the subtle difference in indexing to the previous example. To return the rows with index 0 and 1 as \n",
    "before, we have to combine `.loc` with `df.index`.\n"
   ]
  },
  {
   "cell_type": "code",
   "execution_count": 8,
   "metadata": {},
   "outputs": [
    {
     "data": {
      "text/html": [
       "<div>\n",
       "<style scoped>\n",
       "    .dataframe tbody tr th:only-of-type {\n",
       "        vertical-align: middle;\n",
       "    }\n",
       "\n",
       "    .dataframe tbody tr th {\n",
       "        vertical-align: top;\n",
       "    }\n",
       "\n",
       "    .dataframe thead th {\n",
       "        text-align: right;\n",
       "    }\n",
       "</style>\n",
       "<table border=\"1\" class=\"dataframe\">\n",
       "  <thead>\n",
       "    <tr style=\"text-align: right;\">\n",
       "      <th></th>\n",
       "      <th>id</th>\n",
       "      <th>user_name</th>\n",
       "    </tr>\n",
       "  </thead>\n",
       "  <tbody>\n",
       "    <tr>\n",
       "      <th>0</th>\n",
       "      <td>1340539111971516416</td>\n",
       "      <td>Rachel Roh</td>\n",
       "    </tr>\n",
       "    <tr>\n",
       "      <th>1</th>\n",
       "      <td>1338158543359250433</td>\n",
       "      <td>Albert Fong</td>\n",
       "    </tr>\n",
       "  </tbody>\n",
       "</table>\n",
       "</div>"
      ],
      "text/plain": [
       "                    id    user_name\n",
       "0  1340539111971516416   Rachel Roh\n",
       "1  1338158543359250433  Albert Fong"
      ]
     },
     "execution_count": 8,
     "metadata": {},
     "output_type": "execute_result"
    }
   ],
   "source": [
    "# using .loc, read out the first two rows and columns\n",
    "df.loc[df.index[0:2],['id', 'user_name']]"
   ]
  },
  {
   "cell_type": "markdown",
   "metadata": {},
   "source": [
    "\n",
    "Let us suppose we want to create a new dataframe containing only a subset of columns and rows. This can be done by defining a new dataframe and using the syntax that we have learned so far. Let's focus on the text, the hashtags used, the number of followers as user has, the number of times the tweet was retweeted, and the date.\n"
   ]
  },
  {
   "cell_type": "code",
   "execution_count": 9,
   "metadata": {},
   "outputs": [
    {
     "data": {
      "text/html": [
       "<div>\n",
       "<style scoped>\n",
       "    .dataframe tbody tr th:only-of-type {\n",
       "        vertical-align: middle;\n",
       "    }\n",
       "\n",
       "    .dataframe tbody tr th {\n",
       "        vertical-align: top;\n",
       "    }\n",
       "\n",
       "    .dataframe thead th {\n",
       "        text-align: right;\n",
       "    }\n",
       "</style>\n",
       "<table border=\"1\" class=\"dataframe\">\n",
       "  <thead>\n",
       "    <tr style=\"text-align: right;\">\n",
       "      <th></th>\n",
       "      <th>text</th>\n",
       "      <th>hashtags</th>\n",
       "      <th>date</th>\n",
       "      <th>retweets</th>\n",
       "      <th>user_followers</th>\n",
       "    </tr>\n",
       "  </thead>\n",
       "  <tbody>\n",
       "    <tr>\n",
       "      <th>0</th>\n",
       "      <td>Same folks said daikon paste could treat a cyt...</td>\n",
       "      <td>['PfizerBioNTech']</td>\n",
       "      <td>2020-12-20 06:06:44</td>\n",
       "      <td>0</td>\n",
       "      <td>405</td>\n",
       "    </tr>\n",
       "    <tr>\n",
       "      <th>1</th>\n",
       "      <td>While the world has been on the wrong side of ...</td>\n",
       "      <td>NaN</td>\n",
       "      <td>2020-12-13 16:27:13</td>\n",
       "      <td>1</td>\n",
       "      <td>834</td>\n",
       "    </tr>\n",
       "    <tr>\n",
       "      <th>2</th>\n",
       "      <td>Facts are immutable, Senator, even when you're...</td>\n",
       "      <td>NaN</td>\n",
       "      <td>2020-12-12 20:23:59</td>\n",
       "      <td>446</td>\n",
       "      <td>49165</td>\n",
       "    </tr>\n",
       "    <tr>\n",
       "      <th>3</th>\n",
       "      <td>Explain to me again why we need a vaccine @Bor...</td>\n",
       "      <td>['whereareallthesickpeople', 'PfizerBioNTech']</td>\n",
       "      <td>2020-12-12 20:17:19</td>\n",
       "      <td>0</td>\n",
       "      <td>152</td>\n",
       "    </tr>\n",
       "    <tr>\n",
       "      <th>4</th>\n",
       "      <td>Does anyone have any useful advice/guidance fo...</td>\n",
       "      <td>NaN</td>\n",
       "      <td>2020-12-12 20:11:42</td>\n",
       "      <td>0</td>\n",
       "      <td>105</td>\n",
       "    </tr>\n",
       "  </tbody>\n",
       "</table>\n",
       "</div>"
      ],
      "text/plain": [
       "                                                text  \\\n",
       "0  Same folks said daikon paste could treat a cyt...   \n",
       "1  While the world has been on the wrong side of ...   \n",
       "2  Facts are immutable, Senator, even when you're...   \n",
       "3  Explain to me again why we need a vaccine @Bor...   \n",
       "4  Does anyone have any useful advice/guidance fo...   \n",
       "\n",
       "                                         hashtags                 date  \\\n",
       "0                              ['PfizerBioNTech']  2020-12-20 06:06:44   \n",
       "1                                             NaN  2020-12-13 16:27:13   \n",
       "2                                             NaN  2020-12-12 20:23:59   \n",
       "3  ['whereareallthesickpeople', 'PfizerBioNTech']  2020-12-12 20:17:19   \n",
       "4                                             NaN  2020-12-12 20:11:42   \n",
       "\n",
       "   retweets  user_followers  \n",
       "0         0             405  \n",
       "1         1             834  \n",
       "2       446           49165  \n",
       "3         0             152  \n",
       "4         0             105  "
      ]
     },
     "execution_count": 9,
     "metadata": {},
     "output_type": "execute_result"
    }
   ],
   "source": [
    "# create a new dataframe that contains a subset of columns\n",
    "df_short = df[['text','hashtags','date','retweets','user_followers']]\n",
    "df_short.head()"
   ]
  },
  {
   "cell_type": "markdown",
   "metadata": {},
   "source": [
    "\n",
    "Using `.set_index` we can use the date column as index instead.\n"
   ]
  },
  {
   "cell_type": "code",
   "execution_count": 10,
   "metadata": {},
   "outputs": [],
   "source": [
    "# use the date column as the index column\n",
    "df_short = df_short.set_index('date').head()"
   ]
  },
  {
   "cell_type": "markdown",
   "metadata": {},
   "source": [
    "\n",
    "We can also change the column names to something slightly more intuitive.\n"
   ]
  },
  {
   "cell_type": "code",
   "execution_count": 11,
   "metadata": {},
   "outputs": [
    {
     "data": {
      "text/html": [
       "<div>\n",
       "<style scoped>\n",
       "    .dataframe tbody tr th:only-of-type {\n",
       "        vertical-align: middle;\n",
       "    }\n",
       "\n",
       "    .dataframe tbody tr th {\n",
       "        vertical-align: top;\n",
       "    }\n",
       "\n",
       "    .dataframe thead th {\n",
       "        text-align: right;\n",
       "    }\n",
       "</style>\n",
       "<table border=\"1\" class=\"dataframe\">\n",
       "  <thead>\n",
       "    <tr style=\"text-align: right;\">\n",
       "      <th></th>\n",
       "      <th>tweet</th>\n",
       "      <th>hashtags</th>\n",
       "      <th>retweets</th>\n",
       "      <th>followers</th>\n",
       "    </tr>\n",
       "    <tr>\n",
       "      <th>date</th>\n",
       "      <th></th>\n",
       "      <th></th>\n",
       "      <th></th>\n",
       "      <th></th>\n",
       "    </tr>\n",
       "  </thead>\n",
       "  <tbody>\n",
       "    <tr>\n",
       "      <th>2020-12-20 06:06:44</th>\n",
       "      <td>Same folks said daikon paste could treat a cyt...</td>\n",
       "      <td>['PfizerBioNTech']</td>\n",
       "      <td>0</td>\n",
       "      <td>405</td>\n",
       "    </tr>\n",
       "    <tr>\n",
       "      <th>2020-12-13 16:27:13</th>\n",
       "      <td>While the world has been on the wrong side of ...</td>\n",
       "      <td>NaN</td>\n",
       "      <td>1</td>\n",
       "      <td>834</td>\n",
       "    </tr>\n",
       "    <tr>\n",
       "      <th>2020-12-12 20:23:59</th>\n",
       "      <td>Facts are immutable, Senator, even when you're...</td>\n",
       "      <td>NaN</td>\n",
       "      <td>446</td>\n",
       "      <td>49165</td>\n",
       "    </tr>\n",
       "    <tr>\n",
       "      <th>2020-12-12 20:17:19</th>\n",
       "      <td>Explain to me again why we need a vaccine @Bor...</td>\n",
       "      <td>['whereareallthesickpeople', 'PfizerBioNTech']</td>\n",
       "      <td>0</td>\n",
       "      <td>152</td>\n",
       "    </tr>\n",
       "    <tr>\n",
       "      <th>2020-12-12 20:11:42</th>\n",
       "      <td>Does anyone have any useful advice/guidance fo...</td>\n",
       "      <td>NaN</td>\n",
       "      <td>0</td>\n",
       "      <td>105</td>\n",
       "    </tr>\n",
       "  </tbody>\n",
       "</table>\n",
       "</div>"
      ],
      "text/plain": [
       "                                                                 tweet  \\\n",
       "date                                                                     \n",
       "2020-12-20 06:06:44  Same folks said daikon paste could treat a cyt...   \n",
       "2020-12-13 16:27:13  While the world has been on the wrong side of ...   \n",
       "2020-12-12 20:23:59  Facts are immutable, Senator, even when you're...   \n",
       "2020-12-12 20:17:19  Explain to me again why we need a vaccine @Bor...   \n",
       "2020-12-12 20:11:42  Does anyone have any useful advice/guidance fo...   \n",
       "\n",
       "                                                           hashtags  retweets  \\\n",
       "date                                                                            \n",
       "2020-12-20 06:06:44                              ['PfizerBioNTech']         0   \n",
       "2020-12-13 16:27:13                                             NaN         1   \n",
       "2020-12-12 20:23:59                                             NaN       446   \n",
       "2020-12-12 20:17:19  ['whereareallthesickpeople', 'PfizerBioNTech']         0   \n",
       "2020-12-12 20:11:42                                             NaN         0   \n",
       "\n",
       "                     followers  \n",
       "date                            \n",
       "2020-12-20 06:06:44        405  \n",
       "2020-12-13 16:27:13        834  \n",
       "2020-12-12 20:23:59      49165  \n",
       "2020-12-12 20:17:19        152  \n",
       "2020-12-12 20:11:42        105  "
      ]
     },
     "execution_count": 11,
     "metadata": {},
     "output_type": "execute_result"
    }
   ],
   "source": [
    "# rename the columns\n",
    "df_short.columns = 'tweet', 'hashtags', 'retweets', 'followers'\n",
    "df_short.head()"
   ]
  },
  {
   "cell_type": "markdown",
   "metadata": {},
   "source": [
    "###### 1.1.1.3 Simple Data Manipulation\n",
    "For illustration purposes, let's now create a new column that contains the number of followers in terms of 100 followers. We will call this column \"followers_100\".\n"
   ]
  },
  {
   "cell_type": "code",
   "execution_count": 12,
   "metadata": {},
   "outputs": [
    {
     "data": {
      "text/html": [
       "<div>\n",
       "<style scoped>\n",
       "    .dataframe tbody tr th:only-of-type {\n",
       "        vertical-align: middle;\n",
       "    }\n",
       "\n",
       "    .dataframe tbody tr th {\n",
       "        vertical-align: top;\n",
       "    }\n",
       "\n",
       "    .dataframe thead th {\n",
       "        text-align: right;\n",
       "    }\n",
       "</style>\n",
       "<table border=\"1\" class=\"dataframe\">\n",
       "  <thead>\n",
       "    <tr style=\"text-align: right;\">\n",
       "      <th></th>\n",
       "      <th>tweet</th>\n",
       "      <th>hashtags</th>\n",
       "      <th>retweets</th>\n",
       "      <th>followers</th>\n",
       "      <th>followers_100</th>\n",
       "    </tr>\n",
       "    <tr>\n",
       "      <th>date</th>\n",
       "      <th></th>\n",
       "      <th></th>\n",
       "      <th></th>\n",
       "      <th></th>\n",
       "      <th></th>\n",
       "    </tr>\n",
       "  </thead>\n",
       "  <tbody>\n",
       "    <tr>\n",
       "      <th>2020-12-20 06:06:44</th>\n",
       "      <td>Same folks said daikon paste could treat a cyt...</td>\n",
       "      <td>['PfizerBioNTech']</td>\n",
       "      <td>0</td>\n",
       "      <td>405</td>\n",
       "      <td>4.05</td>\n",
       "    </tr>\n",
       "    <tr>\n",
       "      <th>2020-12-13 16:27:13</th>\n",
       "      <td>While the world has been on the wrong side of ...</td>\n",
       "      <td>NaN</td>\n",
       "      <td>1</td>\n",
       "      <td>834</td>\n",
       "      <td>8.34</td>\n",
       "    </tr>\n",
       "    <tr>\n",
       "      <th>2020-12-12 20:23:59</th>\n",
       "      <td>Facts are immutable, Senator, even when you're...</td>\n",
       "      <td>NaN</td>\n",
       "      <td>446</td>\n",
       "      <td>49165</td>\n",
       "      <td>491.65</td>\n",
       "    </tr>\n",
       "    <tr>\n",
       "      <th>2020-12-12 20:17:19</th>\n",
       "      <td>Explain to me again why we need a vaccine @Bor...</td>\n",
       "      <td>['whereareallthesickpeople', 'PfizerBioNTech']</td>\n",
       "      <td>0</td>\n",
       "      <td>152</td>\n",
       "      <td>1.52</td>\n",
       "    </tr>\n",
       "    <tr>\n",
       "      <th>2020-12-12 20:11:42</th>\n",
       "      <td>Does anyone have any useful advice/guidance fo...</td>\n",
       "      <td>NaN</td>\n",
       "      <td>0</td>\n",
       "      <td>105</td>\n",
       "      <td>1.05</td>\n",
       "    </tr>\n",
       "  </tbody>\n",
       "</table>\n",
       "</div>"
      ],
      "text/plain": [
       "                                                                 tweet  \\\n",
       "date                                                                     \n",
       "2020-12-20 06:06:44  Same folks said daikon paste could treat a cyt...   \n",
       "2020-12-13 16:27:13  While the world has been on the wrong side of ...   \n",
       "2020-12-12 20:23:59  Facts are immutable, Senator, even when you're...   \n",
       "2020-12-12 20:17:19  Explain to me again why we need a vaccine @Bor...   \n",
       "2020-12-12 20:11:42  Does anyone have any useful advice/guidance fo...   \n",
       "\n",
       "                                                           hashtags  retweets  \\\n",
       "date                                                                            \n",
       "2020-12-20 06:06:44                              ['PfizerBioNTech']         0   \n",
       "2020-12-13 16:27:13                                             NaN         1   \n",
       "2020-12-12 20:23:59                                             NaN       446   \n",
       "2020-12-12 20:17:19  ['whereareallthesickpeople', 'PfizerBioNTech']         0   \n",
       "2020-12-12 20:11:42                                             NaN         0   \n",
       "\n",
       "                     followers  followers_100  \n",
       "date                                           \n",
       "2020-12-20 06:06:44        405           4.05  \n",
       "2020-12-13 16:27:13        834           8.34  \n",
       "2020-12-12 20:23:59      49165         491.65  \n",
       "2020-12-12 20:17:19        152           1.52  \n",
       "2020-12-12 20:11:42        105           1.05  "
      ]
     },
     "execution_count": 12,
     "metadata": {},
     "output_type": "execute_result"
    }
   ],
   "source": [
    "# create a new column\n",
    "df_short['followers_100'] = df_short['followers']/100\n",
    "df_short"
   ]
  },
  {
   "cell_type": "markdown",
   "metadata": {},
   "source": [
    "\n",
    "Pandas also allows to read out descriptive statistics directly. This can be done by using `.describe()`. The output will show statistics such as the number of observations, the mean, standard deviation, min value, max value, and quantiles for each of the columns that contain numeric values.\n"
   ]
  },
  {
   "cell_type": "code",
   "execution_count": 13,
   "metadata": {},
   "outputs": [
    {
     "data": {
      "text/html": [
       "<div>\n",
       "<style scoped>\n",
       "    .dataframe tbody tr th:only-of-type {\n",
       "        vertical-align: middle;\n",
       "    }\n",
       "\n",
       "    .dataframe tbody tr th {\n",
       "        vertical-align: top;\n",
       "    }\n",
       "\n",
       "    .dataframe thead th {\n",
       "        text-align: right;\n",
       "    }\n",
       "</style>\n",
       "<table border=\"1\" class=\"dataframe\">\n",
       "  <thead>\n",
       "    <tr style=\"text-align: right;\">\n",
       "      <th></th>\n",
       "      <th>retweets</th>\n",
       "      <th>followers</th>\n",
       "      <th>followers_100</th>\n",
       "    </tr>\n",
       "  </thead>\n",
       "  <tbody>\n",
       "    <tr>\n",
       "      <th>count</th>\n",
       "      <td>5.00000</td>\n",
       "      <td>5.000000</td>\n",
       "      <td>5.00000</td>\n",
       "    </tr>\n",
       "    <tr>\n",
       "      <th>mean</th>\n",
       "      <td>89.40000</td>\n",
       "      <td>10132.200000</td>\n",
       "      <td>101.32200</td>\n",
       "    </tr>\n",
       "    <tr>\n",
       "      <th>std</th>\n",
       "      <td>199.34593</td>\n",
       "      <td>21821.913017</td>\n",
       "      <td>218.21913</td>\n",
       "    </tr>\n",
       "    <tr>\n",
       "      <th>min</th>\n",
       "      <td>0.00000</td>\n",
       "      <td>105.000000</td>\n",
       "      <td>1.05000</td>\n",
       "    </tr>\n",
       "    <tr>\n",
       "      <th>25%</th>\n",
       "      <td>0.00000</td>\n",
       "      <td>152.000000</td>\n",
       "      <td>1.52000</td>\n",
       "    </tr>\n",
       "    <tr>\n",
       "      <th>50%</th>\n",
       "      <td>0.00000</td>\n",
       "      <td>405.000000</td>\n",
       "      <td>4.05000</td>\n",
       "    </tr>\n",
       "    <tr>\n",
       "      <th>75%</th>\n",
       "      <td>1.00000</td>\n",
       "      <td>834.000000</td>\n",
       "      <td>8.34000</td>\n",
       "    </tr>\n",
       "    <tr>\n",
       "      <th>max</th>\n",
       "      <td>446.00000</td>\n",
       "      <td>49165.000000</td>\n",
       "      <td>491.65000</td>\n",
       "    </tr>\n",
       "  </tbody>\n",
       "</table>\n",
       "</div>"
      ],
      "text/plain": [
       "        retweets     followers  followers_100\n",
       "count    5.00000      5.000000        5.00000\n",
       "mean    89.40000  10132.200000      101.32200\n",
       "std    199.34593  21821.913017      218.21913\n",
       "min      0.00000    105.000000        1.05000\n",
       "25%      0.00000    152.000000        1.52000\n",
       "50%      0.00000    405.000000        4.05000\n",
       "75%      1.00000    834.000000        8.34000\n",
       "max    446.00000  49165.000000      491.65000"
      ]
     },
     "execution_count": 13,
     "metadata": {},
     "output_type": "execute_result"
    }
   ],
   "source": [
    "# read-out descriptive statistics\n",
    "df_short.describe()"
   ]
  },
  {
   "cell_type": "markdown",
   "metadata": {},
   "source": [
    "\n",
    "Another useful functionality allows us to e.g. sort the data. `.sort_values` allows us to specify by which column or variable we want the data to be sorted and whether we would like it to be sorted in ascending or descending order. \n"
   ]
  },
  {
   "cell_type": "code",
   "execution_count": 14,
   "metadata": {},
   "outputs": [
    {
     "data": {
      "text/html": [
       "<div>\n",
       "<style scoped>\n",
       "    .dataframe tbody tr th:only-of-type {\n",
       "        vertical-align: middle;\n",
       "    }\n",
       "\n",
       "    .dataframe tbody tr th {\n",
       "        vertical-align: top;\n",
       "    }\n",
       "\n",
       "    .dataframe thead th {\n",
       "        text-align: right;\n",
       "    }\n",
       "</style>\n",
       "<table border=\"1\" class=\"dataframe\">\n",
       "  <thead>\n",
       "    <tr style=\"text-align: right;\">\n",
       "      <th></th>\n",
       "      <th>tweet</th>\n",
       "      <th>hashtags</th>\n",
       "      <th>retweets</th>\n",
       "      <th>followers</th>\n",
       "      <th>followers_100</th>\n",
       "    </tr>\n",
       "    <tr>\n",
       "      <th>date</th>\n",
       "      <th></th>\n",
       "      <th></th>\n",
       "      <th></th>\n",
       "      <th></th>\n",
       "      <th></th>\n",
       "    </tr>\n",
       "  </thead>\n",
       "  <tbody>\n",
       "    <tr>\n",
       "      <th>2020-12-12 20:23:59</th>\n",
       "      <td>Facts are immutable, Senator, even when you're...</td>\n",
       "      <td>NaN</td>\n",
       "      <td>446</td>\n",
       "      <td>49165</td>\n",
       "      <td>491.65</td>\n",
       "    </tr>\n",
       "    <tr>\n",
       "      <th>2020-12-13 16:27:13</th>\n",
       "      <td>While the world has been on the wrong side of ...</td>\n",
       "      <td>NaN</td>\n",
       "      <td>1</td>\n",
       "      <td>834</td>\n",
       "      <td>8.34</td>\n",
       "    </tr>\n",
       "    <tr>\n",
       "      <th>2020-12-20 06:06:44</th>\n",
       "      <td>Same folks said daikon paste could treat a cyt...</td>\n",
       "      <td>['PfizerBioNTech']</td>\n",
       "      <td>0</td>\n",
       "      <td>405</td>\n",
       "      <td>4.05</td>\n",
       "    </tr>\n",
       "    <tr>\n",
       "      <th>2020-12-12 20:17:19</th>\n",
       "      <td>Explain to me again why we need a vaccine @Bor...</td>\n",
       "      <td>['whereareallthesickpeople', 'PfizerBioNTech']</td>\n",
       "      <td>0</td>\n",
       "      <td>152</td>\n",
       "      <td>1.52</td>\n",
       "    </tr>\n",
       "    <tr>\n",
       "      <th>2020-12-12 20:11:42</th>\n",
       "      <td>Does anyone have any useful advice/guidance fo...</td>\n",
       "      <td>NaN</td>\n",
       "      <td>0</td>\n",
       "      <td>105</td>\n",
       "      <td>1.05</td>\n",
       "    </tr>\n",
       "  </tbody>\n",
       "</table>\n",
       "</div>"
      ],
      "text/plain": [
       "                                                                 tweet  \\\n",
       "date                                                                     \n",
       "2020-12-12 20:23:59  Facts are immutable, Senator, even when you're...   \n",
       "2020-12-13 16:27:13  While the world has been on the wrong side of ...   \n",
       "2020-12-20 06:06:44  Same folks said daikon paste could treat a cyt...   \n",
       "2020-12-12 20:17:19  Explain to me again why we need a vaccine @Bor...   \n",
       "2020-12-12 20:11:42  Does anyone have any useful advice/guidance fo...   \n",
       "\n",
       "                                                           hashtags  retweets  \\\n",
       "date                                                                            \n",
       "2020-12-12 20:23:59                                             NaN       446   \n",
       "2020-12-13 16:27:13                                             NaN         1   \n",
       "2020-12-20 06:06:44                              ['PfizerBioNTech']         0   \n",
       "2020-12-12 20:17:19  ['whereareallthesickpeople', 'PfizerBioNTech']         0   \n",
       "2020-12-12 20:11:42                                             NaN         0   \n",
       "\n",
       "                     followers  followers_100  \n",
       "date                                           \n",
       "2020-12-12 20:23:59      49165         491.65  \n",
       "2020-12-13 16:27:13        834           8.34  \n",
       "2020-12-20 06:06:44        405           4.05  \n",
       "2020-12-12 20:17:19        152           1.52  \n",
       "2020-12-12 20:11:42        105           1.05  "
      ]
     },
     "execution_count": 14,
     "metadata": {},
     "output_type": "execute_result"
    }
   ],
   "source": [
    "# create a new dataframe that is sorted by followers in descending order\n",
    "df_short_sorted = df_short.sort_values(by='followers',ascending=False)\n",
    "df_short_sorted.head()"
   ]
  },
  {
   "cell_type": "markdown",
   "metadata": {},
   "source": [
    "\n",
    "We can now have a look at what the user with the most followers twittered about the BioNTech-Pfizer vaccine.\n"
   ]
  },
  {
   "cell_type": "code",
   "execution_count": 15,
   "metadata": {},
   "outputs": [
    {
     "data": {
      "text/plain": [
       "\"Facts are immutable, Senator, even when you're not ethically sturdy enough to acknowledge them. (1) You were born i… https://t.co/jqgV18kch4\""
      ]
     },
     "execution_count": 15,
     "metadata": {},
     "output_type": "execute_result"
    }
   ],
   "source": [
    "# read out the tweet corresponding to the user with the most followers\n",
    "df_short_sorted.loc[df_short_sorted.index[0],'tweet']"
   ]
  },
  {
   "cell_type": "markdown",
   "metadata": {},
   "source": [
    "\n",
    "A more straightforward way would be to simply obtain the row index of the tweet corresponding to the user with the most followers and using this combined with `.loc` directly. This avoids having to create a new dataframe that is a sorted version of the old one. Here I use `.argmax()`, which returns the index of the largest element of a given series. Since it only works on series, I apply it to `df_short['followers']`. This code snippet then becomes the new input of `df_short.index[]`. Give yourself a minute to understand the syntax before you move on.\n"
   ]
  },
  {
   "cell_type": "code",
   "execution_count": 16,
   "metadata": {},
   "outputs": [
    {
     "data": {
      "text/plain": [
       "\"Facts are immutable, Senator, even when you're not ethically sturdy enough to acknowledge them. (1) You were born i… https://t.co/jqgV18kch4\""
      ]
     },
     "execution_count": 16,
     "metadata": {},
     "output_type": "execute_result"
    }
   ],
   "source": [
    "# read out the tweet corresponding to the user with the most followers from the original dataframe\n",
    "df_short.loc[df_short.index[df_short['followers'].argmax()],'tweet']"
   ]
  },
  {
   "cell_type": "markdown",
   "metadata": {},
   "source": [
    "##### 1.1.2 Numpy\n",
    "\n",
    "NumPy is one of Python's main library for numerical programming. It is hence widely used in the private-sector as well as in academia. NumPy offers:\n",
    "* NumPy arrays\n",
    "* NumPy matrices\n",
    "* Fundamental linear algebra operators\n",
    "\n",
    "For more details, have a look at the official [NumPy Documentation](https://numpy.org/doc/stable/). \n",
    "\n",
    "As a word of caution, using NumPy matrices is no longer advised, because they will be removed in a future release. This is because the matrix multiplication operator `@` was not available for `ndarras`s prior to Python version 3.5. Being able to use `@` instead of `.dot()` was the main advantage of NumPy matrices over NumPy arrays. Since the same syntax sometimes entails different operations for arrays and for matrices, one should just stick to using arrays. This avoids bugs.\n",
    "\n",
    "###### 1.1.2.1 Basics\n",
    "\n",
    "Let's first import NumPy and then generate a basic Numpy `array`. \n"
   ]
  },
  {
   "cell_type": "code",
   "execution_count": 17,
   "metadata": {},
   "outputs": [
    {
     "data": {
      "text/plain": [
       "array([1, 2, 3])"
      ]
     },
     "execution_count": 17,
     "metadata": {},
     "output_type": "execute_result"
    }
   ],
   "source": [
    "import numpy as np\n",
    "\n",
    "x = np.array([1, 2, 3])\n",
    "x"
   ]
  },
  {
   "cell_type": "markdown",
   "metadata": {},
   "source": [
    "we can also generate a `list` or `tuple` and convert it to a NumPy `array` using `np.asarray()`."
   ]
  },
  {
   "cell_type": "code",
   "execution_count": 18,
   "metadata": {},
   "outputs": [
    {
     "data": {
      "text/plain": [
       "array([1, 2, 3])"
      ]
     },
     "execution_count": 18,
     "metadata": {},
     "output_type": "execute_result"
    }
   ],
   "source": [
    "y = [1, 2, 3]\n",
    "x = np.asarray(y)\n",
    "x"
   ]
  },
  {
   "cell_type": "markdown",
   "metadata": {},
   "source": [
    "We can read out the type of an object using `type()`."
   ]
  },
  {
   "cell_type": "code",
   "execution_count": 19,
   "metadata": {},
   "outputs": [
    {
     "data": {
      "text/plain": [
       "numpy.ndarray"
      ]
     },
     "execution_count": 19,
     "metadata": {},
     "output_type": "execute_result"
    }
   ],
   "source": [
    "type(x)"
   ]
  },
  {
   "cell_type": "markdown",
   "metadata": {},
   "source": [
    "`.shape` gives us information about the number of rows and columns of an array."
   ]
  },
  {
   "cell_type": "code",
   "execution_count": 20,
   "metadata": {},
   "outputs": [
    {
     "data": {
      "text/plain": [
       "(3,)"
      ]
     },
     "execution_count": 20,
     "metadata": {},
     "output_type": "execute_result"
    }
   ],
   "source": [
    "x.shape"
   ]
  },
  {
   "cell_type": "markdown",
   "metadata": {},
   "source": [
    "In case we are interested in the number of rows only, we can read out the first element of the `.shape` attribute."
   ]
  },
  {
   "cell_type": "code",
   "execution_count": 21,
   "metadata": {},
   "outputs": [
    {
     "data": {
      "text/plain": [
       "3"
      ]
     },
     "execution_count": 21,
     "metadata": {},
     "output_type": "execute_result"
    }
   ],
   "source": [
    "x.shape[0]"
   ]
  },
  {
   "cell_type": "markdown",
   "metadata": {},
   "source": [
    "To create and identity matrix, we can use `np.eye()`."
   ]
  },
  {
   "cell_type": "code",
   "execution_count": 22,
   "metadata": {},
   "outputs": [
    {
     "data": {
      "text/plain": [
       "array([[1., 0.],\n",
       "       [0., 1.]])"
      ]
     },
     "execution_count": 22,
     "metadata": {},
     "output_type": "execute_result"
    }
   ],
   "source": [
    "np.eye(2)"
   ]
  },
  {
   "cell_type": "markdown",
   "metadata": {},
   "source": [
    "A zero matrix can be created using `np.zeros()`."
   ]
  },
  {
   "cell_type": "code",
   "execution_count": 23,
   "metadata": {},
   "outputs": [
    {
     "data": {
      "text/plain": [
       "array([[0., 0., 0.],\n",
       "       [0., 0., 0.]])"
      ]
     },
     "execution_count": 23,
     "metadata": {},
     "output_type": "execute_result"
    }
   ],
   "source": [
    "np.zeros([2,3])"
   ]
  },
  {
   "cell_type": "markdown",
   "metadata": {},
   "source": [
    "Similarly, we can create a matrix of ones using `np.ones()`."
   ]
  },
  {
   "cell_type": "code",
   "execution_count": 24,
   "metadata": {},
   "outputs": [
    {
     "data": {
      "text/plain": [
       "array([[1., 1.],\n",
       "       [1., 1.],\n",
       "       [1., 1.],\n",
       "       [1., 1.]])"
      ]
     },
     "execution_count": 24,
     "metadata": {},
     "output_type": "execute_result"
    }
   ],
   "source": [
    "np.ones([4,2])"
   ]
  },
  {
   "cell_type": "markdown",
   "metadata": {},
   "source": [
    "An empty matrix can be created with `np.empty()`."
   ]
  },
  {
   "cell_type": "code",
   "execution_count": 25,
   "metadata": {},
   "outputs": [
    {
     "data": {
      "text/plain": [
       "array([[2.12199579e-312, 0.00000000e+000, 0.00000000e+000],\n",
       "       [0.00000000e+000, 2.48273508e-312, 2.14321575e-312],\n",
       "       [2.01589600e-312, 2.05833592e-312, 2.14321575e-312]])"
      ]
     },
     "execution_count": 25,
     "metadata": {},
     "output_type": "execute_result"
    }
   ],
   "source": [
    "x = np.empty([3,3])\n",
    "x"
   ]
  },
  {
   "cell_type": "markdown",
   "metadata": {},
   "source": [
    "To create a sequence, we can use `.arange()`."
   ]
  },
  {
   "cell_type": "code",
   "execution_count": 26,
   "metadata": {},
   "outputs": [
    {
     "data": {
      "text/plain": [
       "array([0, 1, 2, 3, 4, 5, 6, 7, 8, 9])"
      ]
     },
     "execution_count": 26,
     "metadata": {},
     "output_type": "execute_result"
    }
   ],
   "source": [
    "np.arange(0,10,1)"
   ]
  },
  {
   "cell_type": "markdown",
   "metadata": {},
   "source": [
    "###### 1.1.2.2 Array Indexing\n",
    "\n",
    "Let's create a two-dimensional array and take a look at array indexing."
   ]
  },
  {
   "cell_type": "code",
   "execution_count": 27,
   "metadata": {},
   "outputs": [
    {
     "data": {
      "text/plain": [
       "array([[1, 2],\n",
       "       [3, 4]])"
      ]
     },
     "execution_count": 27,
     "metadata": {},
     "output_type": "execute_result"
    }
   ],
   "source": [
    "y = np.array([[1, 2],[3, 4]])\n",
    "y"
   ]
  },
  {
   "cell_type": "markdown",
   "metadata": {},
   "source": [
    "`y[0]` gives the first row."
   ]
  },
  {
   "cell_type": "code",
   "execution_count": 28,
   "metadata": {},
   "outputs": [
    {
     "data": {
      "text/plain": [
       "array([1, 2])"
      ]
     },
     "execution_count": 28,
     "metadata": {},
     "output_type": "execute_result"
    }
   ],
   "source": [
    "y[0]"
   ]
  },
  {
   "cell_type": "markdown",
   "metadata": {},
   "source": [
    "`y[-1]` returns the last row."
   ]
  },
  {
   "cell_type": "code",
   "execution_count": 29,
   "metadata": {},
   "outputs": [
    {
     "data": {
      "text/plain": [
       "array([3, 4])"
      ]
     },
     "execution_count": 29,
     "metadata": {},
     "output_type": "execute_result"
    }
   ],
   "source": [
    "y[-1]"
   ]
  },
  {
   "cell_type": "markdown",
   "metadata": {},
   "source": [
    "`y[:,0]` returns the first column."
   ]
  },
  {
   "cell_type": "code",
   "execution_count": 30,
   "metadata": {},
   "outputs": [
    {
     "data": {
      "text/plain": [
       "array([1, 3])"
      ]
     },
     "execution_count": 30,
     "metadata": {},
     "output_type": "execute_result"
    }
   ],
   "source": [
    "y[:,0]"
   ]
  },
  {
   "cell_type": "markdown",
   "metadata": {},
   "source": [
    "Accordingly, the upper-left-corner element can be indexed as follows."
   ]
  },
  {
   "cell_type": "code",
   "execution_count": 31,
   "metadata": {},
   "outputs": [
    {
     "data": {
      "text/plain": [
       "1"
      ]
     },
     "execution_count": 31,
     "metadata": {},
     "output_type": "execute_result"
    }
   ],
   "source": [
    "y[0,0]"
   ]
  },
  {
   "cell_type": "markdown",
   "metadata": {},
   "source": [
    "We can use our newly acquired skills to manipulate arrays and to overwrite elements."
   ]
  },
  {
   "cell_type": "code",
   "execution_count": 32,
   "metadata": {},
   "outputs": [
    {
     "name": "stdout",
     "output_type": "stream",
     "text": [
      "[[0. 0. 0.]\n",
      " [0. 0. 0.]\n",
      " [0. 0. 0.]]\n"
     ]
    },
    {
     "data": {
      "text/plain": [
       "array([[  0.,   0.,   0.],\n",
       "       [  0., 100.,   0.],\n",
       "       [  0.,   0.,   0.]])"
      ]
     },
     "execution_count": 32,
     "metadata": {},
     "output_type": "execute_result"
    }
   ],
   "source": [
    "x = np.zeros([3,3])\n",
    "print(x)\n",
    "\n",
    "x[1,1] = 100\n",
    "x"
   ]
  },
  {
   "cell_type": "markdown",
   "metadata": {},
   "source": [
    "Here I changed the element with index `[1,1]` to 100. We can replace an entire row in a similar fashion."
   ]
  },
  {
   "cell_type": "code",
   "execution_count": 33,
   "metadata": {},
   "outputs": [
    {
     "data": {
      "text/plain": [
       "array([[200., 200., 200.],\n",
       "       [  0., 100.,   0.],\n",
       "       [  0.,   0.,   0.]])"
      ]
     },
     "execution_count": 33,
     "metadata": {},
     "output_type": "execute_result"
    }
   ],
   "source": [
    "x[0,:] = 200\n",
    "x"
   ]
  },
  {
   "cell_type": "markdown",
   "metadata": {},
   "source": [
    "Note one important thing. While lists allow for manipulating values, tuples are not mutable! "
   ]
  },
  {
   "cell_type": "code",
   "execution_count": 34,
   "metadata": {},
   "outputs": [
    {
     "data": {
      "text/plain": [
       "list"
      ]
     },
     "execution_count": 34,
     "metadata": {},
     "output_type": "execute_result"
    }
   ],
   "source": [
    "x = [1,2,3] # this is a list\n",
    "type(x)"
   ]
  },
  {
   "cell_type": "code",
   "execution_count": 35,
   "metadata": {},
   "outputs": [
    {
     "data": {
      "text/plain": [
       "[2, 2, 3]"
      ]
     },
     "execution_count": 35,
     "metadata": {},
     "output_type": "execute_result"
    }
   ],
   "source": [
    "x[0] = 2\n",
    "x"
   ]
  },
  {
   "cell_type": "code",
   "execution_count": 36,
   "metadata": {},
   "outputs": [
    {
     "data": {
      "text/plain": [
       "tuple"
      ]
     },
     "execution_count": 36,
     "metadata": {},
     "output_type": "execute_result"
    }
   ],
   "source": [
    "x = (1,2,3) # this is a tuple\n",
    "type(x)"
   ]
  },
  {
   "cell_type": "code",
   "execution_count": 37,
   "metadata": {},
   "outputs": [
    {
     "ename": "TypeError",
     "evalue": "'tuple' object does not support item assignment",
     "output_type": "error",
     "traceback": [
      "\u001b[1;31m---------------------------------------------------------------------------\u001b[0m",
      "\u001b[1;31mTypeError\u001b[0m                                 Traceback (most recent call last)",
      "\u001b[1;32m<ipython-input-37-11ecff5c712f>\u001b[0m in \u001b[0;36m<module>\u001b[1;34m\u001b[0m\n\u001b[1;32m----> 1\u001b[1;33m \u001b[0mx\u001b[0m\u001b[1;33m[\u001b[0m\u001b[1;36m0\u001b[0m\u001b[1;33m]\u001b[0m \u001b[1;33m=\u001b[0m \u001b[1;36m2\u001b[0m\u001b[1;33m\u001b[0m\u001b[1;33m\u001b[0m\u001b[0m\n\u001b[0m\u001b[0;32m      2\u001b[0m \u001b[0mx\u001b[0m\u001b[1;33m\u001b[0m\u001b[1;33m\u001b[0m\u001b[0m\n",
      "\u001b[1;31mTypeError\u001b[0m: 'tuple' object does not support item assignment"
     ]
    }
   ],
   "source": [
    "x[0] = 2\n",
    "x"
   ]
  },
  {
   "cell_type": "markdown",
   "metadata": {},
   "source": [
    "###### 1.1.2.3 Arythmetic Operations\n",
    "\n",
    "One important thing to point out is that `+`, `-`, `*`, `/` and `**` are elementwise operators."
   ]
  },
  {
   "cell_type": "code",
   "execution_count": 38,
   "metadata": {},
   "outputs": [
    {
     "data": {
      "text/plain": [
       "array([[5, 4],\n",
       "       [4, 2]])"
      ]
     },
     "execution_count": 38,
     "metadata": {},
     "output_type": "execute_result"
    }
   ],
   "source": [
    "x = np.array([[3,2],[4,1]])\n",
    "\n",
    "y = np.array([[2,2],[0,1]])\n",
    "\n",
    "x+y"
   ]
  },
  {
   "cell_type": "code",
   "execution_count": 39,
   "metadata": {},
   "outputs": [
    {
     "data": {
      "text/plain": [
       "array([[6, 4],\n",
       "       [0, 1]])"
      ]
     },
     "execution_count": 39,
     "metadata": {},
     "output_type": "execute_result"
    }
   ],
   "source": [
    "x*y"
   ]
  },
  {
   "cell_type": "code",
   "execution_count": 40,
   "metadata": {},
   "outputs": [
    {
     "data": {
      "text/plain": [
       "array([[0.66666667, 1.        ],\n",
       "       [0.        , 1.        ]])"
      ]
     },
     "execution_count": 40,
     "metadata": {},
     "output_type": "execute_result"
    }
   ],
   "source": [
    "y/x"
   ]
  },
  {
   "cell_type": "markdown",
   "metadata": {},
   "source": [
    "We can also add or multiply with scalars."
   ]
  },
  {
   "cell_type": "code",
   "execution_count": 41,
   "metadata": {},
   "outputs": [
    {
     "data": {
      "text/plain": [
       "array([[20, 20],\n",
       "       [ 0, 10]])"
      ]
     },
     "execution_count": 41,
     "metadata": {},
     "output_type": "execute_result"
    }
   ],
   "source": [
    "y*10"
   ]
  },
  {
   "cell_type": "code",
   "execution_count": 42,
   "metadata": {},
   "outputs": [
    {
     "data": {
      "text/plain": [
       "array([[23, 22],\n",
       "       [24, 21]])"
      ]
     },
     "execution_count": 42,
     "metadata": {},
     "output_type": "execute_result"
    }
   ],
   "source": [
    "x+20"
   ]
  },
  {
   "cell_type": "markdown",
   "metadata": {},
   "source": [
    "To conduct matrix multiplication, we need to use the `@` operator."
   ]
  },
  {
   "cell_type": "code",
   "execution_count": 43,
   "metadata": {},
   "outputs": [
    {
     "data": {
      "text/plain": [
       "array([[6, 8],\n",
       "       [8, 9]])"
      ]
     },
     "execution_count": 43,
     "metadata": {},
     "output_type": "execute_result"
    }
   ],
   "source": [
    "x@y"
   ]
  },
  {
   "cell_type": "markdown",
   "metadata": {},
   "source": [
    "To compute a matrix power we use `matrix_power()` from `np.linalg` and not `**`!"
   ]
  },
  {
   "cell_type": "code",
   "execution_count": 44,
   "metadata": {},
   "outputs": [
    {
     "data": {
      "text/plain": [
       "array([[17,  8],\n",
       "       [16,  9]])"
      ]
     },
     "execution_count": 44,
     "metadata": {},
     "output_type": "execute_result"
    }
   ],
   "source": [
    "from numpy.linalg import matrix_power \n",
    "\n",
    "matrix_power(x,2)"
   ]
  },
  {
   "cell_type": "markdown",
   "metadata": {},
   "source": [
    "To divide two matrices by one another, we need to use the `np.linalg.inv()` attribute that computes matrix inverses."
   ]
  },
  {
   "cell_type": "code",
   "execution_count": 45,
   "metadata": {},
   "outputs": [
    {
     "data": {
      "text/plain": [
       "array([[-0.2,  0.4],\n",
       "       [ 0.8, -0.6]])"
      ]
     },
     "execution_count": 45,
     "metadata": {},
     "output_type": "execute_result"
    }
   ],
   "source": [
    "np.linalg.inv(x)"
   ]
  },
  {
   "cell_type": "code",
   "execution_count": 46,
   "metadata": {},
   "outputs": [
    {
     "data": {
      "text/plain": [
       "array([[ 1.2, -0.4],\n",
       "       [ 0.8, -0.6]])"
      ]
     },
     "execution_count": 46,
     "metadata": {},
     "output_type": "execute_result"
    }
   ],
   "source": [
    "y@np.linalg.inv(x)"
   ]
  },
  {
   "cell_type": "markdown",
   "metadata": {},
   "source": [
    "Let's look at arrays that are not symmetric."
   ]
  },
  {
   "cell_type": "code",
   "execution_count": 47,
   "metadata": {},
   "outputs": [
    {
     "data": {
      "text/plain": [
       "array([[1, 2, 3],\n",
       "       [4, 5, 6]])"
      ]
     },
     "execution_count": 47,
     "metadata": {},
     "output_type": "execute_result"
    }
   ],
   "source": [
    "x = np.array([[1,2,3],[4,5,6]])\n",
    "x"
   ]
  },
  {
   "cell_type": "markdown",
   "metadata": {},
   "source": [
    "Note that we can still compute `y @ x`, but not `x @ y`, due to the dimension mismatch!"
   ]
  },
  {
   "cell_type": "code",
   "execution_count": 48,
   "metadata": {},
   "outputs": [
    {
     "data": {
      "text/plain": [
       "array([[10, 14, 18],\n",
       "       [ 4,  5,  6]])"
      ]
     },
     "execution_count": 48,
     "metadata": {},
     "output_type": "execute_result"
    }
   ],
   "source": [
    "y@x"
   ]
  },
  {
   "cell_type": "markdown",
   "metadata": {},
   "source": [
    "To compute `x @ y`, we need to transpose x using the `.T` attribute."
   ]
  },
  {
   "cell_type": "code",
   "execution_count": 49,
   "metadata": {},
   "outputs": [
    {
     "data": {
      "text/plain": [
       "array([[1, 4],\n",
       "       [2, 5],\n",
       "       [3, 6]])"
      ]
     },
     "execution_count": 49,
     "metadata": {},
     "output_type": "execute_result"
    }
   ],
   "source": [
    "x.T"
   ]
  },
  {
   "cell_type": "code",
   "execution_count": 50,
   "metadata": {},
   "outputs": [
    {
     "data": {
      "text/plain": [
       "array([[ 2,  6],\n",
       "       [ 4,  9],\n",
       "       [ 6, 12]])"
      ]
     },
     "execution_count": 50,
     "metadata": {},
     "output_type": "execute_result"
    }
   ],
   "source": [
    "x.T@y"
   ]
  },
  {
   "cell_type": "markdown",
   "metadata": {},
   "source": [
    "There is one important detail that is worth pointing out. While the transpose works well for 2D arrays, it does not work on 1D arrays. This is because `.T` actually swaps the dimensions of an array, but this does not have any effect, if the array only has one dimension. \n"
   ]
  },
  {
   "cell_type": "code",
   "execution_count": 51,
   "metadata": {},
   "outputs": [
    {
     "data": {
      "text/plain": [
       "array([1, 2, 3, 4])"
      ]
     },
     "execution_count": 51,
     "metadata": {},
     "output_type": "execute_result"
    }
   ],
   "source": [
    "x = np.array([1,2,3,4])\n",
    "x"
   ]
  },
  {
   "cell_type": "code",
   "execution_count": 52,
   "metadata": {},
   "outputs": [
    {
     "data": {
      "text/plain": [
       "array([1, 2, 3, 4])"
      ]
     },
     "execution_count": 52,
     "metadata": {},
     "output_type": "execute_result"
    }
   ],
   "source": [
    "x.T"
   ]
  },
  {
   "cell_type": "markdown",
   "metadata": {},
   "source": [
    "To transpose the vector nonetheless, we can use the `.reshape()` or define a `None` axis. "
   ]
  },
  {
   "cell_type": "code",
   "execution_count": 53,
   "metadata": {},
   "outputs": [
    {
     "data": {
      "text/plain": [
       "array([[1],\n",
       "       [2],\n",
       "       [3],\n",
       "       [4]])"
      ]
     },
     "execution_count": 53,
     "metadata": {},
     "output_type": "execute_result"
    }
   ],
   "source": [
    "x.reshape([4,1])"
   ]
  },
  {
   "cell_type": "code",
   "execution_count": 54,
   "metadata": {},
   "outputs": [
    {
     "data": {
      "text/plain": [
       "array([[1],\n",
       "       [2],\n",
       "       [3],\n",
       "       [4]])"
      ]
     },
     "execution_count": 54,
     "metadata": {},
     "output_type": "execute_result"
    }
   ],
   "source": [
    "x[:,None]"
   ]
  },
  {
   "cell_type": "markdown",
   "metadata": {},
   "source": [
    "###### 1.1.2.4 Other Array Operations\n",
    "\n",
    "NumPy offers a bunch of additional attributes that can come in quite handy. "
   ]
  },
  {
   "cell_type": "code",
   "execution_count": 55,
   "metadata": {},
   "outputs": [
    {
     "data": {
      "text/plain": [
       "10"
      ]
     },
     "execution_count": 55,
     "metadata": {},
     "output_type": "execute_result"
    }
   ],
   "source": [
    "x.sum() # computes the sum of the elements"
   ]
  },
  {
   "cell_type": "code",
   "execution_count": 56,
   "metadata": {},
   "outputs": [
    {
     "data": {
      "text/plain": [
       "array([ 1,  3,  6, 10], dtype=int32)"
      ]
     },
     "execution_count": 56,
     "metadata": {},
     "output_type": "execute_result"
    }
   ],
   "source": [
    "x.cumsum() # computes the cumulated sum"
   ]
  },
  {
   "cell_type": "code",
   "execution_count": 57,
   "metadata": {},
   "outputs": [
    {
     "data": {
      "text/plain": [
       "2.5"
      ]
     },
     "execution_count": 57,
     "metadata": {},
     "output_type": "execute_result"
    }
   ],
   "source": [
    "x.mean() # computes the mean"
   ]
  },
  {
   "cell_type": "code",
   "execution_count": 58,
   "metadata": {},
   "outputs": [
    {
     "name": "stdout",
     "output_type": "stream",
     "text": [
      "[[2 2]\n",
      " [0 1]]\n"
     ]
    },
    {
     "data": {
      "text/plain": [
       "array([1. , 1.5])"
      ]
     },
     "execution_count": 58,
     "metadata": {},
     "output_type": "execute_result"
    }
   ],
   "source": [
    "print(y)\n",
    "y.mean(axis=0) # computes the mean of a 2D array across rows"
   ]
  },
  {
   "cell_type": "code",
   "execution_count": 59,
   "metadata": {},
   "outputs": [
    {
     "name": "stdout",
     "output_type": "stream",
     "text": [
      "[[2 2]\n",
      " [0 1]]\n"
     ]
    },
    {
     "data": {
      "text/plain": [
       "array([2. , 0.5])"
      ]
     },
     "execution_count": 59,
     "metadata": {},
     "output_type": "execute_result"
    }
   ],
   "source": [
    "print(y)\n",
    "y.mean(axis=1) # computes the mean of a 2D array across columns"
   ]
  },
  {
   "cell_type": "code",
   "execution_count": 60,
   "metadata": {},
   "outputs": [
    {
     "data": {
      "text/plain": [
       "1.25"
      ]
     },
     "execution_count": 60,
     "metadata": {},
     "output_type": "execute_result"
    }
   ],
   "source": [
    "x.var() # computes the variance"
   ]
  },
  {
   "cell_type": "code",
   "execution_count": 61,
   "metadata": {},
   "outputs": [
    {
     "data": {
      "text/plain": [
       "3"
      ]
     },
     "execution_count": 61,
     "metadata": {},
     "output_type": "execute_result"
    }
   ],
   "source": [
    "x.argmax() # returns the index of the largest elements"
   ]
  },
  {
   "cell_type": "markdown",
   "metadata": {},
   "source": [
    "There is many more operators and this list is by far cot complete. For additional operators, please have a look at the documentation. \n",
    "\n",
    "###### 1.1.2.5 Comparisons & Vectorized Functions\n",
    "\n",
    "Logical operators and vectorized functions are another important feature. In NumPy they operate element-wise on arrays.\n"
   ]
  },
  {
   "cell_type": "code",
   "execution_count": 62,
   "metadata": {},
   "outputs": [
    {
     "data": {
      "text/plain": [
       "array([[ True, False, False, False]])"
      ]
     },
     "execution_count": 62,
     "metadata": {},
     "output_type": "execute_result"
    }
   ],
   "source": [
    "y = np.ones([1,4])\n",
    "y == x # check whether the elements in x and y are the same"
   ]
  },
  {
   "cell_type": "code",
   "execution_count": 63,
   "metadata": {},
   "outputs": [
    {
     "data": {
      "text/plain": [
       "array([[ True,  True,  True,  True]])"
      ]
     },
     "execution_count": 63,
     "metadata": {},
     "output_type": "execute_result"
    }
   ],
   "source": [
    "y <= x # check whether the elements in y are smaller or equal to the elements in x"
   ]
  },
  {
   "cell_type": "code",
   "execution_count": 64,
   "metadata": {},
   "outputs": [
    {
     "data": {
      "text/plain": [
       "array([[ True,  True,  True,  True]])"
      ]
     },
     "execution_count": 64,
     "metadata": {},
     "output_type": "execute_result"
    }
   ],
   "source": [
    "y == 1 # check whether y is 1"
   ]
  },
  {
   "cell_type": "markdown",
   "metadata": {},
   "source": [
    "Note that Python automatically returns so the so-called `Boolean` data type. `1` denotes `True` and `0` denotes `False`.\n",
    "\n",
    "Examples of vectorized functions are `log`, `exp`, `sqrt`.\n"
   ]
  },
  {
   "cell_type": "code",
   "execution_count": 65,
   "metadata": {},
   "outputs": [
    {
     "data": {
      "text/plain": [
       "array([0.        , 0.69314718, 1.09861229, 1.38629436])"
      ]
     },
     "execution_count": 65,
     "metadata": {},
     "output_type": "execute_result"
    }
   ],
   "source": [
    "np.log(x) # computes the log"
   ]
  },
  {
   "cell_type": "code",
   "execution_count": 66,
   "metadata": {},
   "outputs": [
    {
     "data": {
      "text/plain": [
       "array([1.        , 1.41421356, 1.73205081, 2.        ])"
      ]
     },
     "execution_count": 66,
     "metadata": {},
     "output_type": "execute_result"
    }
   ],
   "source": [
    "np.sqrt(x) # compute the square root"
   ]
  },
  {
   "cell_type": "code",
   "execution_count": 67,
   "metadata": {},
   "outputs": [
    {
     "data": {
      "text/plain": [
       "array([ 2.71828183,  7.3890561 , 20.08553692, 54.59815003])"
      ]
     },
     "execution_count": 67,
     "metadata": {},
     "output_type": "execute_result"
    }
   ],
   "source": [
    "np.exp(x) # computes the exponential function"
   ]
  },
  {
   "cell_type": "markdown",
   "metadata": {},
   "source": [
    "Another useful function is `where()`, which allows e.g. changing elements for which a certain condition is met."
   ]
  },
  {
   "cell_type": "code",
   "execution_count": 68,
   "metadata": {},
   "outputs": [
    {
     "data": {
      "text/plain": [
       "array([1, 1, 1, 0])"
      ]
     },
     "execution_count": 68,
     "metadata": {},
     "output_type": "execute_result"
    }
   ],
   "source": [
    "np.where(x < 4, 1, 0) # inserts a 1 when x is smaller than 4 and a 0 otherwise"
   ]
  },
  {
   "cell_type": "code",
   "execution_count": 69,
   "metadata": {},
   "outputs": [
    {
     "data": {
      "text/plain": [
       "array([1, 2, 3, 4])"
      ]
     },
     "execution_count": 69,
     "metadata": {},
     "output_type": "execute_result"
    }
   ],
   "source": [
    "x "
   ]
  },
  {
   "cell_type": "markdown",
   "metadata": {},
   "source": [
    "###### 1.1.2.6 Copies\n",
    "\n",
    "As a last important piece, we cover copies of arrays. Let's say `b` is equal to `x`."
   ]
  },
  {
   "cell_type": "code",
   "execution_count": 70,
   "metadata": {},
   "outputs": [
    {
     "data": {
      "text/plain": [
       "array([1, 2, 3, 4])"
      ]
     },
     "execution_count": 70,
     "metadata": {},
     "output_type": "execute_result"
    }
   ],
   "source": [
    "b = x\n",
    "b"
   ]
  },
  {
   "cell_type": "markdown",
   "metadata": {},
   "source": [
    "Let's now change the first element in `b` and see what happens."
   ]
  },
  {
   "cell_type": "code",
   "execution_count": 71,
   "metadata": {},
   "outputs": [
    {
     "data": {
      "text/plain": [
       "array([5, 2, 3, 4])"
      ]
     },
     "execution_count": 71,
     "metadata": {},
     "output_type": "execute_result"
    }
   ],
   "source": [
    "b[0] = 5\n",
    "x"
   ]
  },
  {
   "cell_type": "markdown",
   "metadata": {},
   "source": [
    "Since in Python `b` and `x` are just references or pointers to data, we actually changes `x` by changing `b`! Pause for a minute to think about this behaviour.\n",
    "\n",
    "To actually make a copy of `x`, we can use `np.copy()`."
   ]
  },
  {
   "cell_type": "code",
   "execution_count": 72,
   "metadata": {},
   "outputs": [
    {
     "data": {
      "text/plain": [
       "array([5, 2, 3, 4])"
      ]
     },
     "execution_count": 72,
     "metadata": {},
     "output_type": "execute_result"
    }
   ],
   "source": [
    "b = np.copy(x)\n",
    "b[0] = 1\n",
    "x\n"
   ]
  },
  {
   "cell_type": "markdown",
   "metadata": {},
   "source": [
    "This time `x` was left unchanged, since we created a so-called deep-copy. Note, however, that this behaviour does not apply to transformations of arrays. "
   ]
  },
  {
   "cell_type": "code",
   "execution_count": 73,
   "metadata": {},
   "outputs": [
    {
     "name": "stdout",
     "output_type": "stream",
     "text": [
      "[5 2 3 4]\n",
      "[10  4  6  8]\n"
     ]
    },
    {
     "data": {
      "text/plain": [
       "array([5, 2, 3, 4])"
      ]
     },
     "execution_count": 73,
     "metadata": {},
     "output_type": "execute_result"
    }
   ],
   "source": [
    "print(x)\n",
    "\n",
    "b = x * 2\n",
    "print(b)\n",
    "\n",
    "b[0] = 1\n",
    "x\n"
   ]
  },
  {
   "cell_type": "markdown",
   "metadata": {},
   "source": [
    "In this case, changing an element in `b` does not change `x`, since we actually created a new object and not just a pointer. \n",
    "\n",
    "##### 1.1.3 Matplotlib\n",
    "\n",
    "Matplotlib is one of Python's graphics libraries. Amongst other things, it allows for \n",
    "* 2D and 3D plotting \n",
    "* Saving the output (e.g. as a .jpg, .pdf, .png, etc.)\n",
    "* Animating charts\n",
    "* Integrating LaTeX code\n",
    "\n",
    "If you are looking for something specific, you can also give the [Matplotlib Documentation](https://matplotlib.org/contents.html) a try. Generally, Matplotlib offers two different APIs. A Matlab inspired one and one that is object oriented. We will briefly touch on both, but not go into much detail. "
   ]
  },
  {
   "cell_type": "code",
   "execution_count": 74,
   "metadata": {},
   "outputs": [],
   "source": [
    "%matplotlib inline\n",
    "import matplotlib.pyplot as plt\n",
    "plt.rcParams[\"figure.figsize\"] = (10, 6) #set default figure size"
   ]
  },
  {
   "cell_type": "code",
   "execution_count": 75,
   "metadata": {},
   "outputs": [],
   "source": [
    "x = np.arange(-11,11,1)\n",
    "y = x**2"
   ]
  },
  {
   "cell_type": "markdown",
   "metadata": {},
   "source": [
    "###### 1.1.3.1 Matlab-like API"
   ]
  },
  {
   "cell_type": "code",
   "execution_count": 76,
   "metadata": {},
   "outputs": [
    {
     "data": {
      "image/png": "[encoded data removed]",
      "text/plain": [
       "<Figure size 720x432 with 1 Axes>"
      ]
     },
     "metadata": {
      "needs_background": "light"
     },
     "output_type": "display_data"
    }
   ],
   "source": [
    "plt.plot(x,y)\n",
    "plt.show()"
   ]
  },
  {
   "cell_type": "markdown",
   "metadata": {},
   "source": [
    "You can adjust the markers and line color as follows."
   ]
  },
  {
   "cell_type": "code",
   "execution_count": 77,
   "metadata": {},
   "outputs": [
    {
     "data": {
      "image/png": "[encoded data removed]",
      "text/plain": [
       "<Figure size 720x432 with 1 Axes>"
      ]
     },
     "metadata": {
      "needs_background": "light"
     },
     "output_type": "display_data"
    }
   ],
   "source": [
    "plt.plot(x,y,'r')\n",
    "plt.show()"
   ]
  },
  {
   "cell_type": "markdown",
   "metadata": {},
   "source": [
    "###### 1.1.3.2 Object-based API\n",
    "\n",
    "In case of the object-based API, `.plot` is actually an attribute of `ax`."
   ]
  },
  {
   "cell_type": "code",
   "execution_count": 78,
   "metadata": {},
   "outputs": [
    {
     "data": {
      "image/png": "[encoded data removed]",
      "text/plain": [
       "<Figure size 720x432 with 1 Axes>"
      ]
     },
     "metadata": {
      "needs_background": "light"
     },
     "output_type": "display_data"
    }
   ],
   "source": [
    "fig, ax = plt.subplots()\n",
    "ax.plot(x, y, 'b.-', label='Parabola')\n",
    "ax.legend()\n",
    "plt.show()"
   ]
  },
  {
   "cell_type": "markdown",
   "metadata": {},
   "source": [
    "You can also include e.g. Greek letters or match in the legend using LaTeX syntax."
   ]
  },
  {
   "cell_type": "code",
   "execution_count": 79,
   "metadata": {},
   "outputs": [
    {
     "data": {
      "image/png": "[encoded data removed]",
      "text/plain": [
       "<Figure size 720x432 with 1 Axes>"
      ]
     },
     "metadata": {
      "needs_background": "light"
     },
     "output_type": "display_data"
    }
   ],
   "source": [
    "fig, ax = plt.subplots()\n",
    "ax.plot(x, y, 'g--', label='$ β=x^2$')\n",
    "ax.legend()\n",
    "plt.show()"
   ]
  },
  {
   "cell_type": "markdown",
   "metadata": {},
   "source": [
    "###### 1.1.3.3 Matplotlib and Pandas\n",
    "\n",
    "Pandas objects have methods and attributes that allow for plotting data directly and work through Matplotlib. Recalling our Twitter data from before, we can for example plot a scatter plot that relates the number of retweets to the number of followers."
   ]
  },
  {
   "cell_type": "code",
   "execution_count": 80,
   "metadata": {},
   "outputs": [
    {
     "data": {
      "image/png": "[encoded data removed]",
      "text/plain": [
       "<Figure size 720x432 with 1 Axes>"
      ]
     },
     "metadata": {
      "needs_background": "light"
     },
     "output_type": "display_data"
    }
   ],
   "source": [
    "ax = df_short.plot.scatter(x='followers',y='retweets')\n",
    "plt.show()"
   ]
  },
  {
   "cell_type": "markdown",
   "metadata": {},
   "source": [
    "Or we can plot the number of retweets across time. This plot is of course only for illustration purposes."
   ]
  },
  {
   "cell_type": "code",
   "execution_count": 81,
   "metadata": {},
   "outputs": [
    {
     "data": {
      "image/png": "[encoded data removed]",
      "text/plain": [
       "<Figure size 720x432 with 1 Axes>"
      ]
     },
     "metadata": {
      "needs_background": "light"
     },
     "output_type": "display_data"
    }
   ],
   "source": [
    "ax = df_short['retweets'].plot()\n",
    "plt.show()"
   ]
  },
  {
   "cell_type": "markdown",
   "metadata": {},
   "source": [
    "### 1.2 Loops & If-statements\n",
    "###### 1.2.1 Loops\n",
    "\n",
    "An important part of any programming language are loops. Two important classes of loops are `for` and `while` loops.\n",
    "\n",
    "An example of a `for` loop is:\n"
   ]
  },
  {
   "cell_type": "code",
   "execution_count": 82,
   "metadata": {
    "scrolled": true
   },
   "outputs": [
    {
     "data": {
      "text/plain": [
       "array([[0.10007532],\n",
       "       [0.23878336],\n",
       "       [0.33287825],\n",
       "       [0.69750479],\n",
       "       [0.13612804],\n",
       "       [0.12954064],\n",
       "       [0.59594336],\n",
       "       [0.79097081],\n",
       "       [0.84028394],\n",
       "       [0.92603287],\n",
       "       [0.46486783],\n",
       "       [0.46825779],\n",
       "       [0.06007244],\n",
       "       [0.83526739],\n",
       "       [0.11132469],\n",
       "       [0.68093138],\n",
       "       [0.55523248],\n",
       "       [0.27196122],\n",
       "       [0.25597712],\n",
       "       [0.64234613]])"
      ]
     },
     "execution_count": 82,
     "metadata": {},
     "output_type": "execute_result"
    }
   ],
   "source": [
    "n = 100\n",
    "x = np.empty([n,1])\n",
    "\n",
    "for i in range(0,n):\n",
    "    x[i] = np.random.rand(1)\n",
    "\n",
    "x[0:20] # only show first 20 elements"
   ]
  },
  {
   "cell_type": "markdown",
   "metadata": {},
   "source": [
    "Here we iterate over an empty array with 100 rows and replace each element with a random draw. We can achieve the same result by using a `while` loop. In this case we need to initialize the running index `i` and increase it every iteration of the loop by 1. "
   ]
  },
  {
   "cell_type": "code",
   "execution_count": 83,
   "metadata": {},
   "outputs": [
    {
     "data": {
      "text/plain": [
       "array([[0.48911189],\n",
       "       [0.21824432],\n",
       "       [0.71813203],\n",
       "       [0.72815234],\n",
       "       [0.65723238],\n",
       "       [0.82083482],\n",
       "       [0.58097077],\n",
       "       [0.98242806],\n",
       "       [0.20637054],\n",
       "       [0.39386918],\n",
       "       [0.22162667],\n",
       "       [0.13971943],\n",
       "       [0.66478126],\n",
       "       [0.24850991],\n",
       "       [0.74625216],\n",
       "       [0.59788676],\n",
       "       [0.10568828],\n",
       "       [0.29715172],\n",
       "       [0.7873595 ],\n",
       "       [0.52015594]])"
      ]
     },
     "execution_count": 83,
     "metadata": {},
     "output_type": "execute_result"
    }
   ],
   "source": [
    "x = np.empty([n,1])\n",
    "\n",
    "i = 0\n",
    "while i < n:\n",
    "    x[i] = np.random.rand(1)\n",
    "    i += 1 \n",
    "    \n",
    "x[0:20] # only show first 20 elements"
   ]
  },
  {
   "cell_type": "markdown",
   "metadata": {},
   "source": [
    "Loops can also directly be used in line like this:"
   ]
  },
  {
   "cell_type": "code",
   "execution_count": 84,
   "metadata": {},
   "outputs": [
    {
     "data": {
      "text/plain": [
       "['I study economics',\n",
       " 'I study business administration',\n",
       " 'I study business analytics']"
      ]
     },
     "execution_count": 84,
     "metadata": {},
     "output_type": "execute_result"
    }
   ],
   "source": [
    "x = ['economics', 'business administration', 'business analytics']\n",
    "z = [\"I study \" + i for i in x]\n",
    "z"
   ]
  },
  {
   "cell_type": "markdown",
   "metadata": {},
   "source": [
    "Take a minute to make sure that you understand the concept.\n",
    "\n",
    "Two useful features are `zip()` and `enumerate()`. The former, as the name suggests, ties multiple objects together and allows for simultaneous iteration. The latter allows generating an index while iterating over e.g. a list. Let's briefly look at these in turn."
   ]
  },
  {
   "cell_type": "code",
   "execution_count": 85,
   "metadata": {},
   "outputs": [
    {
     "name": "stdout",
     "output_type": "stream",
     "text": [
      "100 students study economics\n",
      "200 students study business administration\n",
      "50 students study business analytics\n"
     ]
    }
   ],
   "source": [
    "y = [100, 200, 50]\n",
    "\n",
    "# iterate over elements of y and x simultaneously using zip\n",
    "for subject, number in zip(x,y):\n",
    "    print(f'{number} students study {subject}')"
   ]
  },
  {
   "cell_type": "code",
   "execution_count": 86,
   "metadata": {},
   "outputs": [
    {
     "name": "stdout",
     "output_type": "stream",
     "text": [
      "0 economics\n",
      "1 business administration\n",
      "2 business analytics\n"
     ]
    }
   ],
   "source": [
    "# use enumerate to retain the index of elements in x\n",
    "for i, subject in enumerate(x):\n",
    "    print(i,subject)"
   ]
  },
  {
   "cell_type": "markdown",
   "metadata": {},
   "source": [
    "###### 1.2.2 If-statements\n",
    "\n",
    "Similarly to logical operators, if statements allow for checking conditions. Let's combine them with a loop to see how they work."
   ]
  },
  {
   "cell_type": "code",
   "execution_count": 87,
   "metadata": {},
   "outputs": [
    {
     "data": {
      "text/plain": [
       "array([[-1.],\n",
       "       [-1.],\n",
       "       [-1.],\n",
       "       [-1.],\n",
       "       [ 1.],\n",
       "       [-1.],\n",
       "       [-1.],\n",
       "       [ 1.],\n",
       "       [-1.],\n",
       "       [-1.],\n",
       "       [-1.],\n",
       "       [ 1.],\n",
       "       [-1.],\n",
       "       [ 1.],\n",
       "       [-1.],\n",
       "       [ 1.],\n",
       "       [ 1.],\n",
       "       [-1.],\n",
       "       [ 1.],\n",
       "       [ 1.]])"
      ]
     },
     "execution_count": 87,
     "metadata": {},
     "output_type": "execute_result"
    }
   ],
   "source": [
    "n = 100\n",
    "x = np.empty([n,1])\n",
    "\n",
    "for i in range(0,n):\n",
    "    e = np.random.randn(1)\n",
    "    if e < 0:\n",
    "        x[i] = -1\n",
    "    elif e > 0:\n",
    "        x[i] = 1\n",
    "    else:\n",
    "        x[i] = 0\n",
    "    \n",
    "x[0:20] # only show first 20 elements"
   ]
  },
  {
   "cell_type": "markdown",
   "metadata": {},
   "source": [
    "Here I use `if` to specify an initial condition. If this condition, `e<0`, is met `x` takes the value `-1`. Then I use `elif` to specify a second conditions that results in a different value for x. Lastly, I use `else` to specify what is supposed to happen in all remaining cases."
   ]
  },
  {
   "cell_type": "markdown",
   "metadata": {},
   "source": [
    "### 1.3 Functions\n",
    "\n",
    "Functions are another essential piece of (almost) any programming language. They allow for the automation of certain tasks and thus help avoid that code is repeated unnecessarily. They are hence an essential ingredient for efficient code. \n",
    "\n",
    "We will extensively use functions in the upcoming homework problems and tutorials. So please make sure that you understand the concept. Here I will present a brief refresher of the basic syntax. \n",
    "\n",
    "Let's recycle the `for` loop from above and wrap it into a function. Generally, functions start with the `def` statement: "
   ]
  },
  {
   "cell_type": "code",
   "execution_count": 88,
   "metadata": {},
   "outputs": [],
   "source": [
    "def generate_random(n):\n",
    "    x = np.empty([n,1])\n",
    "\n",
    "    for i in range(0,n):\n",
    "        x[i] = np.random.rand(1)\n",
    "    return x"
   ]
  },
  {
   "cell_type": "markdown",
   "metadata": {},
   "source": [
    "Note that `n` is now an input argument. This allows for generating many different `x` with different length, without having to repeat the code. Let's call the function."
   ]
  },
  {
   "cell_type": "code",
   "execution_count": 89,
   "metadata": {},
   "outputs": [
    {
     "data": {
      "text/plain": [
       "200"
      ]
     },
     "execution_count": 89,
     "metadata": {},
     "output_type": "execute_result"
    }
   ],
   "source": [
    "X = generate_random(200) # generate X with length 200\n",
    "len(X)"
   ]
  },
  {
   "cell_type": "code",
   "execution_count": 90,
   "metadata": {},
   "outputs": [
    {
     "data": {
      "text/plain": [
       "500"
      ]
     },
     "execution_count": 90,
     "metadata": {},
     "output_type": "execute_result"
    }
   ],
   "source": [
    "X = generate_random(500) # generate X with length 500\n",
    "len(X)"
   ]
  },
  {
   "cell_type": "markdown",
   "metadata": {},
   "source": [
    "Another useful feature are so-called one-line or `lambda` functions. Let's first write a simple function that we then translate into a one-line function."
   ]
  },
  {
   "cell_type": "code",
   "execution_count": 91,
   "metadata": {},
   "outputs": [],
   "source": [
    "def f(x):\n",
    "    return (x+2)**2"
   ]
  },
  {
   "cell_type": "code",
   "execution_count": 92,
   "metadata": {},
   "outputs": [
    {
     "data": {
      "text/plain": [
       "16"
      ]
     },
     "execution_count": 92,
     "metadata": {},
     "output_type": "execute_result"
    }
   ],
   "source": [
    "f(2)"
   ]
  },
  {
   "cell_type": "markdown",
   "metadata": {},
   "source": [
    "As a `lambda` function this looks like this:"
   ]
  },
  {
   "cell_type": "code",
   "execution_count": 93,
   "metadata": {},
   "outputs": [],
   "source": [
    "f = lambda x: (x+2)**2"
   ]
  },
  {
   "cell_type": "code",
   "execution_count": 94,
   "metadata": {},
   "outputs": [
    {
     "data": {
      "text/plain": [
       "16"
      ]
     },
     "execution_count": 94,
     "metadata": {},
     "output_type": "execute_result"
    }
   ],
   "source": [
    "f(2)"
   ]
  },
  {
   "cell_type": "markdown",
   "metadata": {},
   "source": [
    "In the `lambda` case, we specify the variable after the keyword `lambda`. After the colon follows the body of the function. The definitions are hence entirely equivalent. "
   ]
  },
  {
   "cell_type": "markdown",
   "metadata": {},
   "source": [
    "### 1.4 Classes\n",
    "\n",
    "As a last section we cover classes. Classes are extremely useful and an essential part of Python's object oriented nature. Classes essentially exploit common structures and collect objects of the same type. Intuitively explained, they are a collection of functions that are regularly used on objects that are similar. Already in the second homework problem, we build a class that conducts OLS estimation. In this case, the data is the object with the common structure and the class collects many functions related to OLS estimation that can be applied to the data, such as hypothesis testing. It is hence extremely important that you develop and understanding for classes. \n",
    "\n",
    "Let's define a very simple class to understand the syntax. Classes generally start with the `class` keyword. The `__init__` method is a so-called constructor method and needs to show up at the beginning of every class. Here we also specify the initial input arguments. `self` holds all the information of the class. In a sense it is the object we actually define as belonging to the class. This will become clear in a second."
   ]
  },
  {
   "cell_type": "code",
   "execution_count": 95,
   "metadata": {},
   "outputs": [],
   "source": [
    "class Covid_transmission:\n",
    "    \n",
    "    def __init__(self, number_infected):\n",
    "        \"The number of people infected\"\n",
    "        self.number_infected = number_infected\n",
    "        \n",
    "    def r_rate(self, r = 2):\n",
    "        self.number_infected = self.number_infected * r\n",
    "        return self.number_infected\n",
    "        \n",
    "    def lockdown(self, weeks):\n",
    "        for i in range(0, weeks, 1):\n",
    "            self.r_rate(0.8)\n",
    "        return self.number_infected"
   ]
  },
  {
   "cell_type": "markdown",
   "metadata": {},
   "source": [
    "In this stylized example we build the `Covid_transmission` class. The idea is that the population starts with an initial value of infected people, `number_infected`. We then have the method `r_rate`, which governs the growth rate of the number of infected people over time. As a default value we set it to `2`. If a lockdown is imposed, the growth rate reduces to `0.8` immediately. `weeks` is an input argument that specifies the number of weeks the lockdown lasts. `lockdown` iterates on `r_rate` with `r=0.8` for the given number of `weeks`. The output is the number of infected people at the end of the lockdown. Let's put the class to the test."
   ]
  },
  {
   "cell_type": "code",
   "execution_count": 96,
   "metadata": {},
   "outputs": [
    {
     "data": {
      "text/plain": [
       "100000"
      ]
     },
     "execution_count": 96,
     "metadata": {},
     "output_type": "execute_result"
    }
   ],
   "source": [
    "# define CV, an object of class \"Covid_transmission\"\n",
    "CV = Covid_transmission(100000) # initial number of infected is 100000\n",
    "\n",
    "CV.number_infected"
   ]
  },
  {
   "cell_type": "markdown",
   "metadata": {},
   "source": [
    "Note that `CV` essentially takes the position of `self`. Let's now call `r_rate` and see what happens."
   ]
  },
  {
   "cell_type": "code",
   "execution_count": 97,
   "metadata": {},
   "outputs": [
    {
     "data": {
      "text/plain": [
       "200000"
      ]
     },
     "execution_count": 97,
     "metadata": {},
     "output_type": "execute_result"
    }
   ],
   "source": [
    "CV.r_rate()"
   ]
  },
  {
   "cell_type": "markdown",
   "metadata": {},
   "source": [
    "Since the default value is `2`, as expected the number of infected doubled. Let's call it again."
   ]
  },
  {
   "cell_type": "code",
   "execution_count": 98,
   "metadata": {},
   "outputs": [
    {
     "data": {
      "text/plain": [
       "400000"
      ]
     },
     "execution_count": 98,
     "metadata": {},
     "output_type": "execute_result"
    }
   ],
   "source": [
    "CV.r_rate()"
   ]
  },
  {
   "cell_type": "markdown",
   "metadata": {},
   "source": [
    "As you can see, the current/new value of the number of infected is retained. It is stored in `CV.number_infected`. Let's now impose a lockdown lasting 8 weeks and see what happens."
   ]
  },
  {
   "cell_type": "code",
   "execution_count": 99,
   "metadata": {},
   "outputs": [
    {
     "data": {
      "text/plain": [
       "67108.86400000002"
      ]
     },
     "execution_count": 99,
     "metadata": {},
     "output_type": "execute_result"
    }
   ],
   "source": [
    "CV.lockdown(8)"
   ]
  },
  {
   "cell_type": "markdown",
   "metadata": {},
   "source": [
    "The number of infected people dropped to `67109`. Finally, let's check whether the result is correct:"
   ]
  },
  {
   "cell_type": "code",
   "execution_count": 100,
   "metadata": {},
   "outputs": [
    {
     "data": {
      "text/plain": [
       "67108.86400000003"
      ]
     },
     "execution_count": 100,
     "metadata": {},
     "output_type": "execute_result"
    }
   ],
   "source": [
    "400000*0.8**8"
   ]
  },
  {
   "cell_type": "markdown",
   "metadata": {},
   "source": [
    "Please take a minute to think about how classes work. "
   ]
  },
  {
   "cell_type": "code",
   "execution_count": null,
   "metadata": {},
   "outputs": [],
   "source": []
  }
 ],
 "metadata": {
  "@webio": {
   "lastCommId": null,
   "lastKernelId": null
  },
  "kernelspec": {
   "display_name": "Python 3",
   "language": "python",
   "name": "python3"
  },
  "language_info": {
   "codemirror_mode": {
    "name": "ipython",
    "version": 3
   },
   "file_extension": ".py",
   "mimetype": "text/x-python",
   "name": "python",
   "nbconvert_exporter": "python",
   "pygments_lexer": "ipython3",
   "version": "3.8.3"
  }
 },
 "nbformat": 4,
 "nbformat_minor": 4
}

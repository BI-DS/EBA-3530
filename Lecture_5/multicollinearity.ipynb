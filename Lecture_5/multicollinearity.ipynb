{
  "nbformat": 4,
  "nbformat_minor": 0,
  "metadata": {
    "colab": {
      "provenance": [],
      "authorship_tag": "ABX9TyPJFU7A9dkwEJ/nPWJ1aPvX",
      "include_colab_link": true
    },
    "kernelspec": {
      "name": "python3",
      "display_name": "Python 3"
    },
    "language_info": {
      "name": "python"
    }
  },
  "cells": [
    {
      "cell_type": "markdown",
      "metadata": {
        "id": "view-in-github",
        "colab_type": "text"
      },
      "source": [
        "<a href=\"https://colab.research.google.com/github/BI-DS/EBA-3530/blob/main/Lecture_5/multicollinearity.ipynb\" target=\"_parent\"><img src=\"https://colab.research.google.com/assets/colab-badge.svg\" alt=\"Open In Colab\"/></a>"
      ]
    },
    {
      "cell_type": "code",
      "execution_count": 1,
      "metadata": {
        "id": "mj5vWffrrd0v"
      },
      "outputs": [],
      "source": [
        "import numpy as np\n",
        "import statsmodels.api as sm"
      ]
    },
    {
      "cell_type": "markdown",
      "source": [
        "# Multicollinearity\n",
        "Let's simulate some data to see the effect of multicollinearity and how can we solve a wrongly specified design matrix."
      ],
      "metadata": {
        "id": "cYW_5saA1W6P"
      }
    },
    {
      "cell_type": "code",
      "source": [
        "# Number of observations for each category\n",
        "Nk = 30\n",
        "\n",
        "# Number of categories\n",
        "K = 3\n",
        "\n",
        "# Total number of observations\n",
        "N = Nk*K\n",
        "\n",
        "#% Construct a x matrix with dummy variables (zero one vectors).\n",
        "x = np.zeros((N, K + 1)) # N obversvations in total. K categories & intercept\n",
        "x[:,0] = np.ones(N) # Add the intercept\n",
        "\n",
        "# Loop in the dummies\n",
        "xo = np.ones(Nk)\n",
        "cnt = 0\n",
        "\n",
        "# the first column is the intercept in the regression\n",
        "# the second column a dummy variable for the first category, etc.\n",
        "for i in range(K):\n",
        "  x[cnt:Nk+cnt,i+1] = xo\n",
        "  cnt = cnt + Nk"
      ],
      "metadata": {
        "id": "VIk0Ll5IriSt"
      },
      "execution_count": 2,
      "outputs": []
    },
    {
      "cell_type": "markdown",
      "source": [
        "What is the problem with x?"
      ],
      "metadata": {
        "id": "OMq5BgiYMRbd"
      }
    },
    {
      "cell_type": "code",
      "source": [
        "print(np.sum(x[:,1:],axis=1))"
      ],
      "metadata": {
        "colab": {
          "base_uri": "https://localhost:8080/"
        },
        "id": "L6Vl6s1IMVx3",
        "outputId": "3580437a-24ef-42e4-a753-6b77b4c8a394"
      },
      "execution_count": 12,
      "outputs": [
        {
          "output_type": "stream",
          "name": "stdout",
          "text": [
            "[1. 1. 1. 1. 1. 1. 1. 1. 1. 1. 1. 1. 1. 1. 1. 1. 1. 1. 1. 1. 1. 1. 1. 1.\n",
            " 1. 1. 1. 1. 1. 1. 1. 1. 1. 1. 1. 1. 1. 1. 1. 1. 1. 1. 1. 1. 1. 1. 1. 1.\n",
            " 1. 1. 1. 1. 1. 1. 1. 1. 1. 1. 1. 1. 1. 1. 1. 1. 1. 1. 1. 1. 1. 1. 1. 1.\n",
            " 1. 1. 1. 1. 1. 1. 1. 1. 1. 1. 1. 1. 1. 1. 1. 1. 1. 1.]\n"
          ]
        }
      ]
    },
    {
      "cell_type": "code",
      "source": [
        "# Let y be a function of some random noise + intercept. AND, let the true\n",
        "# dummy for the thirs category be zero. This means that the first category\n",
        "# has the same intercept as the intercept itself.\n",
        "beta = np.array([10, 5, -5, 0])\n",
        "\n",
        "# y = x'*beta will give\n",
        "# y_1 = 10 + 5  = 15 for category 1\n",
        "# y_2 = 10 - 5  = 5  for category 2\n",
        "# y_3 = 10      = 10 for category 3\n",
        "# But we also add some noise\n",
        "y = np.dot(x,beta) + np.random.normal(size=(N))"
      ],
      "metadata": {
        "id": "LkQ6en8Rtqt5"
      },
      "execution_count": 3,
      "outputs": []
    },
    {
      "cell_type": "code",
      "source": [
        "model = sm.OLS(y,x).fit()\n",
        "print(model.summary())"
      ],
      "metadata": {
        "id": "2OpqwfNIsUeo",
        "colab": {
          "base_uri": "https://localhost:8080/"
        },
        "outputId": "dcd001e6-91ef-4f13-ae8b-126dd567e625"
      },
      "execution_count": null,
      "outputs": [
        {
          "output_type": "stream",
          "name": "stdout",
          "text": [
            "                            OLS Regression Results                            \n",
            "==============================================================================\n",
            "Dep. Variable:                      y   R-squared:                       0.951\n",
            "Model:                            OLS   Adj. R-squared:                  0.950\n",
            "Method:                 Least Squares   F-statistic:                     847.1\n",
            "Date:                Wed, 22 Feb 2023   Prob (F-statistic):           9.19e-58\n",
            "Time:                        12:26:13   Log-Likelihood:                -119.42\n",
            "No. Observations:                  90   AIC:                             244.8\n",
            "Df Residuals:                      87   BIC:                             252.3\n",
            "Df Model:                           2                                         \n",
            "Covariance Type:            nonrobust                                         \n",
            "==============================================================================\n",
            "                 coef    std err          t      P>|t|      [0.025      0.975]\n",
            "------------------------------------------------------------------------------\n",
            "const          7.4747      0.073    101.924      0.000       7.329       7.620\n",
            "x1             7.4090      0.140     52.761      0.000       7.130       7.688\n",
            "x2            -2.4493      0.140    -17.442      0.000      -2.728      -2.170\n",
            "x3             2.5149      0.140     17.909      0.000       2.236       2.794\n",
            "==============================================================================\n",
            "Omnibus:                        3.596   Durbin-Watson:                   1.960\n",
            "Prob(Omnibus):                  0.166   Jarque-Bera (JB):                3.918\n",
            "Skew:                          -0.077   Prob(JB):                        0.141\n",
            "Kurtosis:                       4.010   Cond. No.                     8.94e+15\n",
            "==============================================================================\n",
            "\n",
            "Notes:\n",
            "[1] Standard Errors assume that the covariance matrix of the errors is correctly specified.\n",
            "[2] The smallest eigenvalue is 1.5e-30. This might indicate that there are\n",
            "strong multicollinearity problems or that the design matrix is singular.\n"
          ]
        }
      ]
    },
    {
      "cell_type": "markdown",
      "source": [
        "**See the warning message!** The regression is rank deficient,\n",
        "mening that the variables in x are linear combination of each other. In particular, we know from above that `np.sum(x[:,1:],1)=1`, i.e., all columns sum to 1, which is the same as `x[:,0]` (the intercept)\n"
      ],
      "metadata": {
        "id": "S87dhcRSvfWI"
      }
    },
    {
      "cell_type": "markdown",
      "source": [
        "**Dropping the 1st category**"
      ],
      "metadata": {
        "id": "b4HBYbyWwfVs"
      }
    },
    {
      "cell_type": "code",
      "source": [
        "model = sm.OLS(y,x[:,[0,2,3]]).fit()\n",
        "print(model.summary())"
      ],
      "metadata": {
        "id": "-oUfCakpwqEO",
        "colab": {
          "base_uri": "https://localhost:8080/"
        },
        "outputId": "3d175321-e4d5-4e1e-a049-a6da9dfd3553"
      },
      "execution_count": 6,
      "outputs": [
        {
          "output_type": "stream",
          "name": "stdout",
          "text": [
            "                            OLS Regression Results                            \n",
            "==============================================================================\n",
            "Dep. Variable:                      y   R-squared:                       0.945\n",
            "Model:                            OLS   Adj. R-squared:                  0.944\n",
            "Method:                 Least Squares   F-statistic:                     748.6\n",
            "Date:                Wed, 13 Mar 2024   Prob (F-statistic):           1.50e-55\n",
            "Time:                        09:35:28   Log-Likelihood:                -130.18\n",
            "No. Observations:                  90   AIC:                             266.4\n",
            "Df Residuals:                      87   BIC:                             273.9\n",
            "Df Model:                           2                                         \n",
            "Covariance Type:            nonrobust                                         \n",
            "==============================================================================\n",
            "                 coef    std err          t      P>|t|      [0.025      0.975]\n",
            "------------------------------------------------------------------------------\n",
            "const         15.0089      0.191     78.629      0.000      14.630      15.388\n",
            "x1           -10.4448      0.270    -38.692      0.000     -10.981      -9.908\n",
            "x2            -5.1297      0.270    -19.002      0.000      -5.666      -4.593\n",
            "==============================================================================\n",
            "Omnibus:                        1.422   Durbin-Watson:                   2.371\n",
            "Prob(Omnibus):                  0.491   Jarque-Bera (JB):                0.873\n",
            "Skew:                          -0.054   Prob(JB):                        0.646\n",
            "Kurtosis:                       3.470   Cond. No.                         3.73\n",
            "==============================================================================\n",
            "\n",
            "Notes:\n",
            "[1] Standard Errors assume that the covariance matrix of the errors is correctly specified.\n"
          ]
        }
      ]
    },
    {
      "cell_type": "markdown",
      "source": [
        "Remember the true beta is `[10 5 -5 0]` for the intercept, cat1, cat2, and cat3, respectively. Notice that the estimated parameters for cat2 and cat3 are relative to cat1, i.e. beta[2] - beta[1] = -10 and beta[4] - beta[1] = -5. **Just as the estimated coefficients above!**"
      ],
      "metadata": {
        "id": "pahu4t4bxgmK"
      }
    },
    {
      "cell_type": "markdown",
      "source": [
        "Remember that\n",
        "* $y_1 = 10 + 5 \\rightarrow 15$\n",
        "* $y_2 = 10 -5 \\rightarrow 5$\n",
        "* $y_3 = 10  \\rightarrow 10$\n",
        "\n",
        "Let's double check..."
      ],
      "metadata": {
        "id": "vl2B2Uemzqg5"
      }
    },
    {
      "cell_type": "code",
      "source": [
        "print('Estimate category 1 is {:.1f}'.format(model.params[0]))\n",
        "print('Estimate category 2 is {:.1f}'.format(model.params[0]+model.params[1]))\n",
        "print('Estimate category 3 is {:.1f}'.format(model.params[0]+model.params[2]))"
      ],
      "metadata": {
        "colab": {
          "base_uri": "https://localhost:8080/"
        },
        "id": "l_exD7Sqwusk",
        "outputId": "e060e5e8-870c-49bc-9426-80869d30e42c"
      },
      "execution_count": 7,
      "outputs": [
        {
          "output_type": "stream",
          "name": "stdout",
          "text": [
            "Estimate category 1 is 15.0\n",
            "Estimate category 2 is 4.6\n",
            "Estimate category 3 is 9.9\n"
          ]
        }
      ]
    },
    {
      "cell_type": "markdown",
      "source": [
        "Now try a **lasso** model"
      ],
      "metadata": {
        "id": "bOuCGBEv2IS7"
      }
    },
    {
      "cell_type": "code",
      "source": [
        "from sklearn.linear_model import LassoCV\n",
        "\n",
        "# define the LassoCV object\n",
        "Lasso = LassoCV(cv=5, fit_intercept=False).fit(x,y.ravel())"
      ],
      "metadata": {
        "id": "EHg9yWH30YnV"
      },
      "execution_count": 8,
      "outputs": []
    },
    {
      "cell_type": "markdown",
      "source": [
        "Print lasso coefficients ..."
      ],
      "metadata": {
        "id": "P52Lhd6f23vy"
      }
    },
    {
      "cell_type": "code",
      "source": [
        "print('Lasso estimated intercept is {:.1f}'.format(Lasso.intercept_))\n",
        "print('Lasso estimated coefficients are {}'.format(np.round(Lasso.coef_,1)))"
      ],
      "metadata": {
        "colab": {
          "base_uri": "https://localhost:8080/"
        },
        "id": "diKfXDTG15NL",
        "outputId": "4ea3dde4-6596-4923-a075-b89aec44e1ae"
      },
      "execution_count": 9,
      "outputs": [
        {
          "output_type": "stream",
          "name": "stdout",
          "text": [
            "Lasso estimated intercept is 0.0\n",
            "Lasso estimated coefficients are [ 9.8  5.1 -5.2  0. ]\n"
          ]
        }
      ]
    },
    {
      "cell_type": "code",
      "source": [],
      "metadata": {
        "id": "YEll71adoQkp"
      },
      "execution_count": null,
      "outputs": []
    }
  ]
}